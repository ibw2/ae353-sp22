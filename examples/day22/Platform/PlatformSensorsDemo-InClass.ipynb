{
 "cells": [
  {
   "cell_type": "markdown",
   "id": "a35a85e5",
   "metadata": {},
   "source": [
    "# Control platform angle with full state feedback"
   ]
  },
  {
   "cell_type": "markdown",
   "id": "443801f8",
   "metadata": {},
   "source": [
    "Do all imports:"
   ]
  },
  {
   "cell_type": "code",
   "execution_count": null,
   "id": "be198884",
   "metadata": {},
   "outputs": [],
   "source": [
    "# These are standard modules\n",
    "import time\n",
    "import numpy as np\n",
    "from scipy import linalg\n",
    "from scipy import signal\n",
    "import sympy as sym\n",
    "import matplotlib.pyplot as plt\n",
    "from IPython.display import display, Latex, Markdown\n",
    "\n",
    "# This is a custom interface to the pybullet simulator\n",
    "import ae353_platform\n",
    "\n",
    "# Suppress the use of scientific notation when printing small numbers\n",
    "np.set_printoptions(suppress=True)"
   ]
  },
  {
   "cell_type": "markdown",
   "id": "64d907e7",
   "metadata": {},
   "source": [
    "Create an instance of the simulator (do `Kernel -> Restart` before evaluating this cell)."
   ]
  },
  {
   "cell_type": "code",
   "execution_count": null,
   "id": "857ef5f7",
   "metadata": {},
   "outputs": [],
   "source": [
    "simulator = ae353_platform.Simulator(\n",
    "    display=True,\n",
    "    roll=0.,\n",
    ")"
   ]
  },
  {
   "cell_type": "markdown",
   "id": "3a4ed7b3",
   "metadata": {},
   "source": [
    "Define equilibrium point and state-space model."
   ]
  },
  {
   "cell_type": "code",
   "execution_count": null,
   "id": "c47e14ab",
   "metadata": {},
   "outputs": [],
   "source": [
    "# Equilibrium point\n",
    "(q1e, v1e, taue) = (np.pi / 6, 0., 0.)\n",
    "\n",
    "# State-space model\n",
    "A = np.array([[0., 1.], [0., 0.]])\n",
    "B = np.array([[0.], [1.]])\n",
    "print(f'A =\\n{A}\\n\\nB =\\n{B}')"
   ]
  },
  {
   "cell_type": "markdown",
   "id": "0077b270",
   "metadata": {},
   "source": [
    "Design controller."
   ]
  },
  {
   "cell_type": "code",
   "execution_count": null,
   "id": "9215c06b",
   "metadata": {},
   "outputs": [],
   "source": [
    "# Eigenvalue placement\n",
    "K = signal.place_poles(A, B, [-2., -5.]).gain_matrix\n",
    "print(f'K =\\n{K}\\n')"
   ]
  },
  {
   "cell_type": "markdown",
   "id": "4b77f844",
   "metadata": {},
   "source": [
    "Implement controller."
   ]
  },
  {
   "cell_type": "code",
   "execution_count": null,
   "id": "cd4ee4a8",
   "metadata": {},
   "outputs": [],
   "source": [
    "class Controller:\n",
    "    def __init__(self, K, q1e, v1e, taue):\n",
    "        self.K = K\n",
    "        self.q1e = q1e\n",
    "        self.v1e = v1e\n",
    "        self.taue = taue\n",
    "    \n",
    "    def reset(self):\n",
    "        pass\n",
    "    \n",
    "    def run(\n",
    "            self,\n",
    "            t,\n",
    "            platform_angle,\n",
    "            platform_velocity,\n",
    "            wheel_angle,\n",
    "            wheel_velocity,\n",
    "        ):\n",
    "        \n",
    "        # Get state\n",
    "        x = np.array([\n",
    "            platform_angle - self.q1e,\n",
    "            platform_velocity - self.v1e,\n",
    "        ])\n",
    "        \n",
    "        # Get input\n",
    "        u = - self.K @ x\n",
    "        \n",
    "        # Get torque\n",
    "        tau = u[0]\n",
    "        \n",
    "        # Get and return actuator command\n",
    "        wheel_torque = -tau\n",
    "        return wheel_torque"
   ]
  },
  {
   "cell_type": "markdown",
   "id": "08c2f0bb",
   "metadata": {},
   "source": [
    "Test controller in simulation."
   ]
  },
  {
   "cell_type": "code",
   "execution_count": null,
   "id": "5e2da8b2",
   "metadata": {},
   "outputs": [],
   "source": [
    "# Create controller\n",
    "controller = Controller(K, q1e, v1e, taue)\n",
    "\n",
    "# Choose initial conditions\n",
    "(q1i, v1i) = (0., 0.)\n",
    "\n",
    "# Reset simulator\n",
    "simulator.reset(\n",
    "    platform_angle=q1i,\n",
    "    platform_velocity=v1i,\n",
    "    wheel_angle=0.,\n",
    "    wheel_velocity=0.,\n",
    ")\n",
    "\n",
    "# Reset controller\n",
    "controller.reset()\n",
    "\n",
    "# Run simulator\n",
    "data = simulator.run(\n",
    "    controller,\n",
    "    max_time=10.,\n",
    ")"
   ]
  },
  {
   "cell_type": "markdown",
   "id": "96a0f0de",
   "metadata": {},
   "source": [
    "Show results."
   ]
  },
  {
   "cell_type": "code",
   "execution_count": null,
   "id": "486cecfe",
   "metadata": {},
   "outputs": [],
   "source": [
    "t = data['t']\n",
    "q1 = data['platform_angle']\n",
    "v1 = data['platform_velocity']\n",
    "tau = - data['wheel_torque']\n",
    "x1 = q1 - q1e\n",
    "x2 = v1 - v1e\n",
    "\n",
    "fig, (ax_x1, ax_x2, ax_tau) = plt.subplots(3, 1, figsize=(10, 8), sharex=True)\n",
    "\n",
    "ax_x1.plot(t, x1, label='$x_1$', linewidth=4)\n",
    "\n",
    "ax_x2.plot(t, x2, label='$x_2$', linewidth=4)\n",
    "\n",
    "ax_tau.plot(t, tau, label=r'$\\tau$', linewidth=4)\n",
    "ax_tau.plot(t, simulator.tau_max * np.ones_like(t), '--', linewidth=4, color='C1')\n",
    "ax_tau.plot(t, - simulator.tau_max * np.ones_like(t), '--', linewidth=4, color='C1')\n",
    "\n",
    "ax_x1.grid()\n",
    "ax_x1.legend(fontsize=16, loc='upper right')\n",
    "ax_x1.tick_params(labelsize=14)\n",
    "ax_x1.set_ylim(-1, 1)\n",
    "\n",
    "ax_x2.grid()\n",
    "ax_x2.legend(fontsize=16, loc='upper right')\n",
    "ax_x2.tick_params(labelsize=14)\n",
    "ax_x2.set_ylim(-1, 1)\n",
    "\n",
    "ax_tau.grid()\n",
    "ax_tau.legend(fontsize=16, loc='upper right')\n",
    "ax_tau.tick_params(labelsize=14)\n",
    "ax_tau.set_ylim(-1.2 * simulator.tau_max, 1.2 * simulator.tau_max)\n",
    "\n",
    "ax_tau.set_xlabel('time (s)', fontsize=20)\n",
    "ax_tau.set_xlim([data['t'][0], data['t'][-1]])\n",
    "\n",
    "fig.tight_layout()\n",
    "plt.show()"
   ]
  },
  {
   "cell_type": "markdown",
   "id": "middle-acoustic",
   "metadata": {},
   "source": [
    "# Control platform angle with partial state feedback (linear sensor model)"
   ]
  },
  {
   "cell_type": "markdown",
   "id": "25407b50",
   "metadata": {},
   "source": [
    "Do all imports:"
   ]
  },
  {
   "cell_type": "code",
   "execution_count": 1,
   "id": "64c3e2ba",
   "metadata": {},
   "outputs": [
    {
     "name": "stderr",
     "output_type": "stream",
     "text": [
      "pybullet build time: Dec 10 2021 09:55:58\n"
     ]
    }
   ],
   "source": [
    "# These are standard modules\n",
    "import time\n",
    "import numpy as np\n",
    "from scipy import linalg\n",
    "from scipy import signal\n",
    "import sympy as sym\n",
    "import matplotlib.pyplot as plt\n",
    "from IPython.display import display, Latex, Markdown\n",
    "\n",
    "# This is a custom interface to the pybullet simulator\n",
    "import ae353_platform_sensors\n",
    "\n",
    "# Suppress the use of scientific notation when printing small numbers\n",
    "np.set_printoptions(suppress=True)"
   ]
  },
  {
   "cell_type": "markdown",
   "id": "dde7fc13",
   "metadata": {},
   "source": [
    "Create an instance of the simulator (do `Kernel -> Restart` before evaluating this cell)."
   ]
  },
  {
   "cell_type": "code",
   "execution_count": 2,
   "id": "1a2d359e",
   "metadata": {},
   "outputs": [],
   "source": [
    "simulator = ae353_platform_sensors.Simulator(\n",
    "    display=True,\n",
    "    roll=0.,\n",
    "    sensor_noise=0.,\n",
    ")"
   ]
  },
  {
   "cell_type": "markdown",
   "id": "7f1cf50c",
   "metadata": {},
   "source": [
    "Define equilibrium point and state-space model."
   ]
  },
  {
   "cell_type": "code",
   "execution_count": 3,
   "id": "a4259e7c",
   "metadata": {},
   "outputs": [
    {
     "name": "stdout",
     "output_type": "stream",
     "text": [
      "A =\n",
      "[[0. 1.]\n",
      " [0. 0.]]\n",
      "\n",
      "B =\n",
      "[[0.]\n",
      " [1.]]\n",
      "\n",
      "C =\n",
      "[[1. 0.]]\n"
     ]
    }
   ],
   "source": [
    "# Equilibrium point\n",
    "(q1e, v1e, taue) = (np.pi / 6, 0., 0.)\n",
    "\n",
    "# State-space model (dynamics)\n",
    "A = np.array([[0., 1.], [0., 0.]])\n",
    "B = np.array([[0.], [1.]])\n",
    "print(f'A =\\n{A}\\n\\nB =\\n{B}')\n",
    "\n",
    "# State-space model (sensors)\n",
    "C = np.array([[1., 0.]])\n",
    "print(f'\\nC =\\n{C}')"
   ]
  },
  {
   "cell_type": "markdown",
   "id": "6d2ab0cc",
   "metadata": {},
   "source": [
    "Design controller."
   ]
  },
  {
   "cell_type": "code",
   "execution_count": 16,
   "id": "a29be6a5",
   "metadata": {},
   "outputs": [
    {
     "name": "stdout",
     "output_type": "stream",
     "text": [
      "K =\n",
      "[[5. 2.]]\n",
      "\n"
     ]
    }
   ],
   "source": [
    "# Eigenvalue placement\n",
    "K = signal.place_poles(A, B, [-1. + 2. * 1j, -1. - 2. * 1j]).gain_matrix\n",
    "print(f'K =\\n{K}\\n')"
   ]
  },
  {
   "cell_type": "markdown",
   "id": "c30fbcc0",
   "metadata": {},
   "source": [
    "Check that the system is observable."
   ]
  },
  {
   "cell_type": "code",
   "execution_count": 10,
   "id": "ac1876ae",
   "metadata": {},
   "outputs": [
    {
     "name": "stdout",
     "output_type": "stream",
     "text": [
      "[[1. 0.]\n",
      " [0. 1.]]\n"
     ]
    }
   ],
   "source": [
    "Wo = np.block([[C], [C @ A]])\n",
    "\n",
    "print(Wo)"
   ]
  },
  {
   "cell_type": "code",
   "execution_count": 11,
   "id": "9370ab73",
   "metadata": {},
   "outputs": [
    {
     "data": {
      "text/plain": [
       "2"
      ]
     },
     "execution_count": 11,
     "metadata": {},
     "output_type": "execute_result"
    }
   ],
   "source": [
    "np.linalg.matrix_rank(Wo)"
   ]
  },
  {
   "cell_type": "markdown",
   "id": "0d38ae6e",
   "metadata": {},
   "source": [
    "Design observer."
   ]
  },
  {
   "cell_type": "code",
   "execution_count": 17,
   "id": "d882f945",
   "metadata": {},
   "outputs": [
    {
     "name": "stdout",
     "output_type": "stream",
     "text": [
      "L =\n",
      "[[5.]\n",
      " [6.]]\n",
      "\n"
     ]
    }
   ],
   "source": [
    "# L = np.array([[10.], [1.]])\n",
    "\n",
    "# Eigenvalue placement\n",
    "L = signal.place_poles(A.T, C.T, [-2., -3.]).gain_matrix.T\n",
    "print(f'L =\\n{L}\\n')"
   ]
  },
  {
   "cell_type": "code",
   "execution_count": 18,
   "id": "814cc6eb",
   "metadata": {},
   "outputs": [
    {
     "name": "stdout",
     "output_type": "stream",
     "text": [
      "[[ 0.  1.  0.  0.]\n",
      " [-5. -2. -5. -2.]\n",
      " [ 0.  0. -5.  1.]\n",
      " [ 0.  0. -6.  0.]]\n"
     ]
    }
   ],
   "source": [
    "F = np.block([[A - B @ K, - B @ K],\n",
    "              [np.zeros((2, 2)), A - L @ C]])\n",
    "\n",
    "print(F)"
   ]
  },
  {
   "cell_type": "code",
   "execution_count": 19,
   "id": "072b5cfa",
   "metadata": {},
   "outputs": [
    {
     "name": "stdout",
     "output_type": "stream",
     "text": [
      "[-1.+2.j -1.-2.j -3.+0.j -2.+0.j]\n"
     ]
    }
   ],
   "source": [
    "print(linalg.eigvals(F))"
   ]
  },
  {
   "cell_type": "markdown",
   "id": "3d6c2a1e",
   "metadata": {},
   "source": [
    "Implement controller and observer."
   ]
  },
  {
   "cell_type": "code",
   "execution_count": 7,
   "id": "6ababdee",
   "metadata": {},
   "outputs": [],
   "source": [
    "class Controller:\n",
    "    def __init__(self, A, B, C, K, L, q1e, v1e, taue):\n",
    "        self.dt = 0.01\n",
    "        self.A = A\n",
    "        self.B = B\n",
    "        self.C = C\n",
    "        self.K = K\n",
    "        self.L = L\n",
    "        self.q1e = q1e\n",
    "        self.v1e = v1e\n",
    "        self.taue = taue\n",
    "        \n",
    "        self.variables_to_log = ['xhat']\n",
    "    \n",
    "    def reset(self):\n",
    "        self.xhat = np.array([0., 0.])\n",
    "    \n",
    "    def run(\n",
    "            self,\n",
    "            t,\n",
    "            platform_angle_measurement,\n",
    "        ):\n",
    "        \n",
    "        # Find input\n",
    "        u = - self.K @ self.xhat\n",
    "        \n",
    "        # Find measurement\n",
    "        y = np.array([platform_angle_measurement - q1e])\n",
    "        \n",
    "        # Find state estimate\n",
    "        self.xhat += self.dt * (self.A @ self.xhat + self.B @ u - self.L @ (self.C @ self.xhat - y))\n",
    "        \n",
    "        # Find actuator command\n",
    "        tau = u[0] + self.taue\n",
    "        \n",
    "        wheel_torque = -tau\n",
    "        return wheel_torque"
   ]
  },
  {
   "cell_type": "markdown",
   "id": "904dd439",
   "metadata": {},
   "source": [
    "Test controller *and observer* in simulation."
   ]
  },
  {
   "cell_type": "code",
   "execution_count": 8,
   "id": "b99848fd",
   "metadata": {},
   "outputs": [],
   "source": [
    "# Create controller\n",
    "controller = Controller(A, B, C, K, L, q1e, v1e, taue)\n",
    "\n",
    "# Choose initial conditions\n",
    "(q1i, v1i) = (0., 0.)\n",
    "\n",
    "# Reset simulator\n",
    "simulator.reset(\n",
    "    platform_angle=q1i,\n",
    "    platform_velocity=v1i,\n",
    "    wheel_angle=0.,\n",
    "    wheel_velocity=0.,\n",
    "    sensor_noise=0.1,\n",
    ")\n",
    "\n",
    "# Reset controller\n",
    "controller.reset()\n",
    "\n",
    "# Run simulator\n",
    "data = simulator.run(\n",
    "    controller,\n",
    "    max_time=10.,\n",
    ")"
   ]
  },
  {
   "cell_type": "markdown",
   "id": "68737c31",
   "metadata": {},
   "source": [
    "Show results."
   ]
  },
  {
   "cell_type": "code",
   "execution_count": 9,
   "id": "d33e29ab",
   "metadata": {},
   "outputs": [
    {
     "data": {
      "image/png": "[encoded data removed]",
      "text/plain": [
       "<Figure size 720x576 with 3 Axes>"
      ]
     },
     "metadata": {
      "needs_background": "light"
     },
     "output_type": "display_data"
    }
   ],
   "source": [
    "t = data['t']\n",
    "q1 = data['platform_angle']\n",
    "v1 = data['platform_velocity']\n",
    "tau = - data['wheel_torque']\n",
    "q1_meas = data['platform_angle_measurement']\n",
    "y1 = q1_meas - q1e\n",
    "x1 = q1 - q1e\n",
    "x2 = v1 - v1e\n",
    "xhat = data['xhat']\n",
    "\n",
    "fig, (ax_x1, ax_x2, ax_tau) = plt.subplots(3, 1, figsize=(10, 8), sharex=True)\n",
    "\n",
    "ax_x1.plot(t, x1, label='$x_1$', linewidth=4)\n",
    "ax_x1.plot(t, xhat[:, 0], '--', label=r'$x_1$ (estimated)', linewidth=4)\n",
    "ax_x1.plot(t, y1, '.', markersize=2, label='$y_1$')\n",
    "\n",
    "ax_x2.plot(t, x2, label='$x_2$', linewidth=4)\n",
    "ax_x2.plot(t, xhat[:, 1], '--', label=r'$x_2$ (estimated)', linewidth=4)\n",
    "\n",
    "ax_tau.plot(t, tau, label=r'$\\tau$', linewidth=4)\n",
    "ax_tau.plot(t, simulator.tau_max * np.ones_like(t), '--', linewidth=4, color='C1')\n",
    "ax_tau.plot(t, - simulator.tau_max * np.ones_like(t), '--', linewidth=4, color='C1')\n",
    "\n",
    "ax_x1.grid()\n",
    "ax_x1.legend(fontsize=16, loc='upper right')\n",
    "ax_x1.tick_params(labelsize=14)\n",
    "ax_x1.set_ylim(-1, 1)\n",
    "\n",
    "ax_x2.grid()\n",
    "ax_x2.legend(fontsize=16, loc='upper right')\n",
    "ax_x2.tick_params(labelsize=14)\n",
    "ax_x2.set_ylim(-1, 1)\n",
    "\n",
    "ax_tau.grid()\n",
    "ax_tau.legend(fontsize=16, loc='upper right')\n",
    "ax_tau.tick_params(labelsize=14)\n",
    "ax_tau.set_ylim(-1.2 * simulator.tau_max, 1.2 * simulator.tau_max)\n",
    "\n",
    "ax_tau.set_xlabel('time (s)', fontsize=20)\n",
    "ax_tau.set_xlim([data['t'][0], data['t'][-1]])\n",
    "\n",
    "fig.tight_layout()\n",
    "plt.show()"
   ]
  },
  {
   "cell_type": "markdown",
   "id": "42b29fb3",
   "metadata": {},
   "source": [
    "# Control platform angle with partial state feedback (nonlinear sensor model)"
   ]
  },
  {
   "cell_type": "markdown",
   "id": "92149e24",
   "metadata": {},
   "source": [
    "Do all imports:"
   ]
  },
  {
   "cell_type": "code",
   "execution_count": null,
   "id": "7e2b4e7c",
   "metadata": {},
   "outputs": [],
   "source": [
    "# These are standard modules\n",
    "import time\n",
    "import numpy as np\n",
    "from scipy import linalg\n",
    "from scipy import signal\n",
    "import sympy as sym\n",
    "import matplotlib.pyplot as plt\n",
    "from IPython.display import display, Latex, Markdown\n",
    "\n",
    "# This is a custom interface to the pybullet simulator\n",
    "import ae353_platform_nonlinearsensors\n",
    "\n",
    "# Suppress the use of scientific notation when printing small numbers\n",
    "np.set_printoptions(suppress=True)"
   ]
  },
  {
   "cell_type": "markdown",
   "id": "c16a973b",
   "metadata": {},
   "source": [
    "Create an instance of the simulator (do `Kernel -> Restart` before evaluating this cell)."
   ]
  },
  {
   "cell_type": "code",
   "execution_count": null,
   "id": "45301c22",
   "metadata": {},
   "outputs": [],
   "source": [
    "simulator = ae353_platform_nonlinearsensors.Simulator(\n",
    "    display=False,\n",
    "    roll=0.,\n",
    "    sensor_noise=0.,\n",
    ")"
   ]
  },
  {
   "cell_type": "markdown",
   "id": "985f43b2",
   "metadata": {},
   "source": [
    "Define equilibrium point and state-space dynamic model."
   ]
  },
  {
   "cell_type": "code",
   "execution_count": null,
   "id": "c4311dcc",
   "metadata": {},
   "outputs": [],
   "source": [
    "# Equilibrium point\n",
    "(q1e, v1e, taue) = (np.pi / 6, 0., 0.)\n",
    "\n",
    "# State-space model (dynamics)\n",
    "A = np.array([[0., 1.], [0., 0.]])\n",
    "B = np.array([[0.], [1.]])\n",
    "print(f'A =\\n{A}\\n\\nB =\\n{B}')"
   ]
  },
  {
   "cell_type": "markdown",
   "id": "83204c61",
   "metadata": {},
   "source": [
    "Define outputs and their equilibrium values."
   ]
  },
  {
   "cell_type": "code",
   "execution_count": null,
   "id": "954ca4da",
   "metadata": {},
   "outputs": [],
   "source": [
    "# Variables\n",
    "q1, v1, tau = sym.symbols('q1, v1, tau')\n",
    "\n",
    "# Outputs\n",
    "o = sym.Matrix([sym.sin(q1)])\n",
    "\n",
    "# Equilibrium\n",
    "o_num = sym.lambdify([q1, v1, tau], o)\n",
    "o_e = o_num(q1e, v1e, taue)"
   ]
  },
  {
   "cell_type": "markdown",
   "id": "68fcf3f4",
   "metadata": {},
   "source": [
    "Show outputs."
   ]
  },
  {
   "cell_type": "code",
   "execution_count": null,
   "id": "cd518069",
   "metadata": {},
   "outputs": [],
   "source": [
    "o"
   ]
  },
  {
   "cell_type": "markdown",
   "id": "4c540e8c",
   "metadata": {},
   "source": [
    "Show equilibrium value of outputs."
   ]
  },
  {
   "cell_type": "code",
   "execution_count": null,
   "id": "2e4a7058",
   "metadata": {},
   "outputs": [],
   "source": [
    "print(o_e)"
   ]
  },
  {
   "cell_type": "markdown",
   "id": "31cc0ddb",
   "metadata": {},
   "source": [
    "Linearize sensor model."
   ]
  },
  {
   "cell_type": "code",
   "execution_count": null,
   "id": "85b8ab30",
   "metadata": {},
   "outputs": [],
   "source": [
    "C_num = sym.lambdify([q1, v1, tau], o.jacobian([q1, v1]))\n",
    "C = C_num(q1e, v1e, taue)\n",
    "\n",
    "print(f'\\nC =\\n{C}')"
   ]
  },
  {
   "cell_type": "markdown",
   "id": "7f12ade1",
   "metadata": {},
   "source": [
    "Design controller."
   ]
  },
  {
   "cell_type": "code",
   "execution_count": null,
   "id": "5c3c3785",
   "metadata": {},
   "outputs": [],
   "source": [
    "# Eigenvalue placement\n",
    "K = signal.place_poles(A, B, [-2., -5.]).gain_matrix\n",
    "print(f'K =\\n{K}\\n')"
   ]
  },
  {
   "cell_type": "markdown",
   "id": "9f45534c",
   "metadata": {},
   "source": [
    "Design observer."
   ]
  },
  {
   "cell_type": "code",
   "execution_count": null,
   "id": "5fe880e9",
   "metadata": {},
   "outputs": [],
   "source": [
    "# Eigenvalue placement\n",
    "L = signal.place_poles(A.T, C.T, [-2., -5.]).gain_matrix.T\n",
    "print(f'L =\\n{L}\\n')"
   ]
  },
  {
   "cell_type": "markdown",
   "id": "7faf4c0c",
   "metadata": {},
   "source": [
    "Implement controller and observer."
   ]
  },
  {
   "cell_type": "code",
   "execution_count": null,
   "id": "8dade21a",
   "metadata": {},
   "outputs": [],
   "source": [
    "class Controller:\n",
    "    def __init__(self, A, B, C, K, L, q1e, v1e, taue):\n",
    "        self.dt = 0.01\n",
    "        self.A = A\n",
    "        self.B = B\n",
    "        self.C = C\n",
    "        self.K = K\n",
    "        self.L = L\n",
    "        self.q1e = q1e\n",
    "        self.v1e = v1e\n",
    "        self.taue = taue\n",
    "        \n",
    "        self.variables_to_log = ['xhat']\n",
    "    \n",
    "    def reset(self):\n",
    "        self.xhat = np.array([0., 0.])\n",
    "    \n",
    "    def run(\n",
    "            self,\n",
    "            t,\n",
    "            platform_angle_measurement,\n",
    "        ):\n",
    "        \n",
    "        # Find input\n",
    "        u = - self.K @ self.xhat\n",
    "        \n",
    "        # Find measurement\n",
    "        y = np.array([np.sin(platform_angle_measurement) - np.sin(q1e)])\n",
    "        \n",
    "        # Find state estimate\n",
    "        self.xhat += self.dt * (self.A @ self.xhat + self.B @ u - self.L @ (self.C @ self.xhat - y))\n",
    "        \n",
    "        # Find actuator command\n",
    "        tau = u[0] + self.taue\n",
    "        \n",
    "        wheel_torque = -tau\n",
    "        return wheel_torque"
   ]
  },
  {
   "cell_type": "markdown",
   "id": "ad8998ca",
   "metadata": {},
   "source": [
    "Test controller *and observer* in simulation."
   ]
  },
  {
   "cell_type": "code",
   "execution_count": null,
   "id": "ab59e8f9",
   "metadata": {},
   "outputs": [],
   "source": [
    "# Create controller\n",
    "controller = Controller(A, B, C, K, L, q1e, v1e, taue)\n",
    "\n",
    "# Choose initial conditions\n",
    "(q1i, v1i) = (0., 0.)\n",
    "\n",
    "# Reset simulator\n",
    "simulator.reset(\n",
    "    platform_angle=q1i,\n",
    "    platform_velocity=v1i,\n",
    "    wheel_angle=0.,\n",
    "    wheel_velocity=0.,\n",
    "    sensor_noise=0.1,\n",
    ")\n",
    "\n",
    "# Reset controller\n",
    "controller.reset()\n",
    "\n",
    "# Run simulator\n",
    "data = simulator.run(\n",
    "    controller,\n",
    "    max_time=10.,\n",
    ")"
   ]
  },
  {
   "cell_type": "markdown",
   "id": "312bfa13",
   "metadata": {},
   "source": [
    "Show results."
   ]
  },
  {
   "cell_type": "code",
   "execution_count": null,
   "id": "76aef15d",
   "metadata": {},
   "outputs": [],
   "source": [
    "t = data['t']\n",
    "q1 = data['platform_angle']\n",
    "v1 = data['platform_velocity']\n",
    "tau = - data['wheel_torque']\n",
    "q1_meas = data['platform_angle_measurement']\n",
    "y1 = q1_meas - q1e\n",
    "x1 = q1 - q1e\n",
    "x2 = v1 - v1e\n",
    "xhat = data['xhat']\n",
    "\n",
    "fig, (ax_x1, ax_x2, ax_tau) = plt.subplots(3, 1, figsize=(10, 8), sharex=True)\n",
    "\n",
    "ax_x1.plot(t, x1, label='$x_1$', linewidth=4)\n",
    "ax_x1.plot(t, xhat[:, 0], '--', label=r'$x_1$ (estimated)', linewidth=4)\n",
    "ax_x1.plot(t, y1, '.', markersize=2, label='$y_1$')\n",
    "\n",
    "ax_x2.plot(t, x2, label='$x_2$', linewidth=4)\n",
    "ax_x2.plot(t, xhat[:, 1], '--', label=r'$x_2$ (estimated)', linewidth=4)\n",
    "\n",
    "ax_tau.plot(t, tau, label=r'$\\tau$', linewidth=4)\n",
    "ax_tau.plot(t, simulator.tau_max * np.ones_like(t), '--', linewidth=4, color='C1')\n",
    "ax_tau.plot(t, - simulator.tau_max * np.ones_like(t), '--', linewidth=4, color='C1')\n",
    "\n",
    "ax_x1.grid()\n",
    "ax_x1.legend(fontsize=16, loc='upper right')\n",
    "ax_x1.tick_params(labelsize=14)\n",
    "ax_x1.set_ylim(-1, 1)\n",
    "\n",
    "ax_x2.grid()\n",
    "ax_x2.legend(fontsize=16, loc='upper right')\n",
    "ax_x2.tick_params(labelsize=14)\n",
    "ax_x2.set_ylim(-1, 1)\n",
    "\n",
    "ax_tau.grid()\n",
    "ax_tau.legend(fontsize=16, loc='upper right')\n",
    "ax_tau.tick_params(labelsize=14)\n",
    "ax_tau.set_ylim(-1.2 * simulator.tau_max, 1.2 * simulator.tau_max)\n",
    "\n",
    "ax_tau.set_xlabel('time (s)', fontsize=20)\n",
    "ax_tau.set_xlim([data['t'][0], data['t'][-1]])\n",
    "\n",
    "fig.tight_layout()\n",
    "plt.show()"
   ]
  },
  {
   "cell_type": "code",
   "execution_count": null,
   "id": "e5c76e82",
   "metadata": {},
   "outputs": [],
   "source": []
  }
 ],
 "metadata": {
  "kernelspec": {
   "display_name": "Python 3 (ipykernel)",
   "language": "python",
   "name": "python3"
  },
  "language_info": {
   "codemirror_mode": {
    "name": "ipython",
    "version": 3
   },
   "file_extension": ".py",
   "mimetype": "text/x-python",
   "name": "python",
   "nbconvert_exporter": "python",
   "pygments_lexer": "ipython3",
   "version": "3.10.2"
  }
 },
 "nbformat": 4,
 "nbformat_minor": 5
}

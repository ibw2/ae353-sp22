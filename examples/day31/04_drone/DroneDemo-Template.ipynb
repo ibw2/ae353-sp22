{
 "cells": [
  {
   "cell_type": "markdown",
   "id": "middle-acoustic",
   "metadata": {},
   "source": [
    "# Quadrotor (aka \"the drone\") — Tracking Demo"
   ]
  },
  {
   "cell_type": "markdown",
   "id": "faced-least",
   "metadata": {},
   "source": [
    "Import modules."
   ]
  },
  {
   "cell_type": "code",
   "execution_count": null,
   "id": "informed-qatar",
   "metadata": {},
   "outputs": [],
   "source": [
    "import os\n",
    "import time\n",
    "import numpy as np\n",
    "import matplotlib.pyplot as plt\n",
    "import secrets\n",
    "import ae353_drone\n",
    "\n",
    "import ae353_dronecontrol # <--- has a working controller for the purpose of demonstration"
   ]
  },
  {
   "cell_type": "markdown",
   "id": "final-distinction",
   "metadata": {},
   "source": [
    "Create and print a seed for the random number generator so it is possible to reproduce the results."
   ]
  },
  {
   "cell_type": "code",
   "execution_count": null,
   "id": "ceramic-evanescence",
   "metadata": {},
   "outputs": [],
   "source": [
    "seed = secrets.randbits(32)\n",
    "print(seed)"
   ]
  },
  {
   "cell_type": "markdown",
   "id": "environmental-refrigerator",
   "metadata": {},
   "source": [
    "Create simulator with seed."
   ]
  },
  {
   "cell_type": "code",
   "execution_count": null,
   "id": "needed-motion",
   "metadata": {},
   "outputs": [],
   "source": [
    "simulator = ae353_drone.Simulator(\n",
    "    display=True,\n",
    "    seed=seed,\n",
    ")"
   ]
  },
  {
   "cell_type": "markdown",
   "id": "91a13dbf",
   "metadata": {},
   "source": [
    "By default, your controller will fail if either of the following conditions is met:\n",
    "\n",
    "* It prints something to `stdout`.\n",
    "* It exceeds the maximum runtime of `1` second for `init`, `1` second for `reset`, and `5e-3` seconds for `run`.\n",
    "\n",
    "You can relax these rules for the purpose of development if you want, as follows."
   ]
  },
  {
   "cell_type": "code",
   "execution_count": null,
   "id": "16d60201",
   "metadata": {},
   "outputs": [],
   "source": [
    "simulator.set_rules(\n",
    "    error_on_print=False,    # <-- allow print statements in controller code\n",
    "    error_on_timeout=False,  # <-- allow long runtimes in controller code\n",
    ")"
   ]
  },
  {
   "cell_type": "markdown",
   "id": "electronic-repository",
   "metadata": {},
   "source": [
    "Show controller template. The actual controller used in this example comes from `ae353_dronecontrol.py`.\n",
    "\n",
    "**NOTE. I didn't publish the version of `ae353_dronecontrol.py` that was used in class, rather just the template version. If you want this notebook to work, you'll need to modify `ae353_dronecontrol.py` so that it works!**"
   ]
  },
  {
   "cell_type": "code",
   "execution_count": null,
   "id": "829b50d3",
   "metadata": {},
   "outputs": [],
   "source": [
    "class Controller:\n",
    "    def __init__(self):\n",
    "        \n",
    "        # Define all variables\n",
    "        #\n",
    "        # self.A = ...\n",
    "        # self.B = ...\n",
    "        # ...\n",
    "        # ...\n",
    "        \n",
    "        self.variables_to_log = ['xhat', 'xdes', 'ring']\n",
    "\n",
    "    def get_color(self):\n",
    "        return [1., 0., 0.]\n",
    "\n",
    "    def reset(\n",
    "            self,\n",
    "            p_x_meas, p_y_meas, p_z_meas, # <-- measured position of drone (meters)\n",
    "            yaw_meas,                     # <-- measured yaw angle of drone (radians)\n",
    "        ):\n",
    "        \n",
    "        # Choose initial state estimate\n",
    "        #\n",
    "        # self.xhat = ...\n",
    "        \n",
    "        pass\n",
    "\n",
    "    def run(\n",
    "            self,\n",
    "            t,\n",
    "            p_x_meas, p_y_meas, p_z_meas, # <-- measured position of drone (meters)\n",
    "            yaw_meas,                     # <-- measured yaw angle of drone (radians)\n",
    "            p_x_ring, p_y_ring, p_z_ring, # <-- center position of next ring (meters)\n",
    "            is_last_ring,                 # <-- True if next ring is the last ring, False otherwise\n",
    "            pos_others,                   # <-- 2d array of size n x 3, where n is the number\n",
    "                                          #     of all *other* drones - the ith row in this array\n",
    "                                          #     has the coordinates [x_i, y_i, z_i], in meters, of\n",
    "                                          #     the ith other drone\n",
    "        ):\n",
    "        \n",
    "        # Store ring position for later analysis\n",
    "        self.ring = np.array([p_x_ring, p_y_ring, p_z_ring])\n",
    "        \n",
    "        # Get xdes and udes\n",
    "        self.xdes, self.udes = self.get_xdes_and_udes(self.xhat, p_x_ring, p_y_ring, p_z_ring)\n",
    "        \n",
    "        # Apply controller and observer...\n",
    "        #\n",
    "        # u = ...\n",
    "        # y = ...\n",
    "        # self.xhat += ...\n",
    "        #\n",
    "        # tau_x = ...\n",
    "        # tau_y = ...\n",
    "        # tau_z = ...\n",
    "        # f_z = ...\n",
    "        \n",
    "        return tau_x, tau_y, tau_z, f_z\n",
    "    \n",
    "    def get_xdes_and_udes(self, xhat, p_x_ring, p_y_ring, p_z_ring):\n",
    "        xdes = np.zeros(12)\n",
    "        udes = np.zeros(4)\n",
    "        return xdes, udes"
   ]
  },
  {
   "cell_type": "markdown",
   "id": "2c616693",
   "metadata": {},
   "source": [
    "Create a derived class that redefines the function `get_xdes_and_udes`, allowing us to play around with different ways of computing these quantities for the purpose of demonstration."
   ]
  },
  {
   "cell_type": "code",
   "execution_count": null,
   "id": "f731881e",
   "metadata": {},
   "outputs": [],
   "source": [
    "class DemoController(ae353_dronecontrol.Controller):\n",
    "    def get_xdes_and_udes(self, xhat, p_x_ring, p_y_ring, p_z_ring):\n",
    "        xdes = np.zeros(12)\n",
    "        udes = np.zeros(4)\n",
    "        return xdes, udes"
   ]
  },
  {
   "cell_type": "markdown",
   "id": "9f1dd2ee",
   "metadata": {},
   "source": [
    "Clear all drones."
   ]
  },
  {
   "cell_type": "code",
   "execution_count": null,
   "id": "fb0ffabc",
   "metadata": {},
   "outputs": [],
   "source": [
    "simulator.clear_drones()"
   ]
  },
  {
   "cell_type": "markdown",
   "id": "909fecef",
   "metadata": {},
   "source": [
    "Rearrange the rings."
   ]
  },
  {
   "cell_type": "code",
   "execution_count": null,
   "id": "a856353b",
   "metadata": {},
   "outputs": [],
   "source": [
    "simulator.move_rings()"
   ]
  },
  {
   "cell_type": "markdown",
   "id": "5dfed38b",
   "metadata": {},
   "source": [
    "Add drone to simulator."
   ]
  },
  {
   "cell_type": "code",
   "execution_count": null,
   "id": "exceptional-aspect",
   "metadata": {},
   "outputs": [],
   "source": [
    "simulator.add_drone(DemoController, 'my_netid', 'my_image.png')"
   ]
  },
  {
   "cell_type": "markdown",
   "id": "62cc77a4",
   "metadata": {},
   "source": [
    "Change the camera view."
   ]
  },
  {
   "cell_type": "code",
   "execution_count": null,
   "id": "23e340db",
   "metadata": {},
   "outputs": [],
   "source": [
    "simulator.camera_droneview('my_netid')"
   ]
  },
  {
   "cell_type": "markdown",
   "id": "basic-variance",
   "metadata": {},
   "source": [
    "Reset the drone (i.e., place it at a random location in the start ring)."
   ]
  },
  {
   "cell_type": "code",
   "execution_count": null,
   "id": "scientific-friendly",
   "metadata": {},
   "outputs": [],
   "source": [
    "simulator.reset()"
   ]
  },
  {
   "cell_type": "markdown",
   "id": "dress-product",
   "metadata": {},
   "source": [
    "Run simulation until `max_time` is reached or until the drone reaches the finish ring."
   ]
  },
  {
   "cell_type": "code",
   "execution_count": null,
   "id": "streaming-narrative",
   "metadata": {},
   "outputs": [],
   "source": [
    "simulator.run(max_time=5.0)"
   ]
  },
  {
   "cell_type": "markdown",
   "id": "98855693",
   "metadata": {},
   "source": [
    "Get data."
   ]
  },
  {
   "cell_type": "code",
   "execution_count": null,
   "id": "ef99c3a3",
   "metadata": {},
   "outputs": [],
   "source": [
    "data = simulator.get_data('my_netid')"
   ]
  },
  {
   "cell_type": "markdown",
   "id": "b933ca47",
   "metadata": {},
   "source": [
    "Plot results (position only)."
   ]
  },
  {
   "cell_type": "code",
   "execution_count": null,
   "id": "1b8156b8",
   "metadata": {},
   "outputs": [],
   "source": [
    "p_x_est = data['xhat'][:, 0]\n",
    "p_y_est = data['xhat'][:, 1]\n",
    "p_z_est = data['xhat'][:, 2]\n",
    "\n",
    "p_x_des = data['xdes'][:, 0]\n",
    "p_y_des = data['xdes'][:, 1]\n",
    "p_z_des = data['xdes'][:, 2]\n",
    "\n",
    "p_x_ring = data['ring'][:, 0]\n",
    "p_y_ring = data['ring'][:, 1]\n",
    "p_z_ring = data['ring'][:, 2]\n",
    "\n",
    "# Create a figure with subplots that all share the same x-axis\n",
    "fig, (ax_px, ax_py, ax_pz) = plt.subplots(3, 1, figsize=(12, 8), sharex=True)\n",
    "\n",
    "ax_px.plot(data['t'], data['p_x'], label='x (m)', linewidth=3)\n",
    "ax_px.plot(data['t'], p_x_est, '--', label='estimated x (m)', linewidth=4)\n",
    "ax_px.plot(data['t'], p_x_des, ':', label='desired x (m)', linewidth=4)\n",
    "ax_px.plot(data['t'], p_x_ring, '-.', label='ring x (m)', linewidth=3)\n",
    "ax_px.grid()\n",
    "ax_px.legend(fontsize=16, bbox_to_anchor=(1., 1.))\n",
    "ax_px.tick_params(labelsize=14)\n",
    "\n",
    "ax_py.plot(data['t'], data['p_y'], label='y (m)', linewidth=3)\n",
    "ax_py.plot(data['t'], p_y_est, '--', label='estimated y (m)', linewidth=4)\n",
    "ax_py.plot(data['t'], p_y_des, ':', label='desired y (m)', linewidth=4)\n",
    "ax_py.plot(data['t'], p_y_ring, '-.', label='ring y (m)', linewidth=3)\n",
    "ax_py.grid()\n",
    "ax_py.legend(fontsize=16, bbox_to_anchor=(1., 1.))\n",
    "ax_py.tick_params(labelsize=14)\n",
    "\n",
    "ax_pz.plot(data['t'], data['p_z'], label='z (m)', linewidth=3)\n",
    "ax_pz.plot(data['t'], p_z_est, '--', label='estimated z (m)', linewidth=4)\n",
    "ax_pz.plot(data['t'], p_z_des, ':', label='desired z (m)', linewidth=4)\n",
    "ax_pz.plot(data['t'], p_z_ring, '-.', label='ring z (m)', linewidth=3)\n",
    "ax_pz.grid()\n",
    "ax_pz.legend(fontsize=16, bbox_to_anchor=(1., 1.))\n",
    "ax_pz.tick_params(labelsize=14)\n",
    "\n",
    "# Set shared x-axis properties\n",
    "ax_pz.set_xlabel('time (s)', fontsize=20)\n",
    "ax_pz.set_xlim([data['t'][0], data['t'][-1]])\n",
    "\n",
    "# Make the arrangement of subplots look nice\n",
    "fig.tight_layout()\n",
    "plt.show()"
   ]
  },
  {
   "cell_type": "markdown",
   "id": "80aded75",
   "metadata": {},
   "source": [
    "Plot results (position, orientation, and actuator commands)."
   ]
  },
  {
   "cell_type": "code",
   "execution_count": null,
   "id": "3ccc432d",
   "metadata": {},
   "outputs": [],
   "source": [
    "# Create a figure with subplots that all share the same x-axis\n",
    "fig, (ax_pos, ax_ori, ax_act) = plt.subplots(3, 1, figsize=(12, 12), sharex=True)\n",
    "\n",
    "# Position\n",
    "ax_pos.plot(data['t'], data['p_x'], label='x (m)', linewidth=3, color='C0')\n",
    "ax_pos.plot(data['t'], data['p_y'], label='y (m)', linewidth=3, color='C1')\n",
    "ax_pos.plot(data['t'], data['p_z'], label='z (m)', linewidth=3, color='C2')\n",
    "ax_pos.plot(data['t'], data['p_x_meas'], '.', label='measured x (m)', markersize=3, color='C0')\n",
    "ax_pos.plot(data['t'], data['p_y_meas'], '.', label='measured y (m)', markersize=3, color='C1')\n",
    "ax_pos.plot(data['t'], data['p_z_meas'], '.', label='measured z (m)', markersize=3, color='C2')\n",
    "ax_pos.grid()\n",
    "ax_pos.legend(fontsize=16, bbox_to_anchor=(1., 1.))\n",
    "ax_pos.tick_params(labelsize=14)\n",
    "\n",
    "# Orientation\n",
    "ax_ori.plot(data['t'], data['yaw'], label='yaw (rad)', linewidth=3)\n",
    "ax_ori.plot(data['t'], data['pitch'], label='pitch (rad)', linewidth=3)\n",
    "ax_ori.plot(data['t'], data['roll'], label='roll (rad)', linewidth=3)\n",
    "ax_ori.plot(data['t'], data['yaw_meas'], '.', label='measured yaw (rad)', markersize=3, color='C0')\n",
    "ax_ori.grid()\n",
    "ax_ori.legend(fontsize=16, bbox_to_anchor=(1., 1.))\n",
    "ax_ori.tick_params(labelsize=14)\n",
    "\n",
    "# Actuator commands\n",
    "ax_act.plot(data['t'], data['tau_x'], label='tau_x (N-m)', linewidth=4)\n",
    "ax_act.plot(data['t'], data['tau_x_cmd'], '--', label='commanded tau_x (N-m)', linewidth=4)\n",
    "ax_act.plot(data['t'], data['tau_y'], label='tau_y (N-m)', linewidth=4)\n",
    "ax_act.plot(data['t'], data['tau_y_cmd'], '--', label='commanded tau_y (N-m)', linewidth=4)\n",
    "ax_act.plot(data['t'], data['tau_z'], label='tau_z (N-m)', linewidth=4)\n",
    "ax_act.plot(data['t'], data['tau_z_cmd'], '--', label='commanded tau_z (N-m)', linewidth=4)\n",
    "ax_act.plot(data['t'], data['f_z'] - (0.5 * 9.81), label='f_z - m g (N)', linewidth=4) # <-- FIXME\n",
    "ax_act.plot(data['t'], data['f_z_cmd'] - (0.5 * 9.81), '--', label='commanded f_z - m g (N)', linewidth=4) # <-- FIXME\n",
    "ax_act.grid()\n",
    "ax_act.legend(fontsize=16, bbox_to_anchor=(1., 1.))\n",
    "ax_act.tick_params(labelsize=14)\n",
    "# ax_act.set_ylim(-10, 10) # <-- FIXME\n",
    "\n",
    "# Set shared x-axis properties\n",
    "ax_act.set_xlabel('time (s)', fontsize=20)\n",
    "ax_act.set_xlim([data['t'][0], data['t'][-1]])\n",
    "\n",
    "# Make the arrangement of subplots look nice\n",
    "fig.tight_layout()\n",
    "plt.show()"
   ]
  },
  {
   "cell_type": "markdown",
   "id": "ca9ccdac",
   "metadata": {},
   "source": [
    "Plot histogram of controller run times."
   ]
  },
  {
   "cell_type": "code",
   "execution_count": null,
   "id": "6fa08971",
   "metadata": {},
   "outputs": [],
   "source": [
    "plt.hist(data['run_time'])\n",
    "plt.ticklabel_format(style='scientific', scilimits=(0, 0), axis='x')\n",
    "plt.tick_params(labelsize=14)\n",
    "plt.xlabel('run time (s)', fontsize=14)\n",
    "plt.ylabel('count', fontsize=14)\n",
    "plt.tight_layout()\n",
    "plt.show()"
   ]
  },
  {
   "cell_type": "markdown",
   "id": "registered-faith",
   "metadata": {},
   "source": [
    "## Example of how to get and plot results\n",
    "\n",
    "Assume that we already did two things:\n",
    "\n",
    "* Added a drone with the name `my_netid` to the simulator\n",
    "* Ran the simulation"
   ]
  },
  {
   "cell_type": "markdown",
   "id": "ec57964f",
   "metadata": {},
   "source": [
    "Get result."
   ]
  },
  {
   "cell_type": "code",
   "execution_count": null,
   "id": "e41d5a61",
   "metadata": {},
   "outputs": [],
   "source": [
    "(\n",
    "    did_it_fail,\n",
    "    did_it_finish,\n",
    "    what_time_did_it_finish,\n",
    ") = simulator.get_result('my_netid')"
   ]
  },
  {
   "cell_type": "markdown",
   "id": "8967e6bd",
   "metadata": {},
   "source": [
    "Show result."
   ]
  },
  {
   "cell_type": "code",
   "execution_count": null,
   "id": "7d2272c6",
   "metadata": {},
   "outputs": [],
   "source": [
    "if did_it_fail:\n",
    "    print('The drone failed before finishing.')\n",
    "elif did_it_finish:\n",
    "    print(f'The drone finished at time {what_time_did_it_finish}')\n",
    "else:\n",
    "    print('The drone did not finish (yet).')"
   ]
  },
  {
   "cell_type": "markdown",
   "id": "polished-advisory",
   "metadata": {},
   "source": [
    "Get data."
   ]
  },
  {
   "cell_type": "code",
   "execution_count": null,
   "id": "liked-handle",
   "metadata": {},
   "outputs": [],
   "source": [
    "data = simulator.get_data('my_netid')"
   ]
  },
  {
   "cell_type": "markdown",
   "id": "cognitive-nomination",
   "metadata": {},
   "source": [
    "Plot results."
   ]
  },
  {
   "cell_type": "code",
   "execution_count": null,
   "id": "informed-watson",
   "metadata": {},
   "outputs": [],
   "source": [
    "# Create a figure with subplots that all share the same x-axis\n",
    "fig, (ax_pos, ax_ori, ax_act) = plt.subplots(3, 1, figsize=(12, 12), sharex=True)\n",
    "\n",
    "# Position\n",
    "ax_pos.plot(data['t'], data['p_x'], label='x (m)', linewidth=3, color='C0')\n",
    "ax_pos.plot(data['t'], data['p_y'], label='y (m)', linewidth=3, color='C1')\n",
    "ax_pos.plot(data['t'], data['p_z'], label='z (m)', linewidth=3, color='C2')\n",
    "ax_pos.plot(data['t'], data['p_x_meas'], '.', label='measured x (m)', markersize=3, color='C0')\n",
    "ax_pos.plot(data['t'], data['p_y_meas'], '.', label='measured y (m)', markersize=3, color='C1')\n",
    "ax_pos.plot(data['t'], data['p_z_meas'], '.', label='measured z (m)', markersize=3, color='C2')\n",
    "ax_pos.grid()\n",
    "ax_pos.legend(fontsize=16, bbox_to_anchor=(1., 1.))\n",
    "ax_pos.tick_params(labelsize=14)\n",
    "\n",
    "# Orientation\n",
    "ax_ori.plot(data['t'], data['yaw'], label='yaw (rad)', linewidth=3)\n",
    "ax_ori.plot(data['t'], data['pitch'], label='pitch (rad)', linewidth=3)\n",
    "ax_ori.plot(data['t'], data['roll'], label='roll (rad)', linewidth=3)\n",
    "ax_ori.plot(data['t'], data['yaw_meas'], '.', label='measured yaw (rad)', markersize=3, color='C0')\n",
    "ax_ori.grid()\n",
    "ax_ori.legend(fontsize=16, bbox_to_anchor=(1., 1.))\n",
    "ax_ori.tick_params(labelsize=14)\n",
    "\n",
    "# Actuator commands\n",
    "ax_act.plot(data['t'], data['tau_x'], label='tau_x (N-m)', linewidth=4)\n",
    "ax_act.plot(data['t'], data['tau_x_cmd'], '--', label='commanded tau_x (N-m)', linewidth=4)\n",
    "ax_act.plot(data['t'], data['tau_y'], label='tau_y (N-m)', linewidth=4)\n",
    "ax_act.plot(data['t'], data['tau_y_cmd'], '--', label='commanded tau_y (N-m)', linewidth=4)\n",
    "ax_act.plot(data['t'], data['tau_z'], label='tau_z (N-m)', linewidth=4)\n",
    "ax_act.plot(data['t'], data['tau_z_cmd'], '--', label='commanded tau_z (N-m)', linewidth=4)\n",
    "ax_act.plot(data['t'], data['f_z'] - (0.5 * 9.81), label='f_z - m g (N)', linewidth=4) # <-- FIXME\n",
    "ax_act.plot(data['t'], data['f_z_cmd'] - (0.5 * 9.81), '--', label='commanded f_z - m g (N)', linewidth=4) # <-- FIXME\n",
    "ax_act.grid()\n",
    "ax_act.legend(fontsize=16, bbox_to_anchor=(1., 1.))\n",
    "ax_act.tick_params(labelsize=14)\n",
    "# ax_act.set_ylim(-10, 10) # <-- FIXME\n",
    "\n",
    "# Set shared x-axis properties\n",
    "ax_act.set_xlabel('time (s)', fontsize=20)\n",
    "ax_act.set_xlim([data['t'][0], data['t'][-1]])\n",
    "\n",
    "# Make the arrangement of subplots look nice\n",
    "fig.tight_layout()\n",
    "plt.show()"
   ]
  },
  {
   "cell_type": "markdown",
   "id": "03d089f6",
   "metadata": {},
   "source": [
    "Save the figure (without transparent background)."
   ]
  },
  {
   "cell_type": "code",
   "execution_count": null,
   "id": "8a97dcec",
   "metadata": {},
   "outputs": [],
   "source": [
    "fig.savefig('my_figure.png', facecolor='white', transparent=False)"
   ]
  },
  {
   "cell_type": "markdown",
   "id": "0439cf3a",
   "metadata": {},
   "source": [
    "Plot histogram of controller run times."
   ]
  },
  {
   "cell_type": "code",
   "execution_count": null,
   "id": "4921eddc",
   "metadata": {},
   "outputs": [],
   "source": [
    "plt.hist(data['run_time'])\n",
    "plt.ticklabel_format(style='scientific', scilimits=(0, 0), axis='x')\n",
    "plt.tick_params(labelsize=14)\n",
    "plt.xlabel('run time (s)', fontsize=14)\n",
    "plt.ylabel('count', fontsize=14)\n",
    "plt.tight_layout()\n",
    "plt.show()"
   ]
  },
  {
   "cell_type": "markdown",
   "id": "9155e43b",
   "metadata": {},
   "source": [
    "Note that it is required to also plot state estimates (in comparison to states) in order to check that your observer is working - no example is provided here, since no state estimates are being generated by the template `Controller` class."
   ]
  },
  {
   "cell_type": "markdown",
   "id": "secondary-condition",
   "metadata": {},
   "source": [
    "## Example of how to load drones from the \"students\" directory"
   ]
  },
  {
   "cell_type": "markdown",
   "id": "proprietary-camel",
   "metadata": {},
   "source": [
    "Load drones from `students` directory."
   ]
  },
  {
   "cell_type": "code",
   "execution_count": null,
   "id": "adolescent-anime",
   "metadata": {},
   "outputs": [],
   "source": [
    "failures = simulator.load_drones()"
   ]
  },
  {
   "cell_type": "markdown",
   "id": "progressive-catch",
   "metadata": {},
   "source": [
    "Reset drones (places drones at random positions within the start ring)."
   ]
  },
  {
   "cell_type": "code",
   "execution_count": null,
   "id": "noted-filter",
   "metadata": {},
   "outputs": [],
   "source": [
    "simulator.reset()"
   ]
  },
  {
   "cell_type": "markdown",
   "id": "broke-water",
   "metadata": {},
   "source": [
    "Run simulation for `max_time` seconds or until all drones finish."
   ]
  },
  {
   "cell_type": "code",
   "execution_count": null,
   "id": "40a41744",
   "metadata": {},
   "outputs": [],
   "source": [
    "simulator.camera_droneview('tbretl')"
   ]
  },
  {
   "cell_type": "code",
   "execution_count": null,
   "id": "russian-thunder",
   "metadata": {},
   "outputs": [],
   "source": [
    "simulator.run(max_time=None)"
   ]
  },
  {
   "cell_type": "markdown",
   "id": "small-nation",
   "metadata": {},
   "source": [
    "## Example of how to show results, change views, keep running"
   ]
  },
  {
   "cell_type": "markdown",
   "id": "engaged-award",
   "metadata": {},
   "source": [
    "Show results (so far)."
   ]
  },
  {
   "cell_type": "code",
   "execution_count": null,
   "id": "exclusive-orlando",
   "metadata": {},
   "outputs": [],
   "source": [
    "simulator.show_results()"
   ]
  },
  {
   "cell_type": "markdown",
   "id": "superior-sydney",
   "metadata": {},
   "source": [
    "View from behind a particular drone (assuming one exists that is named `template`)."
   ]
  },
  {
   "cell_type": "code",
   "execution_count": null,
   "id": "cutting-ecuador",
   "metadata": {},
   "outputs": [],
   "source": [
    "simulator.camera_droneview('template')"
   ]
  },
  {
   "cell_type": "markdown",
   "id": "american-corpus",
   "metadata": {},
   "source": [
    "Continue running simulation from same point for `max_time` seconds or until all drones finish."
   ]
  },
  {
   "cell_type": "code",
   "execution_count": null,
   "id": "known-retail",
   "metadata": {},
   "outputs": [],
   "source": [
    "simulator.run(max_time=5.0)"
   ]
  },
  {
   "cell_type": "markdown",
   "id": "herbal-twenty",
   "metadata": {},
   "source": [
    "View from finish ring instead of from start ring."
   ]
  },
  {
   "cell_type": "code",
   "execution_count": null,
   "id": "trained-martin",
   "metadata": {},
   "outputs": [],
   "source": [
    "simulator.camera_finishview()"
   ]
  },
  {
   "cell_type": "markdown",
   "id": "joined-nature",
   "metadata": {},
   "source": [
    "Continue running simulation from same point for `max_time` seconds or until all drones finish."
   ]
  },
  {
   "cell_type": "code",
   "execution_count": null,
   "id": "supposed-amplifier",
   "metadata": {},
   "outputs": [],
   "source": [
    "simulator.run(max_time=5.0)"
   ]
  },
  {
   "cell_type": "markdown",
   "id": "engaged-indonesian",
   "metadata": {},
   "source": [
    "Show results (so far)."
   ]
  },
  {
   "cell_type": "code",
   "execution_count": null,
   "id": "minor-superintendent",
   "metadata": {},
   "outputs": [],
   "source": [
    "simulator.show_results()"
   ]
  },
  {
   "cell_type": "markdown",
   "id": "earned-somewhere",
   "metadata": {},
   "source": [
    "## Example of how to clear and reload drones"
   ]
  },
  {
   "cell_type": "markdown",
   "id": "civilian-interface",
   "metadata": {},
   "source": [
    "Clear all drones."
   ]
  },
  {
   "cell_type": "code",
   "execution_count": null,
   "id": "economic-miller",
   "metadata": {},
   "outputs": [],
   "source": [
    "simulator.clear_drones()"
   ]
  },
  {
   "cell_type": "markdown",
   "id": "smoking-animation",
   "metadata": {},
   "source": [
    "Load drones again from `students` directory."
   ]
  },
  {
   "cell_type": "code",
   "execution_count": null,
   "id": "rental-member",
   "metadata": {},
   "outputs": [],
   "source": [
    "simulator.load_drones()"
   ]
  },
  {
   "cell_type": "markdown",
   "id": "democratic-advocacy",
   "metadata": {},
   "source": [
    "Reset drones (places drones at random positions within the start ring)."
   ]
  },
  {
   "cell_type": "code",
   "execution_count": null,
   "id": "every-times",
   "metadata": {},
   "outputs": [],
   "source": [
    "simulator.reset()"
   ]
  },
  {
   "cell_type": "markdown",
   "id": "special-camel",
   "metadata": {},
   "source": [
    "Run simulation until `max_time` is reached or until all drones finish."
   ]
  },
  {
   "cell_type": "code",
   "execution_count": null,
   "id": "present-analyst",
   "metadata": {},
   "outputs": [],
   "source": [
    "simulator.run(max_time=5.0)"
   ]
  },
  {
   "cell_type": "markdown",
   "id": "aquatic-saint",
   "metadata": {},
   "source": [
    "## Example of how to rearrange the rings"
   ]
  },
  {
   "cell_type": "markdown",
   "id": "natural-drunk",
   "metadata": {},
   "source": [
    "Rearrange the rings."
   ]
  },
  {
   "cell_type": "code",
   "execution_count": null,
   "id": "premium-mexico",
   "metadata": {},
   "outputs": [],
   "source": [
    "simulator.move_rings()"
   ]
  },
  {
   "cell_type": "markdown",
   "id": "allied-genealogy",
   "metadata": {},
   "source": [
    "Reset drones (places drones at random positions within the start ring)."
   ]
  },
  {
   "cell_type": "code",
   "execution_count": null,
   "id": "reasonable-writer",
   "metadata": {},
   "outputs": [],
   "source": [
    "simulator.reset()"
   ]
  },
  {
   "cell_type": "markdown",
   "id": "strange-provision",
   "metadata": {},
   "source": [
    "Run simulation until `max_time` is reached or until all drones finish."
   ]
  },
  {
   "cell_type": "code",
   "execution_count": null,
   "id": "narrative-worse",
   "metadata": {},
   "outputs": [],
   "source": [
    "simulator.run(max_time=5.0)"
   ]
  },
  {
   "cell_type": "markdown",
   "id": "realistic-virgin",
   "metadata": {},
   "source": [
    "## Example of how to take a snapshot"
   ]
  },
  {
   "cell_type": "markdown",
   "id": "rough-rally",
   "metadata": {},
   "source": [
    "View from behind a particular drone."
   ]
  },
  {
   "cell_type": "code",
   "execution_count": null,
   "id": "described-yukon",
   "metadata": {},
   "outputs": [],
   "source": [
    "simulator.camera_droneview('template')"
   ]
  },
  {
   "cell_type": "markdown",
   "id": "instant-scott",
   "metadata": {},
   "source": [
    "Display a snapshot."
   ]
  },
  {
   "cell_type": "code",
   "execution_count": null,
   "id": "thrown-harvard",
   "metadata": {},
   "outputs": [],
   "source": [
    "# Get snapshot as 480 x 480 x 4 numpy array of RGBA values\n",
    "rgba = simulator.snapshot()\n",
    "\n",
    "# Display snapshot\n",
    "plt.figure(figsize=(9, 9))\n",
    "plt.imshow(rgba)"
   ]
  },
  {
   "cell_type": "markdown",
   "id": "frequent-housing",
   "metadata": {},
   "source": [
    "Save the snapshot."
   ]
  },
  {
   "cell_type": "code",
   "execution_count": null,
   "id": "serial-tampa",
   "metadata": {},
   "outputs": [],
   "source": [
    "plt.imsave('my_snapshot.png', rgba)"
   ]
  },
  {
   "cell_type": "markdown",
   "id": "preliminary-washington",
   "metadata": {},
   "source": [
    "## Example of how to record a movie"
   ]
  },
  {
   "cell_type": "markdown",
   "id": "missing-administrator",
   "metadata": {},
   "source": [
    "Reset drones (places drones at random positions within the start ring)."
   ]
  },
  {
   "cell_type": "code",
   "execution_count": null,
   "id": "economic-tribe",
   "metadata": {},
   "outputs": [],
   "source": [
    "simulator.reset()"
   ]
  },
  {
   "cell_type": "markdown",
   "id": "usual-retention",
   "metadata": {},
   "source": [
    "View from behind a particular drone."
   ]
  },
  {
   "cell_type": "code",
   "execution_count": null,
   "id": "dental-eight",
   "metadata": {},
   "outputs": [],
   "source": [
    "simulator.camera_droneview('template')"
   ]
  },
  {
   "cell_type": "markdown",
   "id": "cutting-guide",
   "metadata": {},
   "source": [
    "Run simulation until `max_time` is reached or until all drones finish, saving movie to `my_video.mp4`."
   ]
  },
  {
   "cell_type": "code",
   "execution_count": null,
   "id": "comprehensive-taxation",
   "metadata": {},
   "outputs": [],
   "source": [
    "simulator.run(max_time=1.0, video_filename='my_video.mp4')"
   ]
  },
  {
   "cell_type": "markdown",
   "id": "190e07f5",
   "metadata": {},
   "source": [
    "## Example of how to allow print statements and long run times"
   ]
  },
  {
   "cell_type": "markdown",
   "id": "c686ae49",
   "metadata": {},
   "source": [
    "By default, your controller will fail if either of the following conditions is met:\n",
    "\n",
    "* It prints something to `stdout`.\n",
    "* It exceeds the maximum runtime of `1` second for `init`, `1` second for `reset`, and `5e-3` seconds for `run`.\n",
    "\n",
    "You can relax these rules for the purpose of development if you want, as follows."
   ]
  },
  {
   "cell_type": "code",
   "execution_count": null,
   "id": "d0d3f09c",
   "metadata": {},
   "outputs": [],
   "source": [
    "simulator.set_rules(\n",
    "    error_on_print=False,    # <-- allow print statements in controller code\n",
    "    error_on_timeout=False,  # <-- allow long runtimes in controller code\n",
    ")"
   ]
  }
 ],
 "metadata": {
  "kernelspec": {
   "display_name": "Python 3 (ipykernel)",
   "language": "python",
   "name": "python3"
  },
  "language_info": {
   "codemirror_mode": {
    "name": "ipython",
    "version": 3
   },
   "file_extension": ".py",
   "mimetype": "text/x-python",
   "name": "python",
   "nbconvert_exporter": "python",
   "pygments_lexer": "ipython3",
   "version": "3.10.2"
  }
 },
 "nbformat": 4,
 "nbformat_minor": 5
}

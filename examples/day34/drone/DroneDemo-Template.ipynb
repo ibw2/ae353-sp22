{
 "cells": [
  {
   "cell_type": "markdown",
   "id": "middle-acoustic",
   "metadata": {},
   "source": [
    "# Drone frequency response demo"
   ]
  },
  {
   "cell_type": "markdown",
   "id": "faced-least",
   "metadata": {},
   "source": [
    "Import modules."
   ]
  },
  {
   "cell_type": "code",
   "execution_count": null,
   "id": "informed-qatar",
   "metadata": {},
   "outputs": [],
   "source": [
    "import os\n",
    "import time\n",
    "import secrets\n",
    "import numpy as np\n",
    "from scipy import linalg\n",
    "from scipy import signal\n",
    "import matplotlib.pyplot as plt\n",
    "from matplotlib.ticker import MultipleLocator\n",
    "import ae353_drone\n",
    "\n",
    "import ae353_dronecontrol # <--- has a working controller for the purpose of demonstration\n",
    "\n",
    "# Enable interactive plots\n",
    "%matplotlib widget"
   ]
  },
  {
   "cell_type": "markdown",
   "id": "final-distinction",
   "metadata": {},
   "source": [
    "Create and print a seed for the random number generator so it is possible to reproduce the results."
   ]
  },
  {
   "cell_type": "code",
   "execution_count": null,
   "id": "ceramic-evanescence",
   "metadata": {},
   "outputs": [],
   "source": [
    "seed = secrets.randbits(32)\n",
    "print(seed)"
   ]
  },
  {
   "cell_type": "markdown",
   "id": "environmental-refrigerator",
   "metadata": {},
   "source": [
    "Create simulator with seed."
   ]
  },
  {
   "cell_type": "code",
   "execution_count": null,
   "id": "needed-motion",
   "metadata": {},
   "outputs": [],
   "source": [
    "simulator = ae353_drone.Simulator(\n",
    "    display=False,\n",
    "    seed=seed,\n",
    ")"
   ]
  },
  {
   "cell_type": "markdown",
   "id": "3d099586",
   "metadata": {},
   "source": [
    "By default, your controller will fail if either of the following conditions is met:\n",
    "\n",
    "* It prints something to `stdout`.\n",
    "* It exceeds the maximum runtime of `1` second for `init`, `1` second for `reset`, and `5e-3` seconds for `run`.\n",
    "\n",
    "You can relax these rules for the purpose of development if you want, as follows."
   ]
  },
  {
   "cell_type": "code",
   "execution_count": null,
   "id": "f29523bc",
   "metadata": {},
   "outputs": [],
   "source": [
    "simulator.set_rules(\n",
    "    error_on_print=False,    # <-- allow print statements in controller code\n",
    "    error_on_timeout=False,  # <-- allow long runtimes in controller code\n",
    ")"
   ]
  },
  {
   "cell_type": "markdown",
   "id": "9c68955a",
   "metadata": {},
   "source": [
    "Create a class derived from the controller defined in `ae353_dronecontrol.py` that redefines the function `get_xdes_and_udes`, allowing us to play around with different ways of computing these quantities for the purpose of demonstration.\n",
    "\n",
    "**NOTE. I didn't publish the version of `ae353_dronecontrol.py` that was used in class, rather just the template version. If you want this notebook to work, you'll need to modify `ae353_dronecontrol.py` so that it works!**"
   ]
  },
  {
   "cell_type": "code",
   "execution_count": null,
   "id": "0ca83d8c",
   "metadata": {},
   "outputs": [],
   "source": [
    "class DemoController(ae353_dronecontrol.Controller):\n",
    "    def get_xdes_and_udes(self, t, xhat, p_x_ring, p_y_ring, p_z_ring):\n",
    "        xdes = np.zeros(12)\n",
    "        udes = np.zeros(4)\n",
    "        \n",
    "#         xdes[0:3] = np.array([0., 0., 0.5])\n",
    "#         xdes[0:3] = np.array([p_x_ring, p_y_ring, p_z_ring])\n",
    "        \n",
    "        phat = xhat[0:3]\n",
    "        pring = np.array([p_x_ring, p_y_ring, p_z_ring])\n",
    "        r = 1.\n",
    "        if np.linalg.norm(pring - phat) > r:\n",
    "            pdes = phat + r * ((pring - phat) / np.linalg.norm(pring - phat))\n",
    "        else:\n",
    "            pdes = pring\n",
    "        xdes[0:3] = pdes\n",
    "        \n",
    "        return xdes, udes"
   ]
  },
  {
   "cell_type": "code",
   "execution_count": null,
   "id": "01fc321c",
   "metadata": {},
   "outputs": [],
   "source": [
    "class DemoController(ae353_dronecontrol.Controller):\n",
    "    def get_xdes_and_udes(self, t, xhat, p_x_ring, p_y_ring, p_z_ring):\n",
    "        xdes = np.zeros(12)\n",
    "        udes = np.zeros(4)\n",
    "        \n",
    "        p_x_des = 0.0\n",
    "        p_z_des = 0.5\n",
    "        \n",
    "        omega = 1.\n",
    "        p_y_des = np.sin(omega * t)\n",
    "        \n",
    "        pdes = np.array([p_x_des, p_y_des, p_z_des])\n",
    "                \n",
    "        phat = xhat[0:3]\n",
    "        max_perr = 1.\n",
    "        if np.linalg.norm(pdes - phat) > max_perr:\n",
    "            pdes = phat + max_perr * ((pdes - phat) / np.linalg.norm(pdes - phat))\n",
    "        xdes[0:3] = pdes\n",
    "        \n",
    "        return xdes, udes"
   ]
  },
  {
   "cell_type": "markdown",
   "id": "9f1dd2ee",
   "metadata": {},
   "source": [
    "Clear all drones."
   ]
  },
  {
   "cell_type": "code",
   "execution_count": null,
   "id": "fb0ffabc",
   "metadata": {},
   "outputs": [],
   "source": [
    "simulator.clear_drones()"
   ]
  },
  {
   "cell_type": "markdown",
   "id": "a629cd7c",
   "metadata": {},
   "source": [
    "Rearrange the rings."
   ]
  },
  {
   "cell_type": "code",
   "execution_count": null,
   "id": "d66a24b4",
   "metadata": {},
   "outputs": [],
   "source": [
    "simulator.move_rings()"
   ]
  },
  {
   "cell_type": "markdown",
   "id": "cd39eb25",
   "metadata": {},
   "source": [
    "Add drone to simulator."
   ]
  },
  {
   "cell_type": "code",
   "execution_count": null,
   "id": "exceptional-aspect",
   "metadata": {},
   "outputs": [],
   "source": [
    "simulator.add_drone(DemoController, 'my_netid', 'my_image.png')"
   ]
  },
  {
   "cell_type": "markdown",
   "id": "62cc77a4",
   "metadata": {},
   "source": [
    "Change the camera view."
   ]
  },
  {
   "cell_type": "code",
   "execution_count": null,
   "id": "23e340db",
   "metadata": {},
   "outputs": [],
   "source": [
    "simulator.camera_droneview('my_netid')"
   ]
  },
  {
   "cell_type": "markdown",
   "id": "basic-variance",
   "metadata": {},
   "source": [
    "Reset the drone (i.e., place it at a random location in the start ring)."
   ]
  },
  {
   "cell_type": "code",
   "execution_count": null,
   "id": "scientific-friendly",
   "metadata": {},
   "outputs": [],
   "source": [
    "simulator.reset()"
   ]
  },
  {
   "cell_type": "markdown",
   "id": "dress-product",
   "metadata": {},
   "source": [
    "Run simulation until `max_time` is reached or until the drone reaches the finish ring."
   ]
  },
  {
   "cell_type": "code",
   "execution_count": null,
   "id": "streaming-narrative",
   "metadata": {},
   "outputs": [],
   "source": [
    "simulator.run(max_time=50.)"
   ]
  },
  {
   "cell_type": "markdown",
   "id": "c6a20159",
   "metadata": {},
   "source": [
    "Get data."
   ]
  },
  {
   "cell_type": "code",
   "execution_count": null,
   "id": "1a380142",
   "metadata": {},
   "outputs": [],
   "source": [
    "data = simulator.get_data('my_netid')"
   ]
  },
  {
   "cell_type": "markdown",
   "id": "65252107",
   "metadata": {},
   "source": [
    "Plot results ($y$ position only).\n",
    "\n",
    "**NOTE.** You may be confused by these plots at first, because $p_\\text{des}$ may not appear sinusoidal. Remember that your own controller is changing $p_\\text{des}$ so that it is never more than a given distance away from $\\widehat{p}$."
   ]
  },
  {
   "cell_type": "code",
   "execution_count": null,
   "id": "5c4584fd",
   "metadata": {},
   "outputs": [],
   "source": [
    "# Get estimated and desired y position\n",
    "p_y_est = data['xhat'][:, 1]\n",
    "p_y_des = data['xdes'][:, 1]\n",
    "\n",
    "# Create figure\n",
    "fig = plt.figure(figsize=(10, 4))\n",
    "ax_py = fig.add_axes([0.1, 0.2, 0.6, 0.75])\n",
    "ax_py.plot(data['t'], data['p_y'], label='y (m)', linewidth=2)\n",
    "ax_py.plot(data['t'], p_y_est, '--', label='estimated y (m)', linewidth=2)\n",
    "ax_py.plot(data['t'], p_y_des, '-.', label='desired y (m)', linewidth=2)\n",
    "ax_py.grid()\n",
    "ax_py.legend(bbox_to_anchor=(1.05, 1), loc=2, borderaxespad=0., fontsize=12)\n",
    "ax_py.tick_params(labelsize=12)\n",
    "ax_py.set_xlabel('time (s)', fontsize=12)\n",
    "ax_py.set_xlim([data['t'][0], data['t'][-1]])\n",
    "\n",
    "# Show figure\n",
    "plt.show()"
   ]
  },
  {
   "cell_type": "markdown",
   "id": "15559131",
   "metadata": {},
   "source": [
    "Plot results (position only).\n",
    "\n",
    "**NOTE.** You may be confused by these plots at first, because $p_\\text{des}$ may not appear sinusoidal. Remember that your own controller is changing $p_\\text{des}$ so that it is never more than a given distance away from $\\widehat{p}$."
   ]
  },
  {
   "cell_type": "code",
   "execution_count": null,
   "id": "a454c129",
   "metadata": {},
   "outputs": [],
   "source": [
    "p_x_est = data['xhat'][:, 0]\n",
    "p_y_est = data['xhat'][:, 1]\n",
    "p_z_est = data['xhat'][:, 2]\n",
    "\n",
    "p_x_des = data['xdes'][:, 0]\n",
    "p_y_des = data['xdes'][:, 1]\n",
    "p_z_des = data['xdes'][:, 2]\n",
    "\n",
    "p_x_ring = data['ring'][:, 0]\n",
    "p_y_ring = data['ring'][:, 1]\n",
    "p_z_ring = data['ring'][:, 2]\n",
    "\n",
    "# Create a figure with subplots that all share the same x-axis\n",
    "fig, (ax_px, ax_py, ax_pz) = plt.subplots(3, 1, figsize=(8, 8), sharex=True)\n",
    "\n",
    "ax_px.plot(data['t'], data['p_x'], label='x (m)', linewidth=3)\n",
    "ax_px.plot(data['t'], p_x_est, '--', label='estimated x (m)', linewidth=4)\n",
    "ax_px.plot(data['t'], p_x_des, ':', label='desired x (m)', linewidth=4)\n",
    "ax_px.plot(data['t'], p_x_ring, '-.', label='ring x (m)', linewidth=3)\n",
    "ax_px.grid()\n",
    "ax_px.legend(fontsize=12)\n",
    "ax_px.tick_params(labelsize=12)\n",
    "\n",
    "ax_py.plot(data['t'], data['p_y'], label='y (m)', linewidth=3)\n",
    "ax_py.plot(data['t'], p_y_est, '--', label='estimated y (m)', linewidth=4)\n",
    "ax_py.plot(data['t'], p_y_des, ':', label='desired y (m)', linewidth=4)\n",
    "ax_py.plot(data['t'], p_y_ring, '-.', label='ring y (m)', linewidth=3)\n",
    "ax_py.grid()\n",
    "ax_py.legend(fontsize=12)\n",
    "ax_py.tick_params(labelsize=12)\n",
    "\n",
    "ax_pz.plot(data['t'], data['p_z'], label='z (m)', linewidth=3)\n",
    "ax_pz.plot(data['t'], p_z_est, '--', label='estimated z (m)', linewidth=4)\n",
    "ax_pz.plot(data['t'], p_z_des, ':', label='desired z (m)', linewidth=4)\n",
    "ax_pz.plot(data['t'], p_z_ring, '-.', label='ring z (m)', linewidth=3)\n",
    "ax_pz.grid()\n",
    "ax_pz.legend(fontsize=12)\n",
    "ax_pz.tick_params(labelsize=12)\n",
    "\n",
    "# Set shared x-axis properties\n",
    "ax_pz.set_xlabel('time (s)', fontsize=14)\n",
    "ax_pz.set_xlim([data['t'][0], data['t'][-1]])\n",
    "\n",
    "# Make the arrangement of subplots look nice\n",
    "fig.tight_layout()\n",
    "plt.show()"
   ]
  },
  {
   "cell_type": "markdown",
   "id": "b4b22618",
   "metadata": {},
   "source": [
    "Plot results (position, orientation, and actuator commands)."
   ]
  },
  {
   "cell_type": "code",
   "execution_count": null,
   "id": "e8a8bf41",
   "metadata": {},
   "outputs": [],
   "source": [
    "# Create a figure with subplots that all share the same x-axis\n",
    "fig, (ax_pos, ax_ori, ax_act) = plt.subplots(3, 1, figsize=(12, 12), sharex=True)\n",
    "\n",
    "# Position\n",
    "ax_pos.plot(data['t'], data['p_x'], label='x (m)', linewidth=3, color='C0')\n",
    "ax_pos.plot(data['t'], data['p_y'], label='y (m)', linewidth=3, color='C1')\n",
    "ax_pos.plot(data['t'], data['p_z'], label='z (m)', linewidth=3, color='C2')\n",
    "ax_pos.plot(data['t'], data['p_x_meas'], '.', label='measured x (m)', markersize=3, color='C0')\n",
    "ax_pos.plot(data['t'], data['p_y_meas'], '.', label='measured y (m)', markersize=3, color='C1')\n",
    "ax_pos.plot(data['t'], data['p_z_meas'], '.', label='measured z (m)', markersize=3, color='C2')\n",
    "ax_pos.grid()\n",
    "ax_pos.legend(fontsize=16, bbox_to_anchor=(1., 1.))\n",
    "ax_pos.tick_params(labelsize=14)\n",
    "\n",
    "# Orientation\n",
    "ax_ori.plot(data['t'], data['yaw'], label='yaw (rad)', linewidth=3)\n",
    "ax_ori.plot(data['t'], data['pitch'], label='pitch (rad)', linewidth=3)\n",
    "ax_ori.plot(data['t'], data['roll'], label='roll (rad)', linewidth=3)\n",
    "ax_ori.plot(data['t'], data['yaw_meas'], '.', label='measured yaw (rad)', markersize=3, color='C0')\n",
    "ax_ori.grid()\n",
    "ax_ori.legend(fontsize=16, bbox_to_anchor=(1., 1.))\n",
    "ax_ori.tick_params(labelsize=14)\n",
    "\n",
    "# Actuator commands\n",
    "ax_act.plot(data['t'], data['tau_x'], label='tau_x (N-m)', linewidth=4)\n",
    "ax_act.plot(data['t'], data['tau_x_cmd'], '--', label='commanded tau_x (N-m)', linewidth=4)\n",
    "ax_act.plot(data['t'], data['tau_y'], label='tau_y (N-m)', linewidth=4)\n",
    "ax_act.plot(data['t'], data['tau_y_cmd'], '--', label='commanded tau_y (N-m)', linewidth=4)\n",
    "ax_act.plot(data['t'], data['tau_z'], label='tau_z (N-m)', linewidth=4)\n",
    "ax_act.plot(data['t'], data['tau_z_cmd'], '--', label='commanded tau_z (N-m)', linewidth=4)\n",
    "ax_act.plot(data['t'], data['f_z'] - (0.5 * 9.81), label='f_z - m g (N)', linewidth=4) # <-- FIXME\n",
    "ax_act.plot(data['t'], data['f_z_cmd'] - (0.5 * 9.81), '--', label='commanded f_z - m g (N)', linewidth=4) # <-- FIXME\n",
    "ax_act.grid()\n",
    "ax_act.legend(fontsize=16, bbox_to_anchor=(1., 1.))\n",
    "ax_act.tick_params(labelsize=14)\n",
    "# ax_act.set_ylim(-10, 10) # <-- FIXME\n",
    "\n",
    "# Set shared x-axis properties\n",
    "ax_act.set_xlabel('time (s)', fontsize=20)\n",
    "ax_act.set_xlim([data['t'][0], data['t'][-1]])\n",
    "\n",
    "# Make the arrangement of subplots look nice\n",
    "fig.tight_layout()\n",
    "plt.show()"
   ]
  },
  {
   "cell_type": "markdown",
   "id": "e8063187",
   "metadata": {},
   "source": [
    "Plot histogram of controller run times."
   ]
  },
  {
   "cell_type": "code",
   "execution_count": null,
   "id": "62dc4529",
   "metadata": {},
   "outputs": [],
   "source": [
    "plt.hist(data['run_time'])\n",
    "plt.ticklabel_format(style='scientific', scilimits=(0, 0), axis='x')\n",
    "plt.tick_params(labelsize=14)\n",
    "plt.xlabel('run time (s)', fontsize=14)\n",
    "plt.ylabel('count', fontsize=14)\n",
    "plt.tight_layout()\n",
    "plt.show()"
   ]
  },
  {
   "cell_type": "markdown",
   "id": "d69b0a16",
   "metadata": {},
   "source": [
    "## Analysis of frequency response"
   ]
  },
  {
   "cell_type": "markdown",
   "id": "1f7a344e",
   "metadata": {},
   "source": [
    "Get model."
   ]
  },
  {
   "cell_type": "code",
   "execution_count": null,
   "id": "9b2b90fe",
   "metadata": {},
   "outputs": [],
   "source": [
    "# This is something you can do yourself as well\n",
    "drone = simulator.get_drone_by_name('my_netid')\n",
    "controller = drone['controller']\n",
    "\n",
    "# This is something you cannot do yourself, unless you add\n",
    "# the function get_model() to your Controller class.\n",
    "A, B, C, K, L = controller.get_model()"
   ]
  },
  {
   "cell_type": "markdown",
   "id": "f505e559",
   "metadata": {},
   "source": [
    "Define a matrix that picks the *only* element of $x_\\text{des}$ that varies."
   ]
  },
  {
   "cell_type": "code",
   "execution_count": null,
   "id": "01f23c94",
   "metadata": {},
   "outputs": [],
   "source": [
    "M = np.zeros((12, 1))\n",
    "M[1, 0] = 1."
   ]
  },
  {
   "cell_type": "markdown",
   "id": "843f31fb",
   "metadata": {},
   "source": [
    "Define closed-loop model."
   ]
  },
  {
   "cell_type": "code",
   "execution_count": null,
   "id": "b362ec83",
   "metadata": {},
   "outputs": [],
   "source": [
    "Am = np.block([[A - B @ K, -B @ K], [np.zeros_like(A), A - L @ C]])\n",
    "Bm = np.block([[- (A - B @ K) @ M], [np.zeros_like(M)]])\n",
    "Cm = np.block([[M.T, np.zeros((1, A.shape[0]))]])"
   ]
  },
  {
   "cell_type": "markdown",
   "id": "eda9e410",
   "metadata": {},
   "source": [
    "Define the function\n",
    "\n",
    "$$H(s) = C_m (s - A_m)^{-1} B_m$$\n",
    "\n",
    "where $s\\in\\mathbb{C}$ is a complex number."
   ]
  },
  {
   "cell_type": "code",
   "execution_count": null,
   "id": "add8a0a3",
   "metadata": {},
   "outputs": [],
   "source": [
    "H = lambda s: (Cm @ linalg.inv(s * np.eye(Am.shape[0]) - Am) @ Bm).item()"
   ]
  },
  {
   "cell_type": "markdown",
   "id": "cc519698",
   "metadata": {},
   "source": [
    "Find the magnitude $|H(j\\omega)|$ and the angle $\\angle H(j\\omega)$ of the complex number $H(j\\omega)$ for different choices of frequency $\\omega$ (radians / second).\n",
    "\n",
    "Remember that any complex number $z\\in\\mathbb{C}$ can be written as\n",
    "\n",
    "$$z = |z|e^{\\angle z} = |z| \\left( \\cos(\\angle z) + j \\sin(\\angle z) \\right)$$\n",
    "\n",
    "and that the period $T$ (in seconds) of a sinusoid with frequency $\\omega$ (in radians / second) is\n",
    "\n",
    "$$T = \\dfrac{2\\pi}{\\omega}.$$"
   ]
  },
  {
   "cell_type": "code",
   "execution_count": null,
   "id": "c0064aea",
   "metadata": {},
   "outputs": [],
   "source": [
    "omega = 1.\n",
    "H_of_jomega = H(1j * omega)\n",
    "magH = np.absolute(H_of_jomega)\n",
    "angH = np.angle(H_of_jomega)\n",
    "\n",
    "print(f'omega = {omega}')\n",
    "print(f'H(j omega) = {H_of_jomega:.4f}')\n",
    "print(f'mag = {magH:.4f}')\n",
    "print(f'ang = {angH:.4f}')"
   ]
  },
  {
   "cell_type": "markdown",
   "id": "a1a5373a",
   "metadata": {},
   "source": [
    "Create Bode plot (i.e., plot magnitude and angle of $H(jw)$ as $w$ varies)."
   ]
  },
  {
   "cell_type": "code",
   "execution_count": null,
   "id": "824fa817",
   "metadata": {},
   "outputs": [],
   "source": [
    "omega = np.logspace(-2, 2, 250)\n",
    "H_at_jomega = np.empty_like(omega, dtype=complex)\n",
    "for i in range(len(omega)):\n",
    "    H_at_jomega[i] = H(1j * omega[i])\n",
    "mag = np.absolute(H_at_jomega)\n",
    "ang = np.angle(H_at_jomega)\n",
    "\n",
    "fig, (ax_mag, ax_ang) = plt.subplots(2, 1, figsize=(10, 5), sharex=True)\n",
    "ax_mag.loglog(omega, mag, linewidth=3)\n",
    "ax_mag.grid(visible=True, which='both', axis='both')\n",
    "ax_mag.tick_params(labelsize=14)\n",
    "ax_mag.yaxis.set_minor_locator(MultipleLocator(1e-1))\n",
    "ax_mag.set_yticklabels([], minor=True)\n",
    "ax_mag.set_ylabel('magnitude', fontsize=16)\n",
    "ax_ang.semilogx(omega, ang, linewidth=2)\n",
    "ax_ang.grid(visible=True, which='both', axis='both')\n",
    "ax_ang.tick_params(labelsize=14)\n",
    "ax_ang.yaxis.set_minor_locator(MultipleLocator(0.25))\n",
    "ax_ang.set_yticklabels([], minor=True)\n",
    "ax_ang.set_ylabel('angle (radians)', fontsize=16)\n",
    "ax_ang.set_ylim([-np.pi, np.pi])\n",
    "ax_ang.set_xlim([min(omega), max(omega)])\n",
    "ax_ang.set_xlabel(r'$\\omega$ (radians / second)')\n",
    "fig.suptitle('BODE PLOT')\n",
    "plt.show()"
   ]
  },
  {
   "cell_type": "markdown",
   "id": "f897e529",
   "metadata": {},
   "source": [
    "Show Bode plot again but this time with magnitude in dB and with angle in degrees."
   ]
  },
  {
   "cell_type": "code",
   "execution_count": null,
   "id": "b9c2d75a",
   "metadata": {},
   "outputs": [],
   "source": [
    "omega = np.logspace(-2, 2, 250)\n",
    "H_at_jomega = np.empty_like(omega, dtype=complex)\n",
    "for i in range(len(omega)):\n",
    "    H_at_jomega[i] = H(1j * omega[i])\n",
    "mag = 20 * np.log10(np.absolute(H_at_jomega))\n",
    "ang = np.rad2deg(np.angle(H_at_jomega))\n",
    "\n",
    "fig, (ax_mag, ax_ang) = plt.subplots(2, 1, figsize=(10, 5), sharex=True)\n",
    "ax_mag.semilogx(omega, mag, linewidth=3)\n",
    "ax_mag.semilogx(omega, -3. * np.ones_like(omega), '--', linewidth=2)\n",
    "ax_mag.grid(visible=True, which='both', axis='both')\n",
    "ax_mag.tick_params(labelsize=14)\n",
    "ax_mag.yaxis.set_minor_locator(MultipleLocator(10))\n",
    "ax_mag.set_yticklabels([], minor=True)\n",
    "ax_mag.set_ylabel('magnitude (dB)', fontsize=16)\n",
    "ax_ang.semilogx(omega, ang, linewidth=2)\n",
    "ax_ang.grid(visible=True, which='both', axis='both')\n",
    "ax_ang.tick_params(labelsize=14)\n",
    "# ax_ang.yaxis.set_minor_locator(MultipleLocator(0.25))\n",
    "ax_ang.set_yticklabels([], minor=True)\n",
    "ax_ang.set_ylabel('angle (degrees)', fontsize=16)\n",
    "ax_ang.set_ylim([-180, 180])\n",
    "ax_ang.set_xlim([min(omega), max(omega)])\n",
    "ax_ang.set_xlabel(r'$\\omega$ (radians / second)')\n",
    "fig.suptitle('BODE PLOT (dB and degrees)')\n",
    "plt.show()"
   ]
  },
  {
   "cell_type": "markdown",
   "id": "registered-faith",
   "metadata": {},
   "source": [
    "## Example of how to get and plot results\n",
    "\n",
    "Assume that we already did two things:\n",
    "\n",
    "* Added a drone with the name `my_netid` to the simulator\n",
    "* Ran the simulation"
   ]
  },
  {
   "cell_type": "markdown",
   "id": "ec57964f",
   "metadata": {},
   "source": [
    "Get result."
   ]
  },
  {
   "cell_type": "code",
   "execution_count": null,
   "id": "e41d5a61",
   "metadata": {},
   "outputs": [],
   "source": [
    "(\n",
    "    did_it_fail,\n",
    "    did_it_finish,\n",
    "    what_time_did_it_finish,\n",
    ") = simulator.get_result('my_netid')"
   ]
  },
  {
   "cell_type": "markdown",
   "id": "8967e6bd",
   "metadata": {},
   "source": [
    "Show result."
   ]
  },
  {
   "cell_type": "code",
   "execution_count": null,
   "id": "7d2272c6",
   "metadata": {},
   "outputs": [],
   "source": [
    "if did_it_fail:\n",
    "    print('The drone failed before finishing.')\n",
    "elif did_it_finish:\n",
    "    print(f'The drone finished at time {what_time_did_it_finish}')\n",
    "else:\n",
    "    print('The drone did not finish (yet).')"
   ]
  },
  {
   "cell_type": "markdown",
   "id": "polished-advisory",
   "metadata": {},
   "source": [
    "Get data."
   ]
  },
  {
   "cell_type": "code",
   "execution_count": null,
   "id": "liked-handle",
   "metadata": {},
   "outputs": [],
   "source": [
    "data = simulator.get_data('my_netid')"
   ]
  },
  {
   "cell_type": "markdown",
   "id": "cognitive-nomination",
   "metadata": {},
   "source": [
    "Plot results."
   ]
  },
  {
   "cell_type": "code",
   "execution_count": null,
   "id": "informed-watson",
   "metadata": {},
   "outputs": [],
   "source": [
    "# Create a figure with subplots that all share the same x-axis\n",
    "fig, (ax_pos, ax_ori, ax_act) = plt.subplots(3, 1, figsize=(12, 12), sharex=True)\n",
    "\n",
    "# Position\n",
    "ax_pos.plot(data['t'], data['p_x'], label='x (m)', linewidth=3, color='C0')\n",
    "ax_pos.plot(data['t'], data['p_y'], label='y (m)', linewidth=3, color='C1')\n",
    "ax_pos.plot(data['t'], data['p_z'], label='z (m)', linewidth=3, color='C2')\n",
    "ax_pos.plot(data['t'], data['p_x_meas'], '.', label='measured x (m)', markersize=3, color='C0')\n",
    "ax_pos.plot(data['t'], data['p_y_meas'], '.', label='measured y (m)', markersize=3, color='C1')\n",
    "ax_pos.plot(data['t'], data['p_z_meas'], '.', label='measured z (m)', markersize=3, color='C2')\n",
    "ax_pos.grid()\n",
    "ax_pos.legend(fontsize=16, bbox_to_anchor=(1., 1.))\n",
    "ax_pos.tick_params(labelsize=14)\n",
    "\n",
    "# Orientation\n",
    "ax_ori.plot(data['t'], data['yaw'], label='yaw (rad)', linewidth=3)\n",
    "ax_ori.plot(data['t'], data['pitch'], label='pitch (rad)', linewidth=3)\n",
    "ax_ori.plot(data['t'], data['roll'], label='roll (rad)', linewidth=3)\n",
    "ax_ori.plot(data['t'], data['yaw_meas'], '.', label='measured yaw (rad)', markersize=3, color='C0')\n",
    "ax_ori.grid()\n",
    "ax_ori.legend(fontsize=16, bbox_to_anchor=(1., 1.))\n",
    "ax_ori.tick_params(labelsize=14)\n",
    "\n",
    "# Actuator commands\n",
    "ax_act.plot(data['t'], data['tau_x'], label='tau_x (N-m)', linewidth=4)\n",
    "ax_act.plot(data['t'], data['tau_x_cmd'], '--', label='commanded tau_x (N-m)', linewidth=4)\n",
    "ax_act.plot(data['t'], data['tau_y'], label='tau_y (N-m)', linewidth=4)\n",
    "ax_act.plot(data['t'], data['tau_y_cmd'], '--', label='commanded tau_y (N-m)', linewidth=4)\n",
    "ax_act.plot(data['t'], data['tau_z'], label='tau_z (N-m)', linewidth=4)\n",
    "ax_act.plot(data['t'], data['tau_z_cmd'], '--', label='commanded tau_z (N-m)', linewidth=4)\n",
    "ax_act.plot(data['t'], data['f_z'] - (0.5 * 9.81), label='f_z - m g (N)', linewidth=4) # <-- FIXME\n",
    "ax_act.plot(data['t'], data['f_z_cmd'] - (0.5 * 9.81), '--', label='commanded f_z - m g (N)', linewidth=4) # <-- FIXME\n",
    "ax_act.grid()\n",
    "ax_act.legend(fontsize=16, bbox_to_anchor=(1., 1.))\n",
    "ax_act.tick_params(labelsize=14)\n",
    "# ax_act.set_ylim(-10, 10) # <-- FIXME\n",
    "\n",
    "# Set shared x-axis properties\n",
    "ax_act.set_xlabel('time (s)', fontsize=20)\n",
    "ax_act.set_xlim([data['t'][0], data['t'][-1]])\n",
    "\n",
    "# Make the arrangement of subplots look nice\n",
    "fig.tight_layout()\n",
    "plt.show()"
   ]
  },
  {
   "cell_type": "markdown",
   "id": "03d089f6",
   "metadata": {},
   "source": [
    "Save the figure (without transparent background)."
   ]
  },
  {
   "cell_type": "code",
   "execution_count": null,
   "id": "8a97dcec",
   "metadata": {},
   "outputs": [],
   "source": [
    "fig.savefig('my_figure.png', facecolor='white', transparent=False)"
   ]
  },
  {
   "cell_type": "markdown",
   "id": "0439cf3a",
   "metadata": {},
   "source": [
    "Plot histogram of controller run times."
   ]
  },
  {
   "cell_type": "code",
   "execution_count": null,
   "id": "4921eddc",
   "metadata": {},
   "outputs": [],
   "source": [
    "plt.hist(data['run_time'])\n",
    "plt.ticklabel_format(style='scientific', scilimits=(0, 0), axis='x')\n",
    "plt.tick_params(labelsize=14)\n",
    "plt.xlabel('run time (s)', fontsize=14)\n",
    "plt.ylabel('count', fontsize=14)\n",
    "plt.tight_layout()\n",
    "plt.show()"
   ]
  },
  {
   "cell_type": "markdown",
   "id": "9155e43b",
   "metadata": {},
   "source": [
    "Note that it is required to also plot state estimates (in comparison to states) in order to check that your observer is working - no example is provided here, since no state estimates are being generated by the template `Controller` class."
   ]
  },
  {
   "cell_type": "markdown",
   "id": "secondary-condition",
   "metadata": {},
   "source": [
    "## Example of how to load drones from the \"students\" directory"
   ]
  },
  {
   "cell_type": "markdown",
   "id": "proprietary-camel",
   "metadata": {},
   "source": [
    "Load drones from `students` directory."
   ]
  },
  {
   "cell_type": "code",
   "execution_count": null,
   "id": "adolescent-anime",
   "metadata": {},
   "outputs": [],
   "source": [
    "failures = simulator.load_drones()"
   ]
  },
  {
   "cell_type": "markdown",
   "id": "progressive-catch",
   "metadata": {},
   "source": [
    "Reset drones (places drones at random positions within the start ring)."
   ]
  },
  {
   "cell_type": "code",
   "execution_count": null,
   "id": "noted-filter",
   "metadata": {},
   "outputs": [],
   "source": [
    "simulator.reset()"
   ]
  },
  {
   "cell_type": "markdown",
   "id": "broke-water",
   "metadata": {},
   "source": [
    "Run simulation for `max_time` seconds or until all drones finish."
   ]
  },
  {
   "cell_type": "code",
   "execution_count": null,
   "id": "40a41744",
   "metadata": {},
   "outputs": [],
   "source": [
    "simulator.camera_droneview('tbretl')"
   ]
  },
  {
   "cell_type": "code",
   "execution_count": null,
   "id": "russian-thunder",
   "metadata": {},
   "outputs": [],
   "source": [
    "simulator.run(max_time=None)"
   ]
  },
  {
   "cell_type": "markdown",
   "id": "small-nation",
   "metadata": {},
   "source": [
    "## Example of how to show results, change views, keep running"
   ]
  },
  {
   "cell_type": "markdown",
   "id": "engaged-award",
   "metadata": {},
   "source": [
    "Show results (so far)."
   ]
  },
  {
   "cell_type": "code",
   "execution_count": null,
   "id": "exclusive-orlando",
   "metadata": {},
   "outputs": [],
   "source": [
    "simulator.show_results()"
   ]
  },
  {
   "cell_type": "markdown",
   "id": "superior-sydney",
   "metadata": {},
   "source": [
    "View from behind a particular drone (assuming one exists that is named `template`)."
   ]
  },
  {
   "cell_type": "code",
   "execution_count": null,
   "id": "cutting-ecuador",
   "metadata": {},
   "outputs": [],
   "source": [
    "simulator.camera_droneview('template')"
   ]
  },
  {
   "cell_type": "markdown",
   "id": "american-corpus",
   "metadata": {},
   "source": [
    "Continue running simulation from same point for `max_time` seconds or until all drones finish."
   ]
  },
  {
   "cell_type": "code",
   "execution_count": null,
   "id": "known-retail",
   "metadata": {},
   "outputs": [],
   "source": [
    "simulator.run(max_time=5.0)"
   ]
  },
  {
   "cell_type": "markdown",
   "id": "herbal-twenty",
   "metadata": {},
   "source": [
    "View from finish ring instead of from start ring."
   ]
  },
  {
   "cell_type": "code",
   "execution_count": null,
   "id": "trained-martin",
   "metadata": {},
   "outputs": [],
   "source": [
    "simulator.camera_finishview()"
   ]
  },
  {
   "cell_type": "markdown",
   "id": "joined-nature",
   "metadata": {},
   "source": [
    "Continue running simulation from same point for `max_time` seconds or until all drones finish."
   ]
  },
  {
   "cell_type": "code",
   "execution_count": null,
   "id": "supposed-amplifier",
   "metadata": {},
   "outputs": [],
   "source": [
    "simulator.run(max_time=5.0)"
   ]
  },
  {
   "cell_type": "markdown",
   "id": "engaged-indonesian",
   "metadata": {},
   "source": [
    "Show results (so far)."
   ]
  },
  {
   "cell_type": "code",
   "execution_count": null,
   "id": "minor-superintendent",
   "metadata": {},
   "outputs": [],
   "source": [
    "simulator.show_results()"
   ]
  },
  {
   "cell_type": "markdown",
   "id": "earned-somewhere",
   "metadata": {},
   "source": [
    "## Example of how to clear and reload drones"
   ]
  },
  {
   "cell_type": "markdown",
   "id": "civilian-interface",
   "metadata": {},
   "source": [
    "Clear all drones."
   ]
  },
  {
   "cell_type": "code",
   "execution_count": null,
   "id": "economic-miller",
   "metadata": {},
   "outputs": [],
   "source": [
    "simulator.clear_drones()"
   ]
  },
  {
   "cell_type": "markdown",
   "id": "smoking-animation",
   "metadata": {},
   "source": [
    "Load drones again from `students` directory."
   ]
  },
  {
   "cell_type": "code",
   "execution_count": null,
   "id": "rental-member",
   "metadata": {},
   "outputs": [],
   "source": [
    "simulator.load_drones()"
   ]
  },
  {
   "cell_type": "markdown",
   "id": "democratic-advocacy",
   "metadata": {},
   "source": [
    "Reset drones (places drones at random positions within the start ring)."
   ]
  },
  {
   "cell_type": "code",
   "execution_count": null,
   "id": "every-times",
   "metadata": {},
   "outputs": [],
   "source": [
    "simulator.reset()"
   ]
  },
  {
   "cell_type": "markdown",
   "id": "special-camel",
   "metadata": {},
   "source": [
    "Run simulation until `max_time` is reached or until all drones finish."
   ]
  },
  {
   "cell_type": "code",
   "execution_count": null,
   "id": "present-analyst",
   "metadata": {},
   "outputs": [],
   "source": [
    "simulator.run(max_time=5.0)"
   ]
  },
  {
   "cell_type": "markdown",
   "id": "aquatic-saint",
   "metadata": {},
   "source": [
    "## Example of how to rearrange the rings"
   ]
  },
  {
   "cell_type": "markdown",
   "id": "natural-drunk",
   "metadata": {},
   "source": [
    "Rearrange the rings."
   ]
  },
  {
   "cell_type": "code",
   "execution_count": null,
   "id": "premium-mexico",
   "metadata": {},
   "outputs": [],
   "source": [
    "simulator.move_rings()"
   ]
  },
  {
   "cell_type": "markdown",
   "id": "allied-genealogy",
   "metadata": {},
   "source": [
    "Reset drones (places drones at random positions within the start ring)."
   ]
  },
  {
   "cell_type": "code",
   "execution_count": null,
   "id": "reasonable-writer",
   "metadata": {},
   "outputs": [],
   "source": [
    "simulator.reset()"
   ]
  },
  {
   "cell_type": "markdown",
   "id": "strange-provision",
   "metadata": {},
   "source": [
    "Run simulation until `max_time` is reached or until all drones finish."
   ]
  },
  {
   "cell_type": "code",
   "execution_count": null,
   "id": "narrative-worse",
   "metadata": {},
   "outputs": [],
   "source": [
    "simulator.run(max_time=5.0)"
   ]
  },
  {
   "cell_type": "markdown",
   "id": "realistic-virgin",
   "metadata": {},
   "source": [
    "## Example of how to take a snapshot"
   ]
  },
  {
   "cell_type": "markdown",
   "id": "rough-rally",
   "metadata": {},
   "source": [
    "View from behind a particular drone."
   ]
  },
  {
   "cell_type": "code",
   "execution_count": null,
   "id": "described-yukon",
   "metadata": {},
   "outputs": [],
   "source": [
    "simulator.camera_droneview('template')"
   ]
  },
  {
   "cell_type": "markdown",
   "id": "instant-scott",
   "metadata": {},
   "source": [
    "Display a snapshot."
   ]
  },
  {
   "cell_type": "code",
   "execution_count": null,
   "id": "thrown-harvard",
   "metadata": {},
   "outputs": [],
   "source": [
    "# Get snapshot as 480 x 480 x 4 numpy array of RGBA values\n",
    "rgba = simulator.snapshot()\n",
    "\n",
    "# Display snapshot\n",
    "plt.figure(figsize=(9, 9))\n",
    "plt.imshow(rgba)"
   ]
  },
  {
   "cell_type": "markdown",
   "id": "frequent-housing",
   "metadata": {},
   "source": [
    "Save the snapshot."
   ]
  },
  {
   "cell_type": "code",
   "execution_count": null,
   "id": "serial-tampa",
   "metadata": {},
   "outputs": [],
   "source": [
    "plt.imsave('my_snapshot.png', rgba)"
   ]
  },
  {
   "cell_type": "markdown",
   "id": "preliminary-washington",
   "metadata": {},
   "source": [
    "## Example of how to record a movie"
   ]
  },
  {
   "cell_type": "markdown",
   "id": "missing-administrator",
   "metadata": {},
   "source": [
    "Reset drones (places drones at random positions within the start ring)."
   ]
  },
  {
   "cell_type": "code",
   "execution_count": null,
   "id": "economic-tribe",
   "metadata": {},
   "outputs": [],
   "source": [
    "simulator.reset()"
   ]
  },
  {
   "cell_type": "markdown",
   "id": "usual-retention",
   "metadata": {},
   "source": [
    "View from behind a particular drone."
   ]
  },
  {
   "cell_type": "code",
   "execution_count": null,
   "id": "dental-eight",
   "metadata": {},
   "outputs": [],
   "source": [
    "simulator.camera_droneview('template')"
   ]
  },
  {
   "cell_type": "markdown",
   "id": "cutting-guide",
   "metadata": {},
   "source": [
    "Run simulation until `max_time` is reached or until all drones finish, saving movie to `my_video.mp4`."
   ]
  },
  {
   "cell_type": "code",
   "execution_count": null,
   "id": "comprehensive-taxation",
   "metadata": {},
   "outputs": [],
   "source": [
    "simulator.run(max_time=1.0, video_filename='my_video.mp4')"
   ]
  },
  {
   "cell_type": "markdown",
   "id": "190e07f5",
   "metadata": {},
   "source": [
    "## Example of how to allow print statements and long run times"
   ]
  },
  {
   "cell_type": "markdown",
   "id": "c686ae49",
   "metadata": {},
   "source": [
    "By default, your controller will fail if either of the following conditions is met:\n",
    "\n",
    "* It prints something to `stdout`.\n",
    "* It exceeds the maximum runtime of `1` second for `init`, `1` second for `reset`, and `5e-3` seconds for `run`.\n",
    "\n",
    "You can relax these rules for the purpose of development if you want, as follows."
   ]
  },
  {
   "cell_type": "code",
   "execution_count": null,
   "id": "d0d3f09c",
   "metadata": {},
   "outputs": [],
   "source": [
    "simulator.set_rules(\n",
    "    error_on_print=False,    # <-- allow print statements in controller code\n",
    "    error_on_timeout=False,  # <-- allow long runtimes in controller code\n",
    ")"
   ]
  }
 ],
 "metadata": {
  "kernelspec": {
   "display_name": "Python 3 (ipykernel)",
   "language": "python",
   "name": "python3"
  },
  "language_info": {
   "codemirror_mode": {
    "name": "ipython",
    "version": 3
   },
   "file_extension": ".py",
   "mimetype": "text/x-python",
   "name": "python",
   "nbconvert_exporter": "python",
   "pygments_lexer": "ipython3",
   "version": "3.10.2"
  }
 },
 "nbformat": 4,
 "nbformat_minor": 5
}

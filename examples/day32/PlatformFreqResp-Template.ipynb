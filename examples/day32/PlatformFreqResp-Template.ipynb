{
 "cells": [
  {
   "cell_type": "markdown",
   "id": "middle-acoustic",
   "metadata": {},
   "source": [
    "# Frequency response demo (platform)"
   ]
  },
  {
   "cell_type": "markdown",
   "id": "0c4ef7ac",
   "metadata": {},
   "source": [
    "Set up notebook."
   ]
  },
  {
   "cell_type": "code",
   "execution_count": null,
   "id": "dimensional-contamination",
   "metadata": {},
   "outputs": [],
   "source": [
    "# Import modules\n",
    "import time\n",
    "import numpy as np\n",
    "from scipy import linalg\n",
    "from scipy import signal\n",
    "import sympy as sym\n",
    "import matplotlib.pyplot as plt\n",
    "from matplotlib.ticker import MultipleLocator\n",
    "import ae353_platform\n",
    "\n",
    "# Enable interactive plots\n",
    "%matplotlib widget\n",
    "\n",
    "# Suppress the use of scientific notation when printing small numbers\n",
    "np.set_printoptions(suppress=True)"
   ]
  },
  {
   "cell_type": "markdown",
   "id": "c82e2fb9",
   "metadata": {},
   "source": [
    "Create a simulator."
   ]
  },
  {
   "cell_type": "code",
   "execution_count": null,
   "id": "27a2b4b1",
   "metadata": {},
   "outputs": [],
   "source": [
    "simulator = ae353_platform.Simulator(\n",
    "    display=False,\n",
    "    roll=0.,\n",
    ")"
   ]
  },
  {
   "cell_type": "markdown",
   "id": "c5f9a1fb",
   "metadata": {},
   "source": [
    "Define the state-space model."
   ]
  },
  {
   "cell_type": "code",
   "execution_count": null,
   "id": "e234f3f6",
   "metadata": {},
   "outputs": [],
   "source": [
    "# Equilibrium point\n",
    "q_e = 0.\n",
    "v_e = 0.\n",
    "tau_e = 0.\n",
    "\n",
    "# Jacobian matrices\n",
    "A = np.array([[0., 1.], [0., 0.]])\n",
    "B = np.array([[0.], [1.]])"
   ]
  },
  {
   "cell_type": "markdown",
   "id": "3182a932",
   "metadata": {},
   "source": [
    "Do control design by eigenvalue placement."
   ]
  },
  {
   "cell_type": "code",
   "execution_count": null,
   "id": "65ed6fd0",
   "metadata": {},
   "outputs": [],
   "source": [
    "K = signal.place_poles(A, B, [-1. + 2. * 1j, -1. - 2. * 1j]).gain_matrix\n",
    "print(f'K = np.array({K.tolist()})')"
   ]
  },
  {
   "cell_type": "markdown",
   "id": "ea1a0fbb",
   "metadata": {},
   "source": [
    "Do control implementation to track a sinusoidal desired platform angle."
   ]
  },
  {
   "cell_type": "code",
   "execution_count": null,
   "id": "f5cc8f60",
   "metadata": {},
   "outputs": [],
   "source": [
    "class Controller:\n",
    "    def __init__(self, K, q_e, v_e, tau_e):\n",
    "        self.K = K\n",
    "        self.q_e = q_e\n",
    "        self.v_e = v_e\n",
    "        self.tau_e = tau_e\n",
    "        \n",
    "        # Tell the simlator to log the desired platform angle\n",
    "        self.variables_to_log = ['q_des']\n",
    "    \n",
    "    def reset(self):\n",
    "        self.q_des = 0.\n",
    "    \n",
    "    def run(\n",
    "            self,\n",
    "            t,\n",
    "            platform_angle,\n",
    "            platform_velocity,\n",
    "            wheel_angle,\n",
    "            wheel_velocity,\n",
    "        ):\n",
    "        \n",
    "        # Find state\n",
    "        x = np.array([\n",
    "            platform_angle - self.q_e,\n",
    "            platform_velocity - self.v_e,\n",
    "        ])\n",
    "        \n",
    "        # Choose desired platform angle\n",
    "        w = 1.\n",
    "        self.q_des = np.sin(w * t)\n",
    "        \n",
    "        # Find desired state and input\n",
    "        x_des = np.array([\n",
    "            self.q_des - self.q_e,\n",
    "            0. - self.v_e,\n",
    "        ])\n",
    "        u_des = np.array([\n",
    "            0. - self.q_e,\n",
    "        ])\n",
    "        \n",
    "        # Find input\n",
    "        u = u_des - self.K @ (x - x_des)\n",
    "        \n",
    "        # Find torque applied to the platform\n",
    "        tau = u[0] + self.tau_e\n",
    "        \n",
    "        # Find (and return) equal and opposite torque applied to the wheel\n",
    "        wheel_torque = -tau\n",
    "        return wheel_torque"
   ]
  },
  {
   "cell_type": "markdown",
   "id": "6a55051f",
   "metadata": {},
   "source": [
    "Run simulation."
   ]
  },
  {
   "cell_type": "code",
   "execution_count": null,
   "id": "73d937e8",
   "metadata": {},
   "outputs": [],
   "source": [
    "# Create controller\n",
    "controller = Controller(K, q_e, v_e, tau_e)\n",
    "    \n",
    "# Reset simulator\n",
    "simulator.reset(\n",
    "    platform_angle=0.,\n",
    "    platform_velocity=0.,\n",
    "    wheel_angle=0.,\n",
    "    wheel_velocity=0.,\n",
    ")\n",
    "\n",
    "# Reset controller\n",
    "controller.reset()\n",
    "\n",
    "# Run simulator\n",
    "data = simulator.run(\n",
    "    controller,\n",
    "    max_time=50.,\n",
    ")"
   ]
  },
  {
   "cell_type": "markdown",
   "id": "3f0b6ef6",
   "metadata": {},
   "source": [
    "Plot results."
   ]
  },
  {
   "cell_type": "code",
   "execution_count": null,
   "id": "1dd54700",
   "metadata": {},
   "outputs": [],
   "source": [
    "t = data['t']\n",
    "q = data['platform_angle']\n",
    "v = data['platform_velocity']\n",
    "tau = - data['wheel_torque']\n",
    "q_des = data['q_des']\n",
    "\n",
    "fig, (ax_q, ax_v, ax_tau) = plt.subplots(3, 1, figsize=(8, 8), sharex=True)\n",
    "\n",
    "ax_q.plot(t, q, label=r'$q$', linewidth=4)\n",
    "ax_q.plot(t, q_des, '--', label=r'$q$ (desired)', linewidth=3)\n",
    "ax_q.grid()\n",
    "ax_q.legend(fontsize=16)\n",
    "ax_q.tick_params(labelsize=14)\n",
    "\n",
    "ax_v.plot(t, v, label=r'$v$', linewidth=4)\n",
    "ax_v.grid()\n",
    "ax_v.legend(fontsize=16)\n",
    "ax_v.tick_params(labelsize=14)\n",
    "\n",
    "ax_tau.plot(t, tau, label=r'$\\tau$', linewidth=4)\n",
    "ax_tau.plot(t, np.ones_like(tau) * simulator.tau_max, '--', color='C1', linewidth=2)\n",
    "ax_tau.plot(t, - np.ones_like(tau) * simulator.tau_max, '--', color='C1', linewidth=2)\n",
    "ax_tau.grid()\n",
    "ax_tau.legend(fontsize=16)\n",
    "ax_tau.tick_params(labelsize=14)\n",
    "\n",
    "ax_tau.set_xlabel('time (s)', fontsize=20)\n",
    "ax_tau.set_xlim([data['t'][0], data['t'][-1]])\n",
    "\n",
    "fig.tight_layout()\n",
    "plt.show()"
   ]
  },
  {
   "cell_type": "markdown",
   "id": "f505e559",
   "metadata": {},
   "source": [
    "Define a matrix that picks the *only* element of $x_\\text{des}$ that varies."
   ]
  },
  {
   "cell_type": "code",
   "execution_count": null,
   "id": "01f23c94",
   "metadata": {},
   "outputs": [],
   "source": [
    "M = np.array([[1., 0.]])"
   ]
  },
  {
   "cell_type": "markdown",
   "id": "843f31fb",
   "metadata": {},
   "source": [
    "Define closed-loop model."
   ]
  },
  {
   "cell_type": "code",
   "execution_count": null,
   "id": "b362ec83",
   "metadata": {},
   "outputs": [],
   "source": [
    "Am = A - B @ K\n",
    "Bm = - (A - B @ K) @ M.T\n",
    "Cm = M"
   ]
  },
  {
   "cell_type": "markdown",
   "id": "eda9e410",
   "metadata": {},
   "source": [
    "Define the function\n",
    "\n",
    "$$H(s) = C_m (s - A_m)^{-1} B_m$$\n",
    "\n",
    "where $s\\in\\mathbb{C}$ is a complex number."
   ]
  },
  {
   "cell_type": "code",
   "execution_count": null,
   "id": "add8a0a3",
   "metadata": {},
   "outputs": [],
   "source": [
    "H = lambda s: (Cm @ linalg.inv(s * np.eye(Am.shape[0]) - Am) @ Bm).item()"
   ]
  },
  {
   "cell_type": "markdown",
   "id": "cc519698",
   "metadata": {},
   "source": [
    "Find the magnitude $|H(j\\omega)|$ and the angle $\\angle H(j\\omega)$ of the complex number $H(j\\omega)$ for different choices of frequency $\\omega$ (radians / second).\n",
    "\n",
    "Remember that any complex number $z\\in\\mathbb{C}$ can be written as\n",
    "\n",
    "$$z = |z|e^{\\angle z} = |z| \\left( \\cos(\\angle z) + j \\sin(\\angle z) \\right)$$\n",
    "\n",
    "and that the period $T$ (in seconds) of a sinusoid with frequency $\\omega$ (in radians / second) is\n",
    "\n",
    "$$T = \\dfrac{2\\pi}{\\omega}.$$"
   ]
  },
  {
   "cell_type": "code",
   "execution_count": null,
   "id": "c0064aea",
   "metadata": {},
   "outputs": [],
   "source": [
    "omega = 1.\n",
    "H_of_jomega = H(1j * omega)\n",
    "magH = np.absolute(H_of_jomega)\n",
    "angH = np.angle(H_of_jomega)\n",
    "\n",
    "print(f'omega = {omega}')\n",
    "print(f'H(j omega) = {H_of_jomega:.4f}')\n",
    "print(f'mag = {magH:.4f}')\n",
    "print(f'ang = {angH:.4f}')"
   ]
  },
  {
   "cell_type": "markdown",
   "id": "a1a5373a",
   "metadata": {},
   "source": [
    "Create Bode plot (i.e., plot magnitude and angle of $H(jw)$ as $w$ varies)."
   ]
  },
  {
   "cell_type": "code",
   "execution_count": null,
   "id": "824fa817",
   "metadata": {},
   "outputs": [],
   "source": [
    "omega = np.logspace(-1, 1, 250)\n",
    "H_at_jomega = np.empty_like(omega, dtype=complex)\n",
    "for i in range(len(omega)):\n",
    "    H_at_jomega[i] = H(1j * omega[i])\n",
    "mag = np.absolute(H_at_jomega)\n",
    "ang = np.angle(H_at_jomega)\n",
    "\n",
    "fig, (ax_mag, ax_ang) = plt.subplots(2, 1, figsize=(10, 5), sharex=True)\n",
    "ax_mag.loglog(omega, mag, linewidth=3)\n",
    "ax_mag.grid(visible=True, which='both', axis='both')\n",
    "ax_mag.tick_params(labelsize=14)\n",
    "ax_mag.yaxis.set_minor_locator(MultipleLocator(1e-1))\n",
    "ax_mag.set_yticklabels([], minor=True)\n",
    "ax_mag.set_ylabel('magnitude', fontsize=16)\n",
    "ax_ang.semilogx(omega, ang, linewidth=2)\n",
    "ax_ang.grid(visible=True, which='both', axis='both')\n",
    "ax_ang.tick_params(labelsize=14)\n",
    "ax_ang.yaxis.set_minor_locator(MultipleLocator(0.25))\n",
    "ax_ang.set_yticklabels([], minor=True)\n",
    "ax_ang.set_ylabel('angle (radians)', fontsize=16)\n",
    "ax_ang.set_ylim([-np.pi, 0.])\n",
    "ax_ang.set_xlim([min(omega), max(omega)])\n",
    "ax_ang.set_xlabel(r'$\\omega$ (radians / second)')\n",
    "plt.show()"
   ]
  }
 ],
 "metadata": {
  "kernelspec": {
   "display_name": "Python 3 (ipykernel)",
   "language": "python",
   "name": "python3"
  },
  "language_info": {
   "codemirror_mode": {
    "name": "ipython",
    "version": 3
   },
   "file_extension": ".py",
   "mimetype": "text/x-python",
   "name": "python",
   "nbconvert_exporter": "python",
   "pygments_lexer": "ipython3",
   "version": "3.10.2"
  }
 },
 "nbformat": 4,
 "nbformat_minor": 5
}

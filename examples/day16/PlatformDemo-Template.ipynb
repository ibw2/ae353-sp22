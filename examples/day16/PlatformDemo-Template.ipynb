{
 "cells": [
  {
   "cell_type": "markdown",
   "id": "middle-acoustic",
   "metadata": {},
   "source": [
    "# Control of a \"spacecraft\" platform with a reaction wheel"
   ]
  },
  {
   "cell_type": "markdown",
   "id": "44989aeb",
   "metadata": {},
   "source": [
    "Do all imports:"
   ]
  },
  {
   "cell_type": "code",
   "execution_count": null,
   "id": "dimensional-contamination",
   "metadata": {},
   "outputs": [],
   "source": [
    "# These are standard modules\n",
    "import time\n",
    "import numpy as np\n",
    "from scipy import linalg\n",
    "from scipy import signal\n",
    "import sympy as sym\n",
    "import matplotlib.pyplot as plt\n",
    "from IPython.display import display, Latex, Markdown\n",
    "\n",
    "# This is a custom interface to the pybullet simulator\n",
    "import ae353_platform\n",
    "\n",
    "# Suppress the use of scientific notation when printing small numbers\n",
    "np.set_printoptions(suppress=True)"
   ]
  },
  {
   "cell_type": "markdown",
   "id": "9998bf60",
   "metadata": {},
   "source": [
    "This function returns the solution to the LQR problem\n",
    "\n",
    "$$\\begin{align*} \\underset{u_{[t_0,\\infty]}}{\\text{minimize}} &\\qquad\\int_{t_0}^{\\infty} \\left( x(t)^T Q x(t) + u(t)^T R u(t) \\right) dt\\\\ \\text{subject to} &\\qquad\\dot{x}(t)=Ax(t)+Bu(t) \\\\ &\\qquad x(t_0)=x_0. \\end{align*}$$"
   ]
  },
  {
   "cell_type": "code",
   "execution_count": null,
   "id": "ed105b99",
   "metadata": {},
   "outputs": [],
   "source": [
    "def lqr(A, B, Q, R):\n",
    "    P = linalg.solve_continuous_are(A, B, Q, R)\n",
    "    K = linalg.inv(R) @  B.T @ P\n",
    "    return K, P"
   ]
  },
  {
   "cell_type": "markdown",
   "id": "73b3d8cb",
   "metadata": {},
   "source": [
    "Given a choice of ground roll angle $\\phi$, the equations of motion are\n",
    "\n",
    "$$\n",
    "\\begin{aligned}\n",
    "J_1 \\ddot{q}_1 &= \\tau - m_wgl\\sin(q_1)\\sin(\\phi) \\\\\n",
    "J_2 \\dot{v}_2 &= - \\left( \\dfrac{J_1 + J_2}{J_1} \\right) \\tau + \\left( \\dfrac{J_2}{J_1} \\right) m_wgl\\sin(q_1)\\sin(\\phi)\n",
    "\\end{aligned}\n",
    "$$\n",
    "\n",
    "where\n",
    "\n",
    "* $q_1$ is the platform angle\n",
    "* $\\dot{q}_1$ is the platform velocity\n",
    "* $v_2$ is the wheel velocity\n",
    "* $\\tau$ is the torque applied *to* the platform *by* the wheel\n",
    "\n",
    "and\n",
    "\n",
    "$$\n",
    "J_1 = J_p + m_wl^2\n",
    "\\qquad\n",
    "\\qquad\n",
    "J_2 = J_w\n",
    "$$\n",
    "\n",
    "and parameter values are defined as follows:"
   ]
  },
  {
   "cell_type": "code",
   "execution_count": null,
   "id": "ecac734d",
   "metadata": {},
   "outputs": [],
   "source": [
    "# distance from platform axis to wheel axis\n",
    "l = 1.\n",
    "\n",
    "# radius of wheel\n",
    "rw = 0.5\n",
    "\n",
    "# mass of wheel\n",
    "mw = 0.25\n",
    "\n",
    "# moi of wheel\n",
    "Jw = 0.5 * mw * rw**2\n",
    "\n",
    "# mass of platform\n",
    "mp = 12. * (1. - mw * l**2) / (3.**2 + 2.**2)\n",
    "\n",
    "# moment of inertia of platform\n",
    "Jp = (1. / 12.) * mp * (3.**2 + 2.**2)\n",
    "\n",
    "# gravity\n",
    "g = 9.81\n",
    "\n",
    "# composite parameters\n",
    "J1 = Jp + mw * l**2\n",
    "J2 = Jw"
   ]
  },
  {
   "cell_type": "markdown",
   "id": "a681dd77",
   "metadata": {},
   "source": [
    "Create an instance of the simulator (do `Kernel -> Restart` before evaluating this cell)."
   ]
  },
  {
   "cell_type": "code",
   "execution_count": null,
   "id": "bfa8fdbc",
   "metadata": {},
   "outputs": [],
   "source": [
    "simulator = ae353_platform.Simulator(\n",
    "    display=True,\n",
    "    roll=0.,\n",
    ")"
   ]
  },
  {
   "cell_type": "markdown",
   "id": "68c3a775",
   "metadata": {},
   "source": [
    "# Control wheel velocity only (no gravity)"
   ]
  },
  {
   "cell_type": "markdown",
   "id": "a71f3e2c",
   "metadata": {},
   "source": [
    "Set ground roll angle of simulator."
   ]
  },
  {
   "cell_type": "code",
   "execution_count": null,
   "id": "453a8136",
   "metadata": {},
   "outputs": [],
   "source": [
    "simulator.set_roll(0.)"
   ]
  },
  {
   "cell_type": "markdown",
   "id": "614e1160",
   "metadata": {},
   "source": [
    "The full equations of motion are:\n",
    "\n",
    "$$\n",
    "\\begin{aligned}\n",
    "J_1 \\ddot{q}_1 &= \\tau - m_wgl\\sin(q_1)\\sin(\\phi) \\\\\n",
    "J_2 \\dot{v}_2 &= - \\left( \\dfrac{J_1 + J_2}{J_1} \\right) \\tau + \\left( \\dfrac{J_2}{J_1} \\right) m_wgl\\sin(q_1)\\sin(\\phi)\n",
    "\\end{aligned}\n",
    "$$\n",
    "\n",
    "The equations of motion in this particular case ($\\phi=0$, ignore platform) are:\n",
    "\n",
    "$$\n",
    "\\begin{aligned}\n",
    "J_1 \\dot{v}_2 &= - \\left( \\dfrac{J_1 + J_2}{J_1} \\right) \\tau\n",
    "\\end{aligned}\n",
    "$$\n",
    "\n",
    "Write equations of motion as:\n",
    "\n",
    "$$\n",
    "\\begin{bmatrix} \\dot{v}_2 \\end{bmatrix}\n",
    "=\n",
    "f \\left( \\begin{bmatrix} v_2 \\end{bmatrix}, \\begin{bmatrix} \\tau \\end{bmatrix} \\right)\n",
    "$$"
   ]
  },
  {
   "cell_type": "markdown",
   "id": "cd8e3138",
   "metadata": {},
   "source": [
    "Define a function to return a state-space model for a given choice of equilibrium point."
   ]
  },
  {
   "cell_type": "code",
   "execution_count": null,
   "id": "cd653e6b",
   "metadata": {},
   "outputs": [],
   "source": [
    "def get_model(v2e, taue):\n",
    "    # Define variables\n",
    "    v2, tau = sym.symbols('v2, tau')\n",
    "    \n",
    "    # Define right-hand side of ODEs\n",
    "    f = sym.Matrix([\n",
    "        - ((J1 + J2) / (J1 * J2)) * tau,\n",
    "    ])\n",
    "\n",
    "    # Convert floating-point to rational numbers\n",
    "    f = sym.nsimplify(f, rational=True)\n",
    "    \n",
    "    # Verify equilibrium point\n",
    "    f_num = sym.lambdify([v2, tau], f)\n",
    "    if not np.allclose(f_num(v2e, taue), 0.):\n",
    "        raise Exception('equilibrium point is invalid')\n",
    "    \n",
    "    # Find A and B in symbolic form\n",
    "    A_sym = f.jacobian([v2])\n",
    "    B_sym = f.jacobian([tau])\n",
    "\n",
    "    # Create lambda functions to allow numerical evaluation of A and B\n",
    "    A_num = sym.lambdify([v2, tau], A_sym)\n",
    "    B_num = sym.lambdify([v2, tau], B_sym)\n",
    "\n",
    "    # Find A and B in numeric form (making sure the result is floating-point)\n",
    "    A = A_num(v2e, taue).astype(float)\n",
    "    B = B_num(v2e, taue).astype(float)\n",
    "\n",
    "    # Return A and B\n",
    "    return A, B"
   ]
  },
  {
   "cell_type": "markdown",
   "id": "24eb6067",
   "metadata": {},
   "source": [
    "Choose equilibrium point and get state-space model."
   ]
  },
  {
   "cell_type": "code",
   "execution_count": null,
   "id": "201705d5",
   "metadata": {},
   "outputs": [],
   "source": [
    "# Choose equilibrium point\n",
    "(v2e, taue) = (2*np.pi, 0.)\n",
    "\n",
    "# Get state-space model\n",
    "A, B = get_model(v2e, taue)\n",
    "\n",
    "# Show state-space model\n",
    "print(f'A =\\n{A}\\n\\nB =\\n{B}')"
   ]
  },
  {
   "cell_type": "markdown",
   "id": "d3a2ef0b",
   "metadata": {},
   "source": [
    "Check if system is controllable."
   ]
  },
  {
   "cell_type": "code",
   "execution_count": null,
   "id": "e382a803",
   "metadata": {},
   "outputs": [],
   "source": [
    "# Find controllability matrix\n",
    "W = np.block([B])\n",
    "\n",
    "# Check size of controllability matrix\n",
    "print(f'shape of W is {W.shape}\\n')\n",
    "\n",
    "# Find determinant of controllability matrix\n",
    "print(f'det(W) = {linalg.det(W)}\\n')\n",
    "\n",
    "# Find rank of controllability matrix\n",
    "print(f'rank(W) = {np.linalg.matrix_rank(W)}')\n",
    "print(f'number of states is {A.shape[0]}')"
   ]
  },
  {
   "cell_type": "markdown",
   "id": "c72b8922",
   "metadata": {},
   "source": [
    "Do control design by eigenvalue placement."
   ]
  },
  {
   "cell_type": "code",
   "execution_count": null,
   "id": "e07dd1b8",
   "metadata": {},
   "outputs": [],
   "source": [
    "# Choose desired eigenvalue locations\n",
    "p = [-1.]\n",
    "\n",
    "# Find gain matrix to put eigenvalues at desired locations\n",
    "K = signal.place_poles(A, B, p).gain_matrix\n",
    "\n",
    "# Show gain matrix\n",
    "print(f'K =\\n{K}\\n')\n",
    "\n",
    "# Show closed-loop eigenvalues\n",
    "print(f'p = {linalg.eigvals(A - B @ K)}')"
   ]
  },
  {
   "cell_type": "markdown",
   "id": "4083c9a8",
   "metadata": {},
   "source": [
    "Do control design by LQR."
   ]
  },
  {
   "cell_type": "code",
   "execution_count": null,
   "id": "b4d73f55",
   "metadata": {},
   "outputs": [],
   "source": [
    "# Choose weights\n",
    "# Q = ... # <-- FIXME\n",
    "# R = ... # <-- FIXME\n",
    "\n",
    "# Find optimal gain matrix (and cost matrix)\n",
    "K, P = lqr(A, B, Q, R)\n",
    "\n",
    "# Show gain matrix\n",
    "print(f'K =\\n{K}\\n')\n",
    "\n",
    "# Show closed-loop eigenvalues\n",
    "print(f'p = {linalg.eigvals(A - B @ K)}')"
   ]
  },
  {
   "cell_type": "markdown",
   "id": "d03303ef",
   "metadata": {},
   "source": [
    "# Control platform angle only (no gravity)"
   ]
  },
  {
   "cell_type": "markdown",
   "id": "37a52e13",
   "metadata": {},
   "source": [
    "Set ground roll angle of simulator."
   ]
  },
  {
   "cell_type": "code",
   "execution_count": null,
   "id": "b5a9e04c",
   "metadata": {},
   "outputs": [],
   "source": [
    "simulator.set_roll(0.)"
   ]
  },
  {
   "cell_type": "markdown",
   "id": "ce13c147",
   "metadata": {},
   "source": [
    "The full equations of motion are:\n",
    "\n",
    "$$\n",
    "\\begin{aligned}\n",
    "J_1 \\ddot{q}_1 &= \\tau - m_wgl\\sin(q_1)\\sin(\\phi) \\\\\n",
    "J_2 \\dot{v}_2 &= - \\left( \\dfrac{J_1 + J_2}{J_1} \\right) \\tau + \\left( \\dfrac{J_2}{J_1} \\right) m_wgl\\sin(q_1)\\sin(\\phi)\n",
    "\\end{aligned}\n",
    "$$\n",
    "\n",
    "The equations of motion in this particular case ($\\phi=0$, ignore wheel) are:\n",
    "\n",
    "$$\n",
    "\\begin{aligned}\n",
    "J_1 \\ddot{q}_1 &= \\tau\n",
    "\\end{aligned}\n",
    "$$\n",
    "\n",
    "Write equations of motion as:\n",
    "\n",
    "$$\n",
    "\\begin{bmatrix} \\dot{q}_1 \\\\ \\dot{v}_1 \\end{bmatrix}\n",
    "=\n",
    "f \\left( \\begin{bmatrix} q_1 \\\\ v_1 \\end{bmatrix}, \\begin{bmatrix} \\tau \\end{bmatrix} \\right)\n",
    "$$"
   ]
  },
  {
   "cell_type": "markdown",
   "id": "e50ceacd",
   "metadata": {},
   "source": [
    "Define a function to return a state-space model for a given choice of equilibrium point."
   ]
  },
  {
   "cell_type": "code",
   "execution_count": null,
   "id": "1655c004",
   "metadata": {},
   "outputs": [],
   "source": [
    "def get_model(q1e, v1e, taue):\n",
    "    # Define variables\n",
    "    q1, v1, tau = sym.symbols('q1, v1, tau')\n",
    "    \n",
    "    # Define right-hand side of ODEs\n",
    "    f = sym.Matrix([\n",
    "        v1,\n",
    "        (1 / J1) * tau,\n",
    "    ])\n",
    "\n",
    "    # Convert floating-point to rational numbers\n",
    "    f = sym.nsimplify(f, rational=True)\n",
    "    \n",
    "    # Verify equilibrium point\n",
    "    f_num = sym.lambdify([q1, v1, tau], f)\n",
    "    if not np.allclose(f_num(q1e, v1e, taue), 0.):\n",
    "        raise Exception('equilibrium point is invalid')\n",
    "    \n",
    "    # Find A and B in symbolic form\n",
    "    A_sym = f.jacobian([q1, v1])\n",
    "    B_sym = f.jacobian([tau])\n",
    "\n",
    "    # Create lambda functions to allow numerical evaluation of A and B\n",
    "    A_num = sym.lambdify([q1, v1, tau], A_sym)\n",
    "    B_num = sym.lambdify([q1, v1, tau], B_sym)\n",
    "\n",
    "    # Find A and B in numeric form (making sure the result is floating-point)\n",
    "    A = A_num(q1e, v1e, taue).astype(float)\n",
    "    B = B_num(q1e, v1e, taue).astype(float)\n",
    "\n",
    "    # Return A and B\n",
    "    return A, B"
   ]
  },
  {
   "cell_type": "markdown",
   "id": "e4671b24",
   "metadata": {},
   "source": [
    "Choose equilibrium point and get state-space model."
   ]
  },
  {
   "cell_type": "code",
   "execution_count": null,
   "id": "f1fb17e7",
   "metadata": {},
   "outputs": [],
   "source": [
    "# Choose equilibrium point\n",
    "(q1e, v1e, taue) = (np.pi / 6, 0., 0.)\n",
    "\n",
    "# Get state-space model\n",
    "A, B = get_model(q1e, v1e, taue)\n",
    "\n",
    "# Show state-space model\n",
    "print(f'A =\\n{A}\\n\\nB =\\n{B}')"
   ]
  },
  {
   "cell_type": "markdown",
   "id": "c6b3c2ed",
   "metadata": {},
   "source": [
    "Check if system is controllable."
   ]
  },
  {
   "cell_type": "code",
   "execution_count": null,
   "id": "4ad05076",
   "metadata": {},
   "outputs": [],
   "source": [
    "# Find controllability matrix\n",
    "W = np.block([B, A @ B])\n",
    "\n",
    "# Check size of controllability matrix\n",
    "print(f'shape of W is {W.shape}\\n')\n",
    "\n",
    "# Find determinant of controllability matrix\n",
    "print(f'det(W) = {linalg.det(W)}\\n')\n",
    "\n",
    "# Find rank of controllability matrix\n",
    "print(f'rank(W) = {np.linalg.matrix_rank(W)}')\n",
    "print(f'number of states is {A.shape[0]}')"
   ]
  },
  {
   "cell_type": "markdown",
   "id": "24cd8f85",
   "metadata": {},
   "source": [
    "Do control design by eigenvalue placement."
   ]
  },
  {
   "cell_type": "code",
   "execution_count": null,
   "id": "9a5606ea",
   "metadata": {},
   "outputs": [],
   "source": [
    "# Choose desired eigenvalue locations\n",
    "p = [-1., -2.]\n",
    "\n",
    "# Find gain matrix to put eigenvalues at desired locations\n",
    "K = signal.place_poles(A, B, p).gain_matrix\n",
    "\n",
    "# Show gain matrix\n",
    "print(f'K =\\n{K}\\n')\n",
    "\n",
    "# Show closed-loop eigenvalues\n",
    "print(f'p = {linalg.eigvals(A - B @ K)}')"
   ]
  },
  {
   "cell_type": "markdown",
   "id": "830998f6",
   "metadata": {},
   "source": [
    "Do control design by LQR."
   ]
  },
  {
   "cell_type": "code",
   "execution_count": null,
   "id": "d75c1413",
   "metadata": {},
   "outputs": [],
   "source": [
    "# Choose weights\n",
    "# Q = ... # <-- FIXME\n",
    "# R = ... # <-- FIXME\n",
    "\n",
    "# Find optimal gain matrix (and cost matrix)\n",
    "K, P = lqr(A, B, Q, R)\n",
    "\n",
    "# Show gain matrix\n",
    "print(f'K =\\n{K}\\n')\n",
    "\n",
    "# Show closed-loop eigenvalues\n",
    "print(f'p = {linalg.eigvals(A - B @ K)}')"
   ]
  },
  {
   "cell_type": "markdown",
   "id": "d703c4f3",
   "metadata": {},
   "source": [
    "# Control platform angle and wheel velocity with gravity"
   ]
  },
  {
   "cell_type": "markdown",
   "id": "cb21918c",
   "metadata": {},
   "source": [
    "Set ground roll angle of simulator."
   ]
  },
  {
   "cell_type": "code",
   "execution_count": null,
   "id": "ec0170e5",
   "metadata": {},
   "outputs": [],
   "source": [
    "simulator.set_roll(np.pi / 2)"
   ]
  },
  {
   "cell_type": "markdown",
   "id": "6efc62f7",
   "metadata": {},
   "source": [
    "The full equations of motion are:\n",
    "\n",
    "$$\n",
    "\\begin{aligned}\n",
    "J_1 \\ddot{q}_1 &= \\tau - m_wgl\\sin(q_1)\\sin(\\phi) \\\\\n",
    "J_2 \\dot{v}_2 &= - \\left( \\dfrac{J_1 + J_2}{J_1} \\right) \\tau + \\left( \\dfrac{J_2}{J_1} \\right) m_wgl\\sin(q_1)\\sin(\\phi)\n",
    "\\end{aligned}\n",
    "$$\n",
    "\n",
    "The equations of motion in this particular case ($\\phi=\\pi/2$) are:\n",
    "\n",
    "$$\n",
    "\\begin{aligned}\n",
    "J_1 \\ddot{q}_1 &= \\tau - m_wgl\\sin(q_1) \\\\\n",
    "J_2 \\dot{v}_2 &= - \\left( \\dfrac{J_1 + J_2}{J_1} \\right) \\tau + \\left( \\dfrac{J_2}{J_1} \\right) m_wgl\\sin(q_1)\n",
    "\\end{aligned}\n",
    "$$\n",
    "\n",
    "Write equations of motion as:\n",
    "\n",
    "$$\n",
    "\\begin{bmatrix} \\dot{q}_1 \\\\ \\dot{v}_1 \\\\ \\dot{v}_2 \\end{bmatrix}\n",
    "=\n",
    "f \\left( \\begin{bmatrix} q_1 \\\\ v_1 \\\\ v_2 \\end{bmatrix}, \\begin{bmatrix} \\tau \\end{bmatrix} \\right)\n",
    "$$"
   ]
  },
  {
   "cell_type": "markdown",
   "id": "c200a16d",
   "metadata": {},
   "source": [
    "Define a function to return a state-space model for a given choice of equilibrium point."
   ]
  },
  {
   "cell_type": "code",
   "execution_count": null,
   "id": "a893330d",
   "metadata": {},
   "outputs": [],
   "source": [
    "def get_model(q1e, v1e, v2e, taue):\n",
    "    # Define variables\n",
    "    q1, v1, v2, tau = sym.symbols('q1, v1, v2, tau')\n",
    "    \n",
    "    # Define right-hand side of ODEs\n",
    "    f = sym.Matrix([\n",
    "        v1,\n",
    "        (1 / J1) * (tau - mw * g * l * sym.sin(q1)),\n",
    "        (1 / J2) * (- ((J1 + J2) / J1) * tau + (J2 / J1) * mw * g * l * sym.sin(q1))\n",
    "    ])\n",
    "\n",
    "    # Convert floating-point to rational numbers\n",
    "    f = sym.nsimplify(f, rational=True)\n",
    "    \n",
    "    # Verify equilibrium point\n",
    "    f_num = sym.lambdify([q1, v1, v2, tau], f)\n",
    "    if not np.allclose(f_num(q1e, v1e, v2e, taue), 0.):\n",
    "        raise Exception('equilibrium point is invalid')\n",
    "    \n",
    "    # Find A and B in symbolic form\n",
    "    A_sym = f.jacobian([q1, v1, v2])\n",
    "    B_sym = f.jacobian([tau])\n",
    "\n",
    "    # Create lambda functions to allow numerical evaluation of A and B\n",
    "    A_num = sym.lambdify([q1, v1, v2, tau], A_sym)\n",
    "    B_num = sym.lambdify([q1, v1, v2, tau], B_sym)\n",
    "\n",
    "    # Find A and B in numeric form (making sure the result is floating-point)\n",
    "    A = A_num(q1e, v1e, v2e, taue).astype(float)\n",
    "    B = B_num(q1e, v1e, v2e, taue).astype(float)\n",
    "\n",
    "    # Return A and B\n",
    "    return A, B"
   ]
  },
  {
   "cell_type": "markdown",
   "id": "0efcb4d2",
   "metadata": {},
   "source": [
    "Choose equilibrium point and get state-space model."
   ]
  },
  {
   "cell_type": "code",
   "execution_count": null,
   "id": "7139db3e",
   "metadata": {},
   "outputs": [],
   "source": [
    "# Choose equilibrium point\n",
    "(q1e, v1e, v2e, taue) = (np.pi, 0., 0., 0.)\n",
    "\n",
    "# Get state-space model\n",
    "A, B = get_model(q1e, v1e, v2e, taue)\n",
    "\n",
    "# Show state-space model\n",
    "print(f'A =\\n{A}\\n\\nB =\\n{B}')"
   ]
  },
  {
   "cell_type": "markdown",
   "id": "dcefa329",
   "metadata": {},
   "source": [
    "Check if system is controllable."
   ]
  },
  {
   "cell_type": "code",
   "execution_count": null,
   "id": "4cc2b9e6",
   "metadata": {},
   "outputs": [],
   "source": [
    "# Find controllability matrix\n",
    "W = np.block([B, A @ B, A @ A @ B])\n",
    "\n",
    "# Check size of controllability matrix\n",
    "print(f'shape of W is {W.shape}\\n')\n",
    "\n",
    "# Find determinant of controllability matrix\n",
    "print(f'det(W) = {linalg.det(W)}\\n')\n",
    "\n",
    "# Find rank of controllability matrix\n",
    "print(f'rank(W) = {np.linalg.matrix_rank(W)}')\n",
    "print(f'number of states is {A.shape[0]}')"
   ]
  },
  {
   "cell_type": "markdown",
   "id": "4c8ffb3f",
   "metadata": {},
   "source": [
    "Do control design by eigenvalue placement."
   ]
  },
  {
   "cell_type": "code",
   "execution_count": null,
   "id": "c03d456c",
   "metadata": {},
   "outputs": [],
   "source": [
    "# Choose desired eigenvalue locations\n",
    "p = [-1., -2., -3.]\n",
    "\n",
    "# Find gain matrix to put eigenvalues at desired locations\n",
    "K = signal.place_poles(A, B, p).gain_matrix\n",
    "\n",
    "# Show gain matrix\n",
    "print(f'K =\\n{K}\\n')\n",
    "\n",
    "# Show closed-loop eigenvalues\n",
    "print(f'p = {linalg.eigvals(A - B @ K)}')"
   ]
  },
  {
   "cell_type": "markdown",
   "id": "83dfa3ab",
   "metadata": {},
   "source": [
    "Do control design by LQR."
   ]
  },
  {
   "cell_type": "code",
   "execution_count": null,
   "id": "6041bbbb",
   "metadata": {},
   "outputs": [],
   "source": [
    "# Choose weights\n",
    "# Q = ... # <-- FIXME\n",
    "# R = ... # <-- FIXME\n",
    "\n",
    "# Find optimal gain matrix (and cost matrix)\n",
    "K, P = lqr(A, B, Q, R)\n",
    "\n",
    "# Show gain matrix\n",
    "print(f'K =\\n{K}\\n')\n",
    "\n",
    "# Show closed-loop eigenvalues\n",
    "print(f'p = {linalg.eigvals(A - B @ K)}')"
   ]
  },
  {
   "cell_type": "markdown",
   "id": "5795f1b4",
   "metadata": {},
   "source": [
    "# Control platform angle and wheel velocity *without* gravity"
   ]
  },
  {
   "cell_type": "markdown",
   "id": "177fbdba",
   "metadata": {},
   "source": [
    "Set ground roll angle of simulator."
   ]
  },
  {
   "cell_type": "code",
   "execution_count": null,
   "id": "281ae2d6",
   "metadata": {},
   "outputs": [],
   "source": [
    "simulator.set_roll(0.)"
   ]
  },
  {
   "cell_type": "markdown",
   "id": "8fe4795f",
   "metadata": {},
   "source": [
    "The full equations of motion are:\n",
    "\n",
    "$$\n",
    "\\begin{aligned}\n",
    "J_1 \\ddot{q}_1 &= \\tau - m_wgl\\sin(q_1)\\sin(\\phi) \\\\\n",
    "J_2 \\dot{v}_2 &= - \\left( \\dfrac{J_1 + J_2}{J_1} \\right) \\tau + \\left( \\dfrac{J_2}{J_1} \\right) m_wgl\\sin(q_1)\\sin(\\phi)\n",
    "\\end{aligned}\n",
    "$$\n",
    "\n",
    "The equations of motion in this particular case ($\\phi=0$) are:\n",
    "\n",
    "$$\n",
    "\\begin{aligned}\n",
    "J_1 \\ddot{q}_1 &= \\tau \\\\\n",
    "J_2 \\dot{v}_2 &= - \\left( \\dfrac{J_1 + J_2}{J_1} \\right) \\tau\n",
    "\\end{aligned}\n",
    "$$\n",
    "\n",
    "Write equations of motion as:\n",
    "\n",
    "$$\n",
    "\\begin{bmatrix} \\dot{q}_1 \\\\ \\dot{v}_1 \\\\ \\dot{v}_2 \\end{bmatrix}\n",
    "=\n",
    "f \\left( \\begin{bmatrix} q_1 \\\\ v_1 \\\\ v_2 \\end{bmatrix}, \\begin{bmatrix} \\tau \\end{bmatrix} \\right)\n",
    "$$"
   ]
  },
  {
   "cell_type": "markdown",
   "id": "230b669f",
   "metadata": {},
   "source": [
    "Define a function to return a state-space model for a given choice of equilibrium point."
   ]
  },
  {
   "cell_type": "code",
   "execution_count": null,
   "id": "e4bbaf7e",
   "metadata": {},
   "outputs": [],
   "source": [
    "def get_model(q1e, v1e, v2e, taue):\n",
    "    # Define variables\n",
    "    q1, v1, v2, tau = sym.symbols('q1, v1, v2, tau')\n",
    "    \n",
    "    # Define right-hand side of ODEs\n",
    "    f = sym.Matrix([\n",
    "        v1,\n",
    "        (1 / J1) * (tau),\n",
    "        (1 / J2) * (- ((J1 + J2) / J1) * tau)\n",
    "    ])\n",
    "\n",
    "    # Convert floating-point to rational numbers\n",
    "    f = sym.nsimplify(f, rational=True)\n",
    "    \n",
    "    # Verify equilibrium point\n",
    "    f_num = sym.lambdify([q1, v1, v2, tau], f)\n",
    "    if not np.allclose(f_num(q1e, v1e, v2e, taue), 0.):\n",
    "        raise Exception('equilibrium point is invalid')\n",
    "    \n",
    "    # Find A and B in symbolic form\n",
    "    A_sym = f.jacobian([q1, v1, v2])\n",
    "    B_sym = f.jacobian([tau])\n",
    "\n",
    "    # Create lambda functions to allow numerical evaluation of A and B\n",
    "    A_num = sym.lambdify([q1, v1, v2, tau], A_sym)\n",
    "    B_num = sym.lambdify([q1, v1, v2, tau], B_sym)\n",
    "\n",
    "    # Find A and B in numeric form (making sure the result is floating-point)\n",
    "    A = A_num(q1e, v1e, v2e, taue).astype(float)\n",
    "    B = B_num(q1e, v1e, v2e, taue).astype(float)\n",
    "\n",
    "    # Return A and B\n",
    "    return A, B"
   ]
  },
  {
   "cell_type": "markdown",
   "id": "51f0e2b6",
   "metadata": {},
   "source": [
    "Choose equilibrium point and get state-space model."
   ]
  },
  {
   "cell_type": "code",
   "execution_count": null,
   "id": "4e4bf0e4",
   "metadata": {},
   "outputs": [],
   "source": [
    "# Choose equilibrium point\n",
    "(q1e, v1e, v2e, taue) = (np.pi, 0., 0., 0.)\n",
    "\n",
    "# Get state-space model\n",
    "A, B = get_model(q1e, v1e, v2e, taue)\n",
    "\n",
    "# Show state-space model\n",
    "print(f'A =\\n{A}\\n\\nB =\\n{B}')"
   ]
  },
  {
   "cell_type": "markdown",
   "id": "6da8830c",
   "metadata": {},
   "source": [
    "Check if system is controllable."
   ]
  },
  {
   "cell_type": "code",
   "execution_count": null,
   "id": "6b9d6ee1",
   "metadata": {},
   "outputs": [],
   "source": [
    "# Find controllability matrix\n",
    "W = np.block([B, A @ B, A @ A @ B])\n",
    "\n",
    "# Check size of controllability matrix\n",
    "print(f'shape of W is {W.shape}\\n')\n",
    "\n",
    "# Find determinant of controllability matrix\n",
    "print(f'det(W) = {linalg.det(W)}\\n')\n",
    "\n",
    "# Find rank of controllability matrix\n",
    "print(f'rank(W) = {np.linalg.matrix_rank(W)}')\n",
    "print(f'number of states is {A.shape[0]}')"
   ]
  },
  {
   "cell_type": "markdown",
   "id": "167851ea",
   "metadata": {},
   "source": [
    "Do control design by eigenvalue placement."
   ]
  },
  {
   "cell_type": "code",
   "execution_count": null,
   "id": "7fc2b621",
   "metadata": {},
   "outputs": [],
   "source": [
    "# Choose desired eigenvalue locations\n",
    "p = [-1., -2., -3.]\n",
    "\n",
    "# Find gain matrix to put eigenvalues at desired locations\n",
    "K = signal.place_poles(A, B, p).gain_matrix\n",
    "\n",
    "# Show gain matrix\n",
    "print(f'K =\\n{K}\\n')\n",
    "\n",
    "# Show closed-loop eigenvalues\n",
    "print(f'p = {linalg.eigvals(A - B @ K)}')"
   ]
  },
  {
   "cell_type": "markdown",
   "id": "ea9e7f0c",
   "metadata": {},
   "source": [
    "Do control design by LQR."
   ]
  },
  {
   "cell_type": "code",
   "execution_count": null,
   "id": "71ada740",
   "metadata": {},
   "outputs": [],
   "source": [
    "# Choose weights\n",
    "# Q = ... # <-- FIXME\n",
    "# R = ... # <-- FIXME\n",
    "\n",
    "# Find optimal gain matrix (and cost matrix)\n",
    "K, P = lqr(A, B, Q, R)\n",
    "\n",
    "# Show gain matrix\n",
    "print(f'K =\\n{K}\\n')\n",
    "\n",
    "# Show closed-loop eigenvalues\n",
    "print(f'p = {linalg.eigvals(A - B @ K)}')"
   ]
  },
  {
   "cell_type": "markdown",
   "id": "3196571c",
   "metadata": {},
   "source": [
    "#### What if $A$ was very, very slightly different?"
   ]
  },
  {
   "cell_type": "code",
   "execution_count": null,
   "id": "3b76038d",
   "metadata": {},
   "outputs": [],
   "source": [
    "A2 = A + 1e-8 * np.random.standard_normal(size=A.shape)\n",
    "\n",
    "print(f'A =\\n{A}\\n')\n",
    "print(f'A2 =\\n{A2}')"
   ]
  },
  {
   "cell_type": "markdown",
   "id": "177c828e",
   "metadata": {},
   "source": [
    "Check if system is controllable."
   ]
  },
  {
   "cell_type": "code",
   "execution_count": null,
   "id": "132eb2a5",
   "metadata": {},
   "outputs": [],
   "source": [
    "# Find controllability matrix\n",
    "W = np.block([B, A2 @ B, A2 @ A2 @ B])\n",
    "\n",
    "# Check size of controllability matrix\n",
    "print(f'shape of W is {W.shape}\\n')\n",
    "\n",
    "# Find determinant of controllability matrix\n",
    "print(f'det(W) = {linalg.det(W)}\\n')\n",
    "\n",
    "# Find rank of controllability matrix\n",
    "print(f'rank(W) = {np.linalg.matrix_rank(W)}')\n",
    "print(f'number of states is {A.shape[0]}')"
   ]
  },
  {
   "cell_type": "markdown",
   "id": "eaa372d9",
   "metadata": {},
   "source": [
    "Do eigenvalue placement."
   ]
  },
  {
   "cell_type": "code",
   "execution_count": null,
   "id": "569b24c1",
   "metadata": {},
   "outputs": [],
   "source": [
    "# Choose desired eigenvalue locations\n",
    "p = [-1., -2., -3.]\n",
    "\n",
    "# Find gain matrix to put eigenvalues at desired locations\n",
    "K = signal.place_poles(A2, B, p).gain_matrix\n",
    "\n",
    "# Show gain matrix\n",
    "print(f'K =\\n{K}\\n')\n",
    "\n",
    "# Show closed-loop eigenvalues\n",
    "print(f'p = {linalg.eigvals(A2 - B @ K)}')"
   ]
  },
  {
   "cell_type": "markdown",
   "id": "2552fb86",
   "metadata": {},
   "source": [
    "Check singular values and condition number of $W$ instead of determinant and rank."
   ]
  },
  {
   "cell_type": "code",
   "execution_count": null,
   "id": "46139e08",
   "metadata": {},
   "outputs": [],
   "source": [
    "print(f'singular values of W: {linalg.svdvals(W)}')"
   ]
  },
  {
   "cell_type": "code",
   "execution_count": null,
   "id": "64b72b6b",
   "metadata": {},
   "outputs": [],
   "source": [
    "print(f'condition number of W: {np.linalg.cond(W)}')"
   ]
  },
  {
   "cell_type": "code",
   "execution_count": null,
   "id": "e8f6f17a",
   "metadata": {},
   "outputs": [],
   "source": [
    "s = linalg.svdvals(W)\n",
    "ratio = max(s) / min(s)\n",
    "print(f'ratio of largest singular value to smallest singlar value of W: {ratio}')"
   ]
  },
  {
   "cell_type": "markdown",
   "id": "82d9e620",
   "metadata": {},
   "source": [
    "Do control design by LQR."
   ]
  },
  {
   "cell_type": "code",
   "execution_count": null,
   "id": "ae62a88c",
   "metadata": {},
   "outputs": [],
   "source": [
    "# Choose weights\n",
    "# Q = ... # <-- FIXME\n",
    "# R = ... # <-- FIXME\n",
    "\n",
    "# Find optimal gain matrix (and cost matrix)\n",
    "K, P = lqr(A, B, Q, R)\n",
    "\n",
    "# Show gain matrix\n",
    "print(f'K =\\n{K}\\n')\n",
    "\n",
    "# Show closed-loop eigenvalues\n",
    "print(f'p = {linalg.eigvals(A - B @ K)}')"
   ]
  },
  {
   "cell_type": "markdown",
   "id": "882480ce",
   "metadata": {},
   "source": [
    "#### If a system is not controllable, does that mean we are completely out of luck?"
   ]
  },
  {
   "cell_type": "code",
   "execution_count": null,
   "id": "f6ef1b3a",
   "metadata": {},
   "outputs": [],
   "source": [
    "K = np.array([[1., 2., 3.]])\n",
    "\n",
    "print(linalg.eigvals(A - B @ K))"
   ]
  },
  {
   "cell_type": "code",
   "execution_count": null,
   "id": "c9fc73eb",
   "metadata": {},
   "outputs": [],
   "source": [
    "K = np.array([[11., 12., 13.]])\n",
    "\n",
    "print(linalg.eigvals(A - B @ K))"
   ]
  },
  {
   "cell_type": "markdown",
   "id": "386a4668",
   "metadata": {},
   "source": [
    "# Control platform angle with *two* reaction wheels"
   ]
  },
  {
   "cell_type": "code",
   "execution_count": null,
   "id": "cb2dfa0f",
   "metadata": {},
   "outputs": [],
   "source": [
    "# Get state-space model\n",
    "A = np.array([[0., 1.], [0., 0.]])\n",
    "B = np.array([[0., 0.], [1., 10.]])\n",
    "\n",
    "# Show state-space model\n",
    "print(f'A =\\n{A}\\n\\nB =\\n{B}')"
   ]
  },
  {
   "cell_type": "markdown",
   "id": "639315a8",
   "metadata": {},
   "source": [
    "Check if system is controllable."
   ]
  },
  {
   "cell_type": "code",
   "execution_count": null,
   "id": "4edd86fc",
   "metadata": {},
   "outputs": [],
   "source": [
    "# Find controllability matrix\n",
    "W = np.block([B, A @ B])\n",
    "\n",
    "# Check size of controllability matrix\n",
    "print(f'shape of W is {W.shape}\\n')\n",
    "\n",
    "# # Find determinant of controllability matrix\n",
    "# print(f'det(W) = {linalg.det(W)}\\n')\n",
    "\n",
    "# Find rank of controllability matrix\n",
    "print(f'rank(W) = {np.linalg.matrix_rank(W)}')\n",
    "print(f'number of states is {A.shape[0]}')"
   ]
  },
  {
   "cell_type": "markdown",
   "id": "07f22130",
   "metadata": {},
   "source": [
    "Choose linear combination of inputs."
   ]
  },
  {
   "cell_type": "code",
   "execution_count": null,
   "id": "e9453661",
   "metadata": {},
   "outputs": [],
   "source": [
    "# First column of B\n",
    "B_col1 = B[:, 0:1]\n",
    "\n",
    "# Second column of B\n",
    "B_col2 = B[:, 1:2]\n",
    "\n",
    "# Multipliers\n",
    "m1 = 0.1\n",
    "m2 = 0.9\n",
    "\n",
    "# Linear combination\n",
    "B1 = m1 * B_col1 + m2 * B_col2\n",
    "\n",
    "print(f'B1 =\\n{B1}')"
   ]
  },
  {
   "cell_type": "markdown",
   "id": "dc813c39",
   "metadata": {},
   "source": [
    "Do eigenvalue placement."
   ]
  },
  {
   "cell_type": "code",
   "execution_count": null,
   "id": "069ae68c",
   "metadata": {},
   "outputs": [],
   "source": [
    "# Choose desired eigenvalue locations\n",
    "p = [-1., -2.]\n",
    "\n",
    "# Find gain matrix to put eigenvalues at desired locations\n",
    "K1 = signal.place_poles(A, B1, p).gain_matrix\n",
    "\n",
    "# Find gain matrix for original system\n",
    "K = np.block([[m1 * K1], [m2 * K1]])\n",
    "\n",
    "# Show gain matrix\n",
    "print(f'K =\\n{K}\\n')\n",
    "\n",
    "# Show closed-loop eigenvalues\n",
    "print(f'p = {linalg.eigvals(A - B @ K)}')"
   ]
  },
  {
   "cell_type": "markdown",
   "id": "da90749e",
   "metadata": {},
   "source": [
    "Could we have done eigenvalue placement with `place_poles` all at once?"
   ]
  },
  {
   "cell_type": "code",
   "execution_count": null,
   "id": "0854ec14",
   "metadata": {},
   "outputs": [],
   "source": [
    "# Choose desired eigenvalue locations\n",
    "p = [-1., -2.]\n",
    "\n",
    "# Find gain matrix to put eigenvalues at desired locations\n",
    "K = signal.place_poles(A, B, p).gain_matrix"
   ]
  },
  {
   "cell_type": "code",
   "execution_count": null,
   "id": "a0de6ede",
   "metadata": {},
   "outputs": [],
   "source": []
  }
 ],
 "metadata": {
  "kernelspec": {
   "display_name": "Python 3 (ipykernel)",
   "language": "python",
   "name": "python3"
  },
  "language_info": {
   "codemirror_mode": {
    "name": "ipython",
    "version": 3
   },
   "file_extension": ".py",
   "mimetype": "text/x-python",
   "name": "python",
   "nbconvert_exporter": "python",
   "pygments_lexer": "ipython3",
   "version": "3.10.2"
  }
 },
 "nbformat": 4,
 "nbformat_minor": 5
}

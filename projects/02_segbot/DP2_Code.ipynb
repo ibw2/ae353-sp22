{
 "cells": [
  {
   "cell_type": "markdown",
   "id": "occasional-george",
   "metadata": {},
   "source": [
    "# Design Project 2\n",
    "\n",
    "This notebook makes use of [SymPy](https://docs.sympy.org/), which is a Python library for symbolic mathematics."
   ]
  },
  {
   "cell_type": "code",
   "execution_count": 343,
   "id": "sitting-discount",
   "metadata": {},
   "outputs": [
    {
     "data": {
      "text/plain": [
       "<module 'ae353_segbot' from '/Users/bellawatters/Documents/ae353-sp22/projects/02_segbot/ae353_segbot.py'>"
      ]
     },
     "execution_count": 343,
     "metadata": {},
     "output_type": "execute_result"
    }
   ],
   "source": [
    "import sympy as sym\n",
    "import numpy as np\n",
    "from sympy.physics import mechanics\n",
    "from sympy import *\n",
    "from scipy import linalg\n",
    "\n",
    "# This module is part of the python standard library\n",
    "import time\n",
    "\n",
    "# These modules are part of other existing libraries\n",
    "import matplotlib.pyplot as plt\n",
    "\n",
    "import ae353_segbot\n",
    "\n",
    "import importlib\n",
    "importlib.reload(ae353_segbot)"
   ]
  },
  {
   "cell_type": "markdown",
   "id": "f378b74a",
   "metadata": {},
   "source": [
    "## Equation of Motion Derivation\n",
    "\n",
    "Most of this derivation comes directly from Dr. Bretl's repository https://github.com/tbretl/ae353-sp22/tree/main/projects/02_segbot"
   ]
  },
  {
   "cell_type": "markdown",
   "id": "still-eclipse",
   "metadata": {},
   "source": [
    "Define physical constants, consistent with the URDF file:"
   ]
  },
  {
   "cell_type": "code",
   "execution_count": 344,
   "id": "native-parts",
   "metadata": {},
   "outputs": [],
   "source": [
    "# Dimensions of chassis\n",
    "dx = 0.4\n",
    "dy = 0.6\n",
    "dz = 0.8\n",
    "\n",
    "# Distance between axle and COM of chassis\n",
    "h = 0.3\n",
    "\n",
    "# Half-distance between wheels\n",
    "a = 0.7 / 2\n",
    "\n",
    "# Mass of chassis\n",
    "mb = 12.\n",
    "\n",
    "# MOI of chassis\n",
    "Jbx = (mb / 12) * (dy**2 + dz**2)\n",
    "Jby = (mb / 12) * (dx**2 + dz**2)\n",
    "Jbz = (mb / 12) * (dx**2 + dy**2)\n",
    "\n",
    "# Radius of each wheel\n",
    "r = 0.325\n",
    "\n",
    "# Width of each wheel\n",
    "hw = 0.075\n",
    "\n",
    "# Mass of each wheel\n",
    "mw = 1.2\n",
    "\n",
    "# MOI of each wheel\n",
    "Jw = (mw / 2) * r**2\n",
    "Jwt = (mw / 12) * (3 * r**2 + hw**2)\n",
    "\n",
    "# Total mass\n",
    "m = mb + 2 * mw\n",
    "\n",
    "# Total MOI\n",
    "Jx = Jbx + 2 * Jwt\n",
    "Jy = Jby\n",
    "Jz = Jbz + 2 * Jwt\n",
    "\n",
    "# Station parameters\n",
    "station_velocity = -0.5 # <-- FIXME (change the velocity to change gravity)\n",
    "station_radius = 20.    # <-- radius in meters of inside surface of station\n",
    "\n",
    "# Acceleration of artifical gravity\n",
    "g = station_velocity**2 * station_radius"
   ]
  },
  {
   "cell_type": "markdown",
   "id": "according-boost",
   "metadata": {},
   "source": [
    "Convert all physical constants to rational numbers:"
   ]
  },
  {
   "cell_type": "code",
   "execution_count": 345,
   "id": "environmental-mouth",
   "metadata": {},
   "outputs": [],
   "source": [
    "# Dimensions\n",
    "h = sym.nsimplify(h)\n",
    "a = sym.nsimplify(a)\n",
    "r = sym.nsimplify(r)\n",
    "\n",
    "# Masses\n",
    "mb = sym.nsimplify(mb)\n",
    "mw = sym.nsimplify(mw)\n",
    "m = sym.nsimplify(m)\n",
    "\n",
    "# MOIs\n",
    "Jx = sym.nsimplify(Jx)\n",
    "Jy = sym.nsimplify(Jy)\n",
    "Jz = sym.nsimplify(Jz)\n",
    "Jw = sym.nsimplify(Jw)\n",
    "Jwt = sym.nsimplify(Jwt)\n",
    "\n",
    "# Gravity\n",
    "g = sym.nsimplify(g)"
   ]
  },
  {
   "cell_type": "markdown",
   "id": "critical-trauma",
   "metadata": {},
   "source": [
    "Define variables (with a flag to indicate they are all real numbers — this helps simplify):"
   ]
  },
  {
   "cell_type": "code",
   "execution_count": 346,
   "id": "single-bidding",
   "metadata": {},
   "outputs": [],
   "source": [
    "(e_l,\n",
    " e_h,\n",
    " v1,\n",
    " v2,\n",
    " w,\n",
    " theta,\n",
    " tau_R,\n",
    " tau_L) = sym.symbols('e_l, e_h, v1, v2, w, theta, tau_R, tau_L', real=True)"
   ]
  },
  {
   "cell_type": "markdown",
   "id": "foster-marketplace",
   "metadata": {},
   "source": [
    "Compute equations of motion, excluding lateral and heading errors (see [Tuttle, 2014](https://docs.lib.purdue.edu/cgi/viewcontent.cgi?article=1415&context=open_access_theses)):"
   ]
  },
  {
   "cell_type": "code",
   "execution_count": 347,
   "id": "religious-fountain",
   "metadata": {},
   "outputs": [],
   "source": [
    "M = sym.Matrix([[m + 2 * Jw / r**2, 0, mb * h * sym.cos(theta)],\n",
    "                [0, (Jx + mb * h**2) * sym.sin(theta)**2 + Jz * sym.cos(theta)**2 + (2 * Jw * a**2 / r**2) + 2 * mw * a**2, 0],\n",
    "                [mb * h * sym.cos(theta), 0, Jy * mb * h**2]])\n",
    "N = sym.Matrix([[mb * h * (w**2 + v2**2) * sym.sin(theta)],\n",
    "                [-2 * (Jx - Jz + m * h**2) * sym.cos(theta) * sym.sin(theta) * w * v2 - mb * h * sym.sin(theta) * v1 * w],\n",
    "                [(Jx - Jz + mb * h**2) * sym.cos(theta) * sym.sin(theta) * w**2 + mb * g * h * sym.sin(theta)]])\n",
    "R = sym.Matrix([[1 / r, 1 / r],\n",
    "                [-a / r, a / r],\n",
    "                [-1, -1]])\n",
    "f1 = sym.simplify(M.inv() * (N + R * sym.Matrix([[tau_L], [tau_R]])))\n"
   ]
  },
  {
   "cell_type": "code",
   "execution_count": 348,
   "id": "chief-guatemala",
   "metadata": {},
   "outputs": [
    {
     "data": {
      "text/latex": [
       "$\\displaystyle \\left[\\begin{matrix}\\frac{78}{5} & 0 & \\frac{18 \\cos{\\left(\\theta \\right)}}{5}\\\\0 & \\frac{4289 \\sin^{2}{\\left(\\theta \\right)}}{2000} + \\frac{1169 \\cos^{2}{\\left(\\theta \\right)}}{2000} + \\frac{441}{1000} & 0\\\\\\frac{18 \\cos{\\left(\\theta \\right)}}{5} & 0 & \\frac{108}{125}\\end{matrix}\\right]$"
      ],
      "text/plain": [
       "Matrix([\n",
       "[           78/5,                                                            0, 18*cos(theta)/5],\n",
       "[              0, 4289*sin(theta)**2/2000 + 1169*cos(theta)**2/2000 + 441/1000,               0],\n",
       "[18*cos(theta)/5,                                                            0,         108/125]])"
      ]
     },
     "execution_count": 348,
     "metadata": {},
     "output_type": "execute_result"
    }
   ],
   "source": [
    "M"
   ]
  },
  {
   "cell_type": "code",
   "execution_count": 349,
   "id": "former-accordance",
   "metadata": {},
   "outputs": [
    {
     "data": {
      "text/latex": [
       "$\\displaystyle \\left[\\begin{matrix}\\left(\\frac{18 v_{2}^{2}}{5} + \\frac{18 w^{2}}{5}\\right) \\sin{\\left(\\theta \\right)}\\\\- \\frac{18 v_{1} w \\sin{\\left(\\theta \\right)}}{5} - \\frac{444 v_{2} w \\sin{\\left(\\theta \\right)} \\cos{\\left(\\theta \\right)}}{125}\\\\\\frac{39 w^{2} \\sin{\\left(\\theta \\right)} \\cos{\\left(\\theta \\right)}}{25} + 18 \\sin{\\left(\\theta \\right)}\\end{matrix}\\right]$"
      ],
      "text/plain": [
       "Matrix([\n",
       "[                       (18*v2**2/5 + 18*w**2/5)*sin(theta)],\n",
       "[-18*v1*w*sin(theta)/5 - 444*v2*w*sin(theta)*cos(theta)/125],\n",
       "[          39*w**2*sin(theta)*cos(theta)/25 + 18*sin(theta)]])"
      ]
     },
     "execution_count": 349,
     "metadata": {},
     "output_type": "execute_result"
    }
   ],
   "source": [
    "N"
   ]
  },
  {
   "cell_type": "code",
   "execution_count": 350,
   "id": "liquid-algeria",
   "metadata": {},
   "outputs": [
    {
     "data": {
      "text/latex": [
       "$\\displaystyle \\left[\\begin{matrix}\\frac{40}{13} & \\frac{40}{13}\\\\- \\frac{14}{13} & \\frac{14}{13}\\\\-1 & -1\\end{matrix}\\right]$"
      ],
      "text/plain": [
       "Matrix([\n",
       "[ 40/13, 40/13],\n",
       "[-14/13, 14/13],\n",
       "[    -1,    -1]])"
      ]
     },
     "execution_count": 350,
     "metadata": {},
     "output_type": "execute_result"
    }
   ],
   "source": [
    "R"
   ]
  },
  {
   "cell_type": "markdown",
   "id": "offensive-example",
   "metadata": {},
   "source": [
    "Compute full equations of motion:"
   ]
  },
  {
   "cell_type": "code",
   "execution_count": 351,
   "id": "recreational-termination",
   "metadata": {},
   "outputs": [],
   "source": [
    "f = sym.Matrix([[v1 * sym.sin(e_h)],\n",
    "                [w],\n",
    "                [f1]])"
   ]
  },
  {
   "cell_type": "markdown",
   "id": "korean-animal",
   "metadata": {},
   "source": [
    "Display the vector-valued function $f$ for which the equations of motion can be written as\n",
    "\n",
    "$$\\begin{bmatrix} \\dot{e}_\\text{lateral} \\\\ \\dot{e}_\\text{heading} \\\\ \\dot{v} \\\\ \\dot{w} \\\\ \\ddot{\\theta} \\end{bmatrix} = f(e_\\text{lateral}, e_\\text{heading}, v, w, \\theta, \\dot{\\theta}, \\tau_R, \\tau_L)$$"
   ]
  },
  {
   "cell_type": "code",
   "execution_count": 352,
   "id": "declared-lottery",
   "metadata": {},
   "outputs": [
    {
     "data": {
      "text/latex": [
       "$\\displaystyle \\left[\\begin{matrix}v_{1} \\sin{\\left(e_{h} \\right)}\\\\w\\\\- \\frac{1200 \\tau_{L} + 1200 \\tau_{R} + 1404 \\left(v_{2}^{2} + w^{2}\\right) \\sin{\\left(\\theta \\right)} + \\frac{65 \\left(50 \\tau_{L} + 50 \\tau_{R} - 39 w^{2} \\sin{\\left(2 \\theta \\right)} - 900 \\sin{\\left(\\theta \\right)}\\right) \\cos{\\left(\\theta \\right)}}{2}}{5850 \\cos^{2}{\\left(\\theta \\right)} - 6084}\\\\\\frac{32 \\left(- 875 \\tau_{L} + 875 \\tau_{R} - 2925 v_{1} w \\sin{\\left(\\theta \\right)} - 1443 v_{2} w \\sin{\\left(2 \\theta \\right)}\\right)}{13 \\left(3120 \\sin^{2}{\\left(\\theta \\right)} + 2051\\right)}\\\\\\frac{5 \\left(4225 \\tau_{L} + 4225 \\tau_{R} - \\frac{6591 w^{2} \\sin{\\left(2 \\theta \\right)}}{2} + 30 \\left(100 \\tau_{L} + 100 \\tau_{R} + 117 \\left(v_{2}^{2} + w^{2}\\right) \\sin{\\left(\\theta \\right)}\\right) \\cos{\\left(\\theta \\right)} - 76050 \\sin{\\left(\\theta \\right)}\\right)}{702 \\left(25 \\cos^{2}{\\left(\\theta \\right)} - 26\\right)}\\end{matrix}\\right]$"
      ],
      "text/plain": [
       "Matrix([\n",
       "[                                                                                                                                                                    v1*sin(e_h)],\n",
       "[                                                                                                                                                                              w],\n",
       "[        -(1200*tau_L + 1200*tau_R + 1404*(v2**2 + w**2)*sin(theta) + 65*(50*tau_L + 50*tau_R - 39*w**2*sin(2*theta) - 900*sin(theta))*cos(theta)/2)/(5850*cos(theta)**2 - 6084)],\n",
       "[                                                                   32*(-875*tau_L + 875*tau_R - 2925*v1*w*sin(theta) - 1443*v2*w*sin(2*theta))/(13*(3120*sin(theta)**2 + 2051))],\n",
       "[5*(4225*tau_L + 4225*tau_R - 6591*w**2*sin(2*theta)/2 + 30*(100*tau_L + 100*tau_R + 117*(v2**2 + w**2)*sin(theta))*cos(theta) - 76050*sin(theta))/(702*(25*cos(theta)**2 - 26))]])"
      ]
     },
     "execution_count": 352,
     "metadata": {},
     "output_type": "execute_result"
    }
   ],
   "source": [
    "f"
   ]
  },
  {
   "cell_type": "markdown",
   "id": "ranging-permit",
   "metadata": {},
   "source": [
    "Note that one of these ODEs is second-order — you will have to replace this with a set of two first-order ODEs, as usual."
   ]
  },
  {
   "cell_type": "markdown",
   "id": "b1097d81",
   "metadata": {},
   "source": [
    "## Linearization"
   ]
  },
  {
   "cell_type": "markdown",
   "id": "76a7d5c9",
   "metadata": {},
   "source": [
    "We will linearize the system using a state-space model."
   ]
  },
  {
   "cell_type": "markdown",
   "id": "e8b162a0",
   "metadata": {},
   "source": [
    "Our state is defined,\n",
    "$$x = \\left[\\begin{matrix}e_{lat} - e_{lat,e}\\\\e_{head} - e_{head,e}\\\\v_1 - v_{1,e}\\\\w - w_e\\\\v_2 - v_{2,e}\\\\ \\theta - \\theta_e\\end{matrix}\\right]$$\n",
    "where\n",
    "$$\\dot{\\theta} = v_2$$\n"
   ]
  },
  {
   "cell_type": "markdown",
   "id": "17f988ab",
   "metadata": {},
   "source": [
    "To convert the model to a state-space format, $\\dot{x} = Ax +Bu$, we must solve for the A & B matrices."
   ]
  },
  {
   "cell_type": "code",
   "execution_count": 353,
   "id": "a8476886",
   "metadata": {},
   "outputs": [
    {
     "data": {
      "text/latex": [
       "$\\displaystyle \\left[\\begin{matrix}v_{1} \\sin{\\left(e_{h} \\right)}\\\\w\\\\- \\frac{1200 \\tau_{L} + 1200 \\tau_{R} + 1404 \\left(v_{2}^{2} + w^{2}\\right) \\sin{\\left(\\theta \\right)} + \\frac{65 \\left(50 \\tau_{L} + 50 \\tau_{R} - 39 w^{2} \\sin{\\left(2 \\theta \\right)} - 900 \\sin{\\left(\\theta \\right)}\\right) \\cos{\\left(\\theta \\right)}}{2}}{5850 \\cos^{2}{\\left(\\theta \\right)} - 6084}\\\\\\frac{32 \\left(- 875 \\tau_{L} + 875 \\tau_{R} - 2925 v_{1} w \\sin{\\left(\\theta \\right)} - 1443 v_{2} w \\sin{\\left(2 \\theta \\right)}\\right)}{13 \\left(3120 \\sin^{2}{\\left(\\theta \\right)} + 2051\\right)}\\\\\\frac{5 \\left(4225 \\tau_{L} + 4225 \\tau_{R} - \\frac{6591 w^{2} \\sin{\\left(2 \\theta \\right)}}{2} + 30 \\left(100 \\tau_{L} + 100 \\tau_{R} + 117 \\left(v_{2}^{2} + w^{2}\\right) \\sin{\\left(\\theta \\right)}\\right) \\cos{\\left(\\theta \\right)} - 76050 \\sin{\\left(\\theta \\right)}\\right)}{702 \\left(25 \\cos^{2}{\\left(\\theta \\right)} - 26\\right)}\\\\v_{2}\\end{matrix}\\right]$"
      ],
      "text/plain": [
       "Matrix([\n",
       "[                                                                                                                                                                    v1*sin(e_h)],\n",
       "[                                                                                                                                                                              w],\n",
       "[        -(1200*tau_L + 1200*tau_R + 1404*(v2**2 + w**2)*sin(theta) + 65*(50*tau_L + 50*tau_R - 39*w**2*sin(2*theta) - 900*sin(theta))*cos(theta)/2)/(5850*cos(theta)**2 - 6084)],\n",
       "[                                                                   32*(-875*tau_L + 875*tau_R - 2925*v1*w*sin(theta) - 1443*v2*w*sin(2*theta))/(13*(3120*sin(theta)**2 + 2051))],\n",
       "[5*(4225*tau_L + 4225*tau_R - 6591*w**2*sin(2*theta)/2 + 30*(100*tau_L + 100*tau_R + 117*(v2**2 + w**2)*sin(theta))*cos(theta) - 76050*sin(theta))/(702*(25*cos(theta)**2 - 26))],\n",
       "[                                                                                                                                                                             v2]])"
      ]
     },
     "execution_count": 353,
     "metadata": {},
     "output_type": "execute_result"
    }
   ],
   "source": [
    "# add theta dot to the state matrix\n",
    "\n",
    "f = sym.Matrix([[v1 * sym.sin(e_h)],\n",
    "                [w],\n",
    "                [f1],\n",
    "                [v2]])\n",
    "\n",
    "u = sym.Matrix([[tau_R], \n",
    "                [tau_L]])\n",
    "f"
   ]
  },
  {
   "cell_type": "markdown",
   "id": "10e84ce7",
   "metadata": {},
   "source": [
    "For $\\dot{x}$ to equal 0, the equilibrium point must be defined as below."
   ]
  },
  {
   "cell_type": "code",
   "execution_count": 354,
   "id": "722feb94",
   "metadata": {},
   "outputs": [],
   "source": [
    "e_le = 0.                         # error = 0 at equilibrium\n",
    "e_he = 0.                         # error = 0 at equilibrium\n",
    "v1e = 1.                          # constant velocity (m/s)\n",
    "v2e = 0.                          # rad/s (theta_dot)\n",
    "we = 0.                           # rad/s\n",
    "thetae = 0.0                      # rad\n",
    "tau_Re = 0.                       # Nm\n",
    "tau_Le = 0.                       # Nm"
   ]
  },
  {
   "cell_type": "code",
   "execution_count": 355,
   "id": "0d7fe0c1",
   "metadata": {},
   "outputs": [],
   "source": [
    "def linearize_model(f, u, e_le, e_he, v1e, v2e, we, thetae, tau_Re, tau_Le) :\n",
    "    f_num = sym.lambdify([e_l, e_h, v1, v2, w, theta, tau_R, tau_L], f)\n",
    "    \n",
    "    # verify equilibrium point\n",
    "    eq = f_num(e_le, e_he, v1e, v2e, we, thetae, tau_Re, tau_Le)\n",
    "    #print(np.allclose(eq, 0.))\n",
    "    if not np.allclose(f_num(e_le, e_he, v1e, v2e, we, thetae, tau_Re, tau_Le), 0.):\n",
    "        raise Exception('equilibrium point is invalid')\n",
    "        \n",
    "    # Calculate symbolic A & B\n",
    "    A_sym = f.jacobian([e_l, e_h, v1, v2, w, theta])\n",
    "    B_sym = f.jacobian([tau_R, tau_L])\n",
    "    \n",
    "    # Create lambda functions to allow numerical evaluation of A and B\n",
    "    A_num = sym.lambdify([e_l, e_h, v1, v2, w, theta, tau_R, tau_L], A_sym)\n",
    "    B_num = sym.lambdify([e_l, e_h, v1, v2, w, theta, tau_R, tau_L], B_sym)\n",
    "    \n",
    "    # Find A and B in numeric form\n",
    "    A = A_num(e_le, e_he, v1e, v2e, we, thetae, tau_Re, tau_Le).astype(float)\n",
    "    B = B_num(e_le, e_he, v1e, v2e, we, thetae, tau_Re, tau_Le).astype(float)\n",
    "    \n",
    "    return A, B\n",
    "    \n",
    "\n",
    "A, B = linearize_model(f, u, e_le, e_he, v1e, v2e, we, thetae, tau_Re, tau_Le)\n",
    "A = sym.Matrix(A)\n",
    "B = sym.Matrix(B)"
   ]
  },
  {
   "cell_type": "markdown",
   "id": "59c041b1",
   "metadata": {},
   "source": [
    "## Finding the gain matrix ##\n",
    "Using the LQR equation:"
   ]
  },
  {
   "cell_type": "code",
   "execution_count": 356,
   "id": "f3107323",
   "metadata": {},
   "outputs": [],
   "source": [
    "# cast A and B as numpy arrays\n",
    "A = np.array(A).astype(float)\n",
    "B = np.array(B).astype(float)\n",
    "\n",
    "# Q1 = np.diag([40,40,12.5,12.5,40,3])\n",
    "# Q = np.diag([100,12.5,20,12.5,100,50])\n",
    "Q = np.diag([100, 13, 20, 12.5, 100, 50])     # e_lat, e_head, vel, turning rate, pitch angle, pitch rate\n",
    "R = np.eye(2)\n",
    "# Q = sym.Matrix(Q)\n",
    "# print(latex(Q))"
   ]
  },
  {
   "cell_type": "code",
   "execution_count": 357,
   "id": "585b1951",
   "metadata": {},
   "outputs": [
    {
     "data": {
      "text/plain": [
       "array([[1.46413748e+02, 1.00748153e+02, 1.59027820e+00, 2.36033092e-02,\n",
       "        5.10490431e-01, 5.71401207e-01],\n",
       "       [1.00748153e+02, 1.47359450e+02, 4.53750586e+00, 2.73995578e-01,\n",
       "        1.26567517e+00, 2.82555262e+00],\n",
       "       [1.59027820e+00, 4.53750586e+00, 3.12441542e+01, 3.01126040e+00,\n",
       "        7.32972804e+00, 2.53106156e+01],\n",
       "       [2.36033092e-02, 2.73995578e-01, 3.01126040e+00, 3.81097759e+00,\n",
       "        7.06960484e-01, 9.76731401e+00],\n",
       "       [5.10490431e-01, 1.26567517e+00, 7.32972804e+00, 7.06960484e-01,\n",
       "        1.85795643e+00, 6.04403390e+00],\n",
       "       [5.71401207e-01, 2.82555262e+00, 2.53106156e+01, 9.76731401e+00,\n",
       "        6.04403390e+00, 7.58579902e+01]])"
      ]
     },
     "execution_count": 357,
     "metadata": {},
     "output_type": "execute_result"
    }
   ],
   "source": [
    "P = linalg.solve_continuous_are(A, B, Q, R)\n",
    "P"
   ]
  },
  {
   "cell_type": "code",
   "execution_count": 358,
   "id": "122aab32",
   "metadata": {},
   "outputs": [
    {
     "data": {
      "text/plain": [
       "array([[ -7.04623748, -10.06433546,   3.17334326,   3.97570128,\n",
       "         -6.37900091,   4.79660873],\n",
       "       [ -7.09581125, -10.6398053 ,  -3.1511732 ,  -4.02845222,\n",
       "         -7.86382208, -15.71757138]])"
      ]
     },
     "execution_count": 358,
     "metadata": {},
     "output_type": "execute_result"
    }
   ],
   "source": [
    "K = linalg.inv(R) @  B.T @ P\n",
    "# K = sym.Matrix(K)\n",
    "K\n",
    "# print(latex(K))"
   ]
  },
  {
   "cell_type": "markdown",
   "id": "f13ec67f",
   "metadata": {},
   "source": [
    "Check stability of system - all eigenvalues should have a negative real part."
   ]
  },
  {
   "cell_type": "code",
   "execution_count": 359,
   "id": "5d52c135",
   "metadata": {},
   "outputs": [],
   "source": [
    "F = A - B @ K\n",
    "s = linalg.eigvals(F)\n",
    "if not (((s.real < 0).all())):\n",
    "    raise Exception('eigval real parts are not all negative ')"
   ]
  },
  {
   "cell_type": "markdown",
   "id": "d3851176",
   "metadata": {},
   "source": [
    "## Controllability"
   ]
  },
  {
   "cell_type": "code",
   "execution_count": 360,
   "id": "1e025063",
   "metadata": {},
   "outputs": [],
   "source": [
    "# W - controllability matrix\n",
    "W = B\n",
    "for i in range(1, len(A)):\n",
    "    col = np.linalg.matrix_power(A, i) @ B \n",
    "    W = np.block([W, col])"
   ]
  },
  {
   "cell_type": "code",
   "execution_count": 361,
   "id": "60b6948c",
   "metadata": {},
   "outputs": [],
   "source": [
    "# confirm controllability matrix has full rank\n",
    "if (np.linalg.matrix_rank(W) != A.shape[0]):\n",
    "    raise Exception('system is not controllable (W not full rank)')"
   ]
  },
  {
   "cell_type": "markdown",
   "id": "dd12e319",
   "metadata": {},
   "source": [
    "## Segbot in artificial gravity ##\n",
    "Simulation code from Dr.Bretl "
   ]
  },
  {
   "cell_type": "markdown",
   "id": "78888291",
   "metadata": {},
   "source": [
    "Create an instance of the `Simulator` class, which is an interface to the [pybullet](http://pybullet.org) simulation engine.\n",
    "\n",
    "There are several optional arguments:\n",
    "\n",
    "* `display` (`True` or `False`) is whether or not to show the simulation window;\n",
    "* `width` and `height` (positive integers, default `640` and `480`, respectively) is the weight and height of the simulation window (if shown) in pixels;\n",
    "* `bumpy` (`True` or `False`) is whether or not the station is \"bumpy\".\n",
    "\n",
    "**You must evaluate this cell only *once*.** If you want to start fresh with a new simulator, you must do `Kernel -> Restart` from the notebook menu first. If you evaluate this cell more than once without a call to `Kernel -> Restart` then you may get strange behavior that is hard to debug."
   ]
  },
  {
   "cell_type": "code",
   "execution_count": 22,
   "id": "ba125b10",
   "metadata": {},
   "outputs": [],
   "source": [
    "simulator = ae353_segbot.Simulator(\n",
    "    display=True,\n",
    "    width=480,\n",
    "    height=320,\n",
    "    bumpy=False,\n",
    ")"
   ]
  },
  {
   "cell_type": "markdown",
   "id": "caa586b9",
   "metadata": {},
   "source": [
    "Define a controller that maps sensor measurements to actuator commands. By default, it chooses to apply zero torque to the gimbal. Modify the `run` function to make the controller behave differently."
   ]
  },
  {
   "cell_type": "code",
   "execution_count": 362,
   "id": "9b6fdc0e",
   "metadata": {},
   "outputs": [],
   "source": [
    "class Controller:\n",
    "    def __init__(self):\n",
    "        pass\n",
    "    \n",
    "    def reset(self):\n",
    "        pass\n",
    "    \n",
    "    def run(\n",
    "            self,\n",
    "            t,\n",
    "            lateral_error,\n",
    "            heading_error,\n",
    "            forward_speed,\n",
    "            turning_rate,\n",
    "            pitch_angle,\n",
    "            pitch_rate,\n",
    "        ):\n",
    "        \n",
    "        lateral_error_desired = 0\n",
    "        heading_error_desired = 0\n",
    "        forward_speed_desired = 1\n",
    "        turning_rate_desired = 0\n",
    "        pitch_angle_desired = 0\n",
    "        pitch_rate_desired = 0\n",
    "        \n",
    "        # x = error - desired values\n",
    "        x = np.array([lateral_error - lateral_error_desired,\n",
    "                      heading_error - heading_error_desired,\n",
    "                      forward_speed - forward_speed_desired,\n",
    "                      turning_rate - turning_rate_desired,\n",
    "                      pitch_angle - pitch_angle_desired,\n",
    "                      pitch_rate - pitch_rate_desired\n",
    "                     ])\n",
    "        \n",
    "        u = -K @ x\n",
    "\n",
    "        right_wheel_torque = u[0]\n",
    "        left_wheel_torque = u[1]\n",
    "        \n",
    "        return right_wheel_torque, left_wheel_torque"
   ]
  },
  {
   "cell_type": "markdown",
   "id": "c2691d7c",
   "metadata": {},
   "source": [
    "Create an instance of the controller."
   ]
  },
  {
   "cell_type": "code",
   "execution_count": 363,
   "id": "83a1fb50",
   "metadata": {},
   "outputs": [],
   "source": [
    "controller = Controller()"
   ]
  },
  {
   "cell_type": "code",
   "execution_count": 364,
   "id": "40078f7f",
   "metadata": {},
   "outputs": [],
   "source": [
    "simulator.reset(\n",
    "    initial_speed=1.,                            \n",
    "    initial_lateral_error=0.,\n",
    "    initial_heading_error=0.,\n",
    "    initial_pitch=0.3,\n",
    "    station_velocity=0.0,\n",
    ")"
   ]
  },
  {
   "cell_type": "code",
   "execution_count": 365,
   "id": "62a76f55",
   "metadata": {},
   "outputs": [],
   "source": [
    "controller.reset()\n",
    "simulator.camera_backview()"
   ]
  },
  {
   "cell_type": "code",
   "execution_count": 366,
   "id": "9a6fb726",
   "metadata": {},
   "outputs": [],
   "source": [
    "data = simulator.run(\n",
    "    controller,           # <-- required (an instance of your Controller class)\n",
    "    max_time=6.0,         # <-- optional (how long you want to run the simulation in seconds)\n",
    "    data_filename=None,   # <-- optional (save data to this file, e.g., 'my_data.json')\n",
    "    video_filename=None,  # <-- optional (save video to this file, e.g., 'my_video.mov')\n",
    ")"
   ]
  },
  {
   "cell_type": "code",
   "execution_count": 367,
   "id": "df64baef",
   "metadata": {},
   "outputs": [
    {
     "data": {
      "image/png": "[encoded data removed]",
      "text/plain": [
       "<Figure size 576x576 with 1 Axes>"
      ]
     },
     "metadata": {
      "needs_background": "light"
     },
     "output_type": "display_data"
    }
   ],
   "source": [
    "# Get snapshot as height x width x 4 numpy array of RGBA values\n",
    "rgba = simulator.snapshot()\n",
    "\n",
    "# Display snapshot\n",
    "plt.figure(figsize=(8, 8))\n",
    "plt.imshow(rgba)\n",
    "\n",
    "# Save snapshot\n",
    "plt.imsave('my_snapshot.png', rgba)"
   ]
  },
  {
   "cell_type": "code",
   "execution_count": 368,
   "id": "7f79762e",
   "metadata": {
    "scrolled": false
   },
   "outputs": [
    {
     "data": {
      "image/png": "[encoded data removed]",
      "text/plain": [
       "<Figure size 720x576 with 4 Axes>"
      ]
     },
     "metadata": {
      "needs_background": "light"
     },
     "output_type": "display_data"
    }
   ],
   "source": [
    "# Create a figure with three subplots, all of which share the same x-axis\n",
    "fig, (ax_pos, ax_vel, ax_pitch, ax_torque) = plt.subplots(4, 1, figsize=(10, 8), sharex=True)\n",
    "\n",
    "# Plot lateral and heading error\n",
    "ax_pos.plot(\n",
    "    data['t'], data['lateral_error'],\n",
    "    label='lateral_error (m)', linewidth=4,\n",
    ")\n",
    "ax_pos.plot(\n",
    "    data['t'], data['heading_error'],\n",
    "    '--', label='heading_error (rad)', linewidth=4,\n",
    ")\n",
    "ax_pos.grid()\n",
    "ax_pos.legend(bbox_to_anchor=(1.0, 1.0), loc='upper left', fontsize=16)\n",
    "# ax_pos.legend(fontsize=16)\n",
    "ax_pos.tick_params(labelsize=14)\n",
    "\n",
    "# Plot forward speed and turning rate\n",
    "ax_vel.plot(\n",
    "    data['t'], data['forward_speed'],\n",
    "    label='forward speed (m/s)', linewidth=4,\n",
    ")\n",
    "ax_vel.plot(\n",
    "    data['t'], data['turning_rate'],\n",
    "    '--', label='turning rate (rad / s)', linewidth=4,\n",
    ")\n",
    "ax_vel.grid()\n",
    "ax_vel.legend(fontsize=16)\n",
    "ax_vel.legend(bbox_to_anchor=(1.0, 1.0), loc='upper left', fontsize=16)\n",
    "ax_vel.tick_params(labelsize=14)\n",
    "\n",
    "# Plot pitch angle and pitch rate\n",
    "ax_pitch.plot(\n",
    "    data['t'], data['pitch_angle'],\n",
    "    label='pitch angle (rad)', linewidth=4,\n",
    ")\n",
    "ax_pitch.plot(\n",
    "    data['t'], data['pitch_rate'],\n",
    "    '--', label='pitch rate (rad)', linewidth=4,\n",
    ")\n",
    "ax_pitch.grid()\n",
    "ax_pitch.legend(bbox_to_anchor=(1.0, 1.0), loc='upper left', fontsize=16)\n",
    "# ax_pitch.legend(fontsize=16)\n",
    "ax_pitch.tick_params(labelsize=14)\n",
    "\n",
    "# Plot torques\n",
    "ax_torque.plot(\n",
    "    data['t'], data['right_wheel_torque_command'],\n",
    "    label='right wheel torque command (N-m)', linewidth=4,\n",
    ")\n",
    "ax_torque.plot(\n",
    "    data['t'], data['right_wheel_torque'],\n",
    "    '--', label='right wheel torque (N-m)', linewidth=4,\n",
    ")\n",
    "ax_torque.plot(\n",
    "    data['t'], data['left_wheel_torque_command'],\n",
    "    label='left wheel torque command (N-m)', linewidth=4,\n",
    ")\n",
    "ax_torque.plot(\n",
    "    data['t'], data['left_wheel_torque'],\n",
    "    '--', label='left wheel torque (N-m)', linewidth=4,\n",
    ")\n",
    "ax_torque.plot(\n",
    "    data['t'], -np.ones_like(data['t']) * simulator.tau_max,\n",
    "    ':', linewidth=4, color='C4', zorder=0,\n",
    ")\n",
    "ax_torque.plot(\n",
    "    data['t'], np.ones_like(data['t']) * simulator.tau_max,\n",
    "    ':', linewidth=4, color='C4', zorder=0,\n",
    ")\n",
    "ax_torque.grid()\n",
    "# ax_torque.legend(fontsize=16)\n",
    "ax_torque.legend(bbox_to_anchor=(1.0, 1.0), loc='upper left', fontsize=16)\n",
    "ax_torque.tick_params(labelsize=14)\n",
    "ax_torque.set_ylim(-1.2 * simulator.tau_max, 1.2 * simulator.tau_max)\n",
    "\n",
    "# Set x-axis properties (only need to do this on the last\n",
    "# subplot since all subplots share the same x-axis)\n",
    "ax_torque.set_xlabel('time (s)', fontsize=20)\n",
    "ax_torque.set_xlim([data['t'][0], data['t'][-1]])\n",
    "\n",
    "# Make the arrangement of subplots look nice\n",
    "fig.tight_layout()"
   ]
  },
  {
   "cell_type": "code",
   "execution_count": null,
   "id": "544b381b",
   "metadata": {},
   "outputs": [],
   "source": []
  }
 ],
 "metadata": {
  "kernelspec": {
   "display_name": "Python 3 (ipykernel)",
   "language": "python",
   "name": "python3"
  },
  "language_info": {
   "codemirror_mode": {
    "name": "ipython",
    "version": 3
   },
   "file_extension": ".py",
   "mimetype": "text/x-python",
   "name": "python",
   "nbconvert_exporter": "python",
   "pygments_lexer": "ipython3",
   "version": "3.10.2"
  }
 },
 "nbformat": 4,
 "nbformat_minor": 5
}

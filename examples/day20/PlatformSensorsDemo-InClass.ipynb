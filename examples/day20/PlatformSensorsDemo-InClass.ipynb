{
 "cells": [
  {
   "cell_type": "markdown",
   "id": "a35a85e5",
   "metadata": {},
   "source": [
    "# Control platform angle with full state feedback"
   ]
  },
  {
   "cell_type": "markdown",
   "id": "443801f8",
   "metadata": {},
   "source": [
    "Do all imports:"
   ]
  },
  {
   "cell_type": "code",
   "execution_count": 1,
   "id": "be198884",
   "metadata": {},
   "outputs": [
    {
     "name": "stderr",
     "output_type": "stream",
     "text": [
      "pybullet build time: Dec 10 2021 09:55:58\n"
     ]
    }
   ],
   "source": [
    "# These are standard modules\n",
    "import time\n",
    "import numpy as np\n",
    "from scipy import linalg\n",
    "from scipy import signal\n",
    "import sympy as sym\n",
    "import matplotlib.pyplot as plt\n",
    "from IPython.display import display, Latex, Markdown\n",
    "\n",
    "# This is a custom interface to the pybullet simulator\n",
    "import ae353_platform\n",
    "\n",
    "# Suppress the use of scientific notation when printing small numbers\n",
    "np.set_printoptions(suppress=True)"
   ]
  },
  {
   "cell_type": "markdown",
   "id": "64d907e7",
   "metadata": {},
   "source": [
    "Create an instance of the simulator (do `Kernel -> Restart` before evaluating this cell)."
   ]
  },
  {
   "cell_type": "code",
   "execution_count": 2,
   "id": "857ef5f7",
   "metadata": {},
   "outputs": [],
   "source": [
    "simulator = ae353_platform.Simulator(\n",
    "    display=True,\n",
    "    roll=0.,\n",
    ")"
   ]
  },
  {
   "cell_type": "markdown",
   "id": "3a4ed7b3",
   "metadata": {},
   "source": [
    "Define equilibrium point and state-space model."
   ]
  },
  {
   "cell_type": "code",
   "execution_count": 3,
   "id": "c47e14ab",
   "metadata": {},
   "outputs": [
    {
     "name": "stdout",
     "output_type": "stream",
     "text": [
      "A =\n",
      "[[0. 1.]\n",
      " [0. 0.]]\n",
      "\n",
      "B =\n",
      "[[0.]\n",
      " [1.]]\n"
     ]
    }
   ],
   "source": [
    "# Equilibrium point\n",
    "(q1e, v1e, taue) = (np.pi / 6, 0., 0.)\n",
    "\n",
    "# State-space model\n",
    "A = np.array([[0., 1.], [0., 0.]])\n",
    "B = np.array([[0.], [1.]])\n",
    "print(f'A =\\n{A}\\n\\nB =\\n{B}')"
   ]
  },
  {
   "cell_type": "markdown",
   "id": "0077b270",
   "metadata": {},
   "source": [
    "Design controller."
   ]
  },
  {
   "cell_type": "code",
   "execution_count": 4,
   "id": "9215c06b",
   "metadata": {},
   "outputs": [
    {
     "name": "stdout",
     "output_type": "stream",
     "text": [
      "K =\n",
      "[[10.  7.]]\n",
      "\n"
     ]
    }
   ],
   "source": [
    "# Eigenvalue placement\n",
    "K = signal.place_poles(A, B, [-2., -5.]).gain_matrix\n",
    "print(f'K =\\n{K}\\n')"
   ]
  },
  {
   "cell_type": "markdown",
   "id": "4b77f844",
   "metadata": {},
   "source": [
    "Implement controller."
   ]
  },
  {
   "cell_type": "code",
   "execution_count": 6,
   "id": "cd4ee4a8",
   "metadata": {},
   "outputs": [],
   "source": [
    "class Controller:\n",
    "    def __init__(self, K, q1e, v1e, taue):\n",
    "        self.K = K\n",
    "        self.q1e = q1e\n",
    "        self.v1e = v1e\n",
    "        self.taue = taue\n",
    "    \n",
    "    def reset(self):\n",
    "        pass\n",
    "    \n",
    "    def run(\n",
    "            self,\n",
    "            t,\n",
    "            platform_angle,\n",
    "            platform_velocity,\n",
    "            wheel_angle,\n",
    "            wheel_velocity,\n",
    "        ):\n",
    "        \n",
    "        # Get state\n",
    "        x = np.array([\n",
    "            platform_angle - self.q1e,\n",
    "            platform_velocity - self.v1e,\n",
    "        ])\n",
    "        \n",
    "        # Get input\n",
    "        u = - self.K @ x\n",
    "        \n",
    "        # Get torque\n",
    "        tau = u[0] + self.taue\n",
    "        \n",
    "        # Get and return actuator command\n",
    "        wheel_torque = -tau\n",
    "        return wheel_torque"
   ]
  },
  {
   "cell_type": "markdown",
   "id": "08c2f0bb",
   "metadata": {},
   "source": [
    "Test controller in simulation."
   ]
  },
  {
   "cell_type": "code",
   "execution_count": 7,
   "id": "5e2da8b2",
   "metadata": {},
   "outputs": [],
   "source": [
    "# Create controller\n",
    "controller = Controller(K, q1e, v1e, taue)\n",
    "\n",
    "# Choose initial conditions\n",
    "(q1i, v1i) = (0., 0.)\n",
    "\n",
    "# Reset simulator\n",
    "simulator.reset(\n",
    "    platform_angle=q1i,\n",
    "    platform_velocity=v1i,\n",
    "    wheel_angle=0.,\n",
    "    wheel_velocity=0.,\n",
    ")\n",
    "\n",
    "# Reset controller\n",
    "controller.reset()\n",
    "\n",
    "# Run simulator\n",
    "data = simulator.run(\n",
    "    controller,\n",
    "    max_time=10.,\n",
    ")"
   ]
  },
  {
   "cell_type": "markdown",
   "id": "96a0f0de",
   "metadata": {},
   "source": [
    "Show results."
   ]
  },
  {
   "cell_type": "code",
   "execution_count": 8,
   "id": "486cecfe",
   "metadata": {},
   "outputs": [
    {
     "data": {
      "image/png": "[encoded data removed]",
      "text/plain": [
       "<Figure size 720x576 with 3 Axes>"
      ]
     },
     "metadata": {
      "needs_background": "light"
     },
     "output_type": "display_data"
    }
   ],
   "source": [
    "t = data['t']\n",
    "q1 = data['platform_angle']\n",
    "v1 = data['platform_velocity']\n",
    "tau = - data['wheel_torque']\n",
    "x1 = q1 - q1e\n",
    "x2 = v1 - v1e\n",
    "\n",
    "fig, (ax_x1, ax_x2, ax_tau) = plt.subplots(3, 1, figsize=(10, 8), sharex=True)\n",
    "\n",
    "ax_x1.plot(t, x1, label='$x_1$', linewidth=4)\n",
    "\n",
    "ax_x2.plot(t, x2, label='$x_2$', linewidth=4)\n",
    "\n",
    "ax_tau.plot(t, tau, label=r'$\\tau$', linewidth=4)\n",
    "ax_tau.plot(t, simulator.tau_max * np.ones_like(t), '--', linewidth=4, color='C1')\n",
    "ax_tau.plot(t, - simulator.tau_max * np.ones_like(t), '--', linewidth=4, color='C1')\n",
    "\n",
    "ax_x1.grid()\n",
    "ax_x1.legend(fontsize=16, loc='upper right')\n",
    "ax_x1.tick_params(labelsize=14)\n",
    "ax_x1.set_ylim(-1, 1)\n",
    "\n",
    "ax_x2.grid()\n",
    "ax_x2.legend(fontsize=16, loc='upper right')\n",
    "ax_x2.tick_params(labelsize=14)\n",
    "ax_x2.set_ylim(-1, 1)\n",
    "\n",
    "ax_tau.grid()\n",
    "ax_tau.legend(fontsize=16, loc='upper right')\n",
    "ax_tau.tick_params(labelsize=14)\n",
    "ax_tau.set_ylim(-1.2 * simulator.tau_max, 1.2 * simulator.tau_max)\n",
    "\n",
    "ax_tau.set_xlabel('time (s)', fontsize=20)\n",
    "ax_tau.set_xlim([data['t'][0], data['t'][-1]])\n",
    "\n",
    "fig.tight_layout()\n",
    "plt.show()"
   ]
  },
  {
   "cell_type": "markdown",
   "id": "middle-acoustic",
   "metadata": {},
   "source": [
    "# Control platform angle with partial state feedback"
   ]
  },
  {
   "cell_type": "markdown",
   "id": "25407b50",
   "metadata": {},
   "source": [
    "Do all imports:"
   ]
  },
  {
   "cell_type": "code",
   "execution_count": 1,
   "id": "64c3e2ba",
   "metadata": {},
   "outputs": [
    {
     "name": "stderr",
     "output_type": "stream",
     "text": [
      "pybullet build time: Dec 10 2021 09:55:58\n"
     ]
    }
   ],
   "source": [
    "# These are standard modules\n",
    "import time\n",
    "import numpy as np\n",
    "from scipy import linalg\n",
    "from scipy import signal\n",
    "import sympy as sym\n",
    "import matplotlib.pyplot as plt\n",
    "from IPython.display import display, Latex, Markdown\n",
    "\n",
    "# This is a custom interface to the pybullet simulator\n",
    "import ae353_platform_sensors\n",
    "\n",
    "# Suppress the use of scientific notation when printing small numbers\n",
    "np.set_printoptions(suppress=True)"
   ]
  },
  {
   "cell_type": "markdown",
   "id": "dde7fc13",
   "metadata": {},
   "source": [
    "Create an instance of the simulator (do `Kernel -> Restart` before evaluating this cell)."
   ]
  },
  {
   "cell_type": "code",
   "execution_count": 2,
   "id": "1a2d359e",
   "metadata": {},
   "outputs": [],
   "source": [
    "simulator = ae353_platform_sensors.Simulator(\n",
    "    display=True,\n",
    "    roll=0.,\n",
    "    sensor_noise=0.,\n",
    ")"
   ]
  },
  {
   "cell_type": "markdown",
   "id": "7f1cf50c",
   "metadata": {},
   "source": [
    "Define equilibrium point and state-space model."
   ]
  },
  {
   "cell_type": "code",
   "execution_count": 3,
   "id": "a4259e7c",
   "metadata": {},
   "outputs": [
    {
     "name": "stdout",
     "output_type": "stream",
     "text": [
      "A =\n",
      "[[0. 1.]\n",
      " [0. 0.]]\n",
      "\n",
      "B =\n",
      "[[0.]\n",
      " [1.]]\n",
      "\n",
      "C =\n",
      "[[1. 0.]]\n"
     ]
    }
   ],
   "source": [
    "# Equilibrium point\n",
    "(q1e, v1e, taue) = (np.pi / 6, 0., 0.)\n",
    "\n",
    "# State-space model (dynamics)\n",
    "A = np.array([[0., 1.], [0., 0.]])\n",
    "B = np.array([[0.], [1.]])\n",
    "print(f'A =\\n{A}\\n\\nB =\\n{B}')\n",
    "\n",
    "# State-space model (sensors)\n",
    "C = np.array([[1., 0.]])\n",
    "print(f'\\nC =\\n{C}')"
   ]
  },
  {
   "cell_type": "markdown",
   "id": "6d2ab0cc",
   "metadata": {},
   "source": [
    "Design controller."
   ]
  },
  {
   "cell_type": "code",
   "execution_count": 4,
   "id": "a29be6a5",
   "metadata": {},
   "outputs": [
    {
     "name": "stdout",
     "output_type": "stream",
     "text": [
      "K =\n",
      "[[10.  7.]]\n",
      "\n"
     ]
    }
   ],
   "source": [
    "# Eigenvalue placement\n",
    "K = signal.place_poles(A, B, [-2., -5.]).gain_matrix\n",
    "print(f'K =\\n{K}\\n')"
   ]
  },
  {
   "cell_type": "markdown",
   "id": "07b81cea",
   "metadata": {},
   "source": [
    "Implement controller (no change)."
   ]
  },
  {
   "cell_type": "code",
   "execution_count": 6,
   "id": "2491462c",
   "metadata": {},
   "outputs": [],
   "source": [
    "class Controller:\n",
    "    def __init__(self, K, q1e, v1e, taue):\n",
    "        self.K = K\n",
    "        self.q1e = q1e\n",
    "        self.v1e = v1e\n",
    "        self.taue = taue\n",
    "    \n",
    "    def reset(self):\n",
    "        pass\n",
    "    \n",
    "    def run(\n",
    "            self,\n",
    "            t,\n",
    "            platform_angle_measurement,\n",
    "        ):\n",
    "        \n",
    "        # Get state\n",
    "        x = np.array([\n",
    "            platform_angle - self.q1e,\n",
    "            platform_velocity - self.v1e,\n",
    "        ])\n",
    "        \n",
    "        # Get input\n",
    "        u = - self.K @ x\n",
    "        \n",
    "        # Get torque\n",
    "        tau = u[0]\n",
    "        \n",
    "        # Get and return actuator command\n",
    "        wheel_torque = -tau\n",
    "        return wheel_torque"
   ]
  },
  {
   "cell_type": "markdown",
   "id": "83d068f5",
   "metadata": {},
   "source": [
    "Test controller in simulation."
   ]
  },
  {
   "cell_type": "code",
   "execution_count": 7,
   "id": "3e70c21f",
   "metadata": {},
   "outputs": [
    {
     "ename": "NameError",
     "evalue": "name 'platform_angle' is not defined",
     "output_type": "error",
     "traceback": [
      "\u001b[0;31m---------------------------------------------------------------------------\u001b[0m",
      "\u001b[0;31mNameError\u001b[0m                                 Traceback (most recent call last)",
      "Input \u001b[0;32mIn [7]\u001b[0m, in \u001b[0;36m<module>\u001b[0;34m\u001b[0m\n\u001b[1;32m     17\u001b[0m controller\u001b[38;5;241m.\u001b[39mreset()\n\u001b[1;32m     19\u001b[0m \u001b[38;5;66;03m# Run simulator\u001b[39;00m\n\u001b[0;32m---> 20\u001b[0m data \u001b[38;5;241m=\u001b[39m \u001b[43msimulator\u001b[49m\u001b[38;5;241;43m.\u001b[39;49m\u001b[43mrun\u001b[49m\u001b[43m(\u001b[49m\n\u001b[1;32m     21\u001b[0m \u001b[43m    \u001b[49m\u001b[43mcontroller\u001b[49m\u001b[43m,\u001b[49m\n\u001b[1;32m     22\u001b[0m \u001b[43m    \u001b[49m\u001b[43mmax_time\u001b[49m\u001b[38;5;241;43m=\u001b[39;49m\u001b[38;5;241;43m10.\u001b[39;49m\u001b[43m,\u001b[49m\n\u001b[1;32m     23\u001b[0m \u001b[43m)\u001b[49m\n",
      "File \u001b[0;32m~/Documents/courses/AE353/09-ae353-sp2022/Website/examples/day20/ae353_platform_sensors.py:233\u001b[0m, in \u001b[0;36mSimulator.run\u001b[0;34m(self, controller, max_time, data_filename, video_filename, print_debug)\u001b[0m\n\u001b[1;32m    230\u001b[0m     w\u001b[38;5;241m.\u001b[39mappend_data(rgba)\n\u001b[1;32m    232\u001b[0m \u001b[38;5;28;01mwhile\u001b[39;00m \u001b[38;5;28;01mTrue\u001b[39;00m:\n\u001b[0;32m--> 233\u001b[0m     all_done \u001b[38;5;241m=\u001b[39m \u001b[38;5;28;43mself\u001b[39;49m\u001b[38;5;241;43m.\u001b[39;49m\u001b[43mstep\u001b[49m\u001b[43m(\u001b[49m\u001b[43mcontroller\u001b[49m\u001b[43m)\u001b[49m\n\u001b[1;32m    235\u001b[0m     \u001b[38;5;28;01mif\u001b[39;00m video_filename \u001b[38;5;129;01mis\u001b[39;00m \u001b[38;5;129;01mnot\u001b[39;00m \u001b[38;5;28;01mNone\u001b[39;00m:\n\u001b[1;32m    236\u001b[0m         \u001b[38;5;28;01mif\u001b[39;00m \u001b[38;5;28mself\u001b[39m\u001b[38;5;241m.\u001b[39mtime_step \u001b[38;5;241m%\u001b[39m \u001b[38;5;241m100\u001b[39m \u001b[38;5;241m==\u001b[39m \u001b[38;5;241m0\u001b[39m:\n",
      "File \u001b[0;32m~/Documents/courses/AE353/09-ae353-sp2022/Website/examples/day20/ae353_platform_sensors.py:286\u001b[0m, in \u001b[0;36mSimulator.step\u001b[0;34m(self, controller)\u001b[0m\n\u001b[1;32m    283\u001b[0m platform_angle_measurement \u001b[38;5;241m=\u001b[39m \u001b[38;5;28mself\u001b[39m\u001b[38;5;241m.\u001b[39mget_sensor_measurements()\n\u001b[1;32m    285\u001b[0m \u001b[38;5;66;03m# Get the torque command (run the controller)\u001b[39;00m\n\u001b[0;32m--> 286\u001b[0m wheel_torque_command \u001b[38;5;241m=\u001b[39m \u001b[43mcontroller\u001b[49m\u001b[38;5;241;43m.\u001b[39;49m\u001b[43mrun\u001b[49m\u001b[43m(\u001b[49m\n\u001b[1;32m    287\u001b[0m \u001b[43m    \u001b[49m\u001b[38;5;28;43mself\u001b[39;49m\u001b[38;5;241;43m.\u001b[39;49m\u001b[43mt\u001b[49m\u001b[43m,\u001b[49m\n\u001b[1;32m    288\u001b[0m \u001b[43m    \u001b[49m\u001b[43mplatform_angle_measurement\u001b[49m\u001b[43m,\u001b[49m\n\u001b[1;32m    289\u001b[0m \u001b[43m\u001b[49m\u001b[43m)\u001b[49m\n\u001b[1;32m    291\u001b[0m \u001b[38;5;66;03m# Apply the torque command\u001b[39;00m\n\u001b[1;32m    292\u001b[0m wheel_torque \u001b[38;5;241m=\u001b[39m \u001b[38;5;28mself\u001b[39m\u001b[38;5;241m.\u001b[39mset_actuator_commands(\n\u001b[1;32m    293\u001b[0m     wheel_torque_command,\n\u001b[1;32m    294\u001b[0m )\n",
      "Input \u001b[0;32mIn [6]\u001b[0m, in \u001b[0;36mController.run\u001b[0;34m(self, t, platform_angle_measurement)\u001b[0m\n\u001b[1;32m     11\u001b[0m \u001b[38;5;28;01mdef\u001b[39;00m \u001b[38;5;21mrun\u001b[39m(\n\u001b[1;32m     12\u001b[0m         \u001b[38;5;28mself\u001b[39m,\n\u001b[1;32m     13\u001b[0m         t,\n\u001b[0;32m   (...)\u001b[0m\n\u001b[1;32m     16\u001b[0m     \n\u001b[1;32m     17\u001b[0m     \u001b[38;5;66;03m# Get state\u001b[39;00m\n\u001b[1;32m     18\u001b[0m     x \u001b[38;5;241m=\u001b[39m np\u001b[38;5;241m.\u001b[39marray([\n\u001b[0;32m---> 19\u001b[0m         \u001b[43mplatform_angle\u001b[49m \u001b[38;5;241m-\u001b[39m \u001b[38;5;28mself\u001b[39m\u001b[38;5;241m.\u001b[39mq1e,\n\u001b[1;32m     20\u001b[0m         platform_velocity \u001b[38;5;241m-\u001b[39m \u001b[38;5;28mself\u001b[39m\u001b[38;5;241m.\u001b[39mv1e,\n\u001b[1;32m     21\u001b[0m     ])\n\u001b[1;32m     23\u001b[0m     \u001b[38;5;66;03m# Get input\u001b[39;00m\n\u001b[1;32m     24\u001b[0m     u \u001b[38;5;241m=\u001b[39m \u001b[38;5;241m-\u001b[39m \u001b[38;5;28mself\u001b[39m\u001b[38;5;241m.\u001b[39mK \u001b[38;5;241m@\u001b[39m x\n",
      "\u001b[0;31mNameError\u001b[0m: name 'platform_angle' is not defined"
     ]
    }
   ],
   "source": [
    "# Create controller\n",
    "controller = Controller(K, q1e, v1e, taue)\n",
    "\n",
    "# Choose initial conditions\n",
    "(q1i, v1i) = (0., 0.)\n",
    "\n",
    "# Reset simulator\n",
    "simulator.reset(\n",
    "    platform_angle=q1i,\n",
    "    platform_velocity=v1i,\n",
    "    wheel_angle=0.,\n",
    "    wheel_velocity=0.,\n",
    "    sensor_noise=0.,\n",
    ")\n",
    "\n",
    "# Reset controller\n",
    "controller.reset()\n",
    "\n",
    "# Run simulator\n",
    "data = simulator.run(\n",
    "    controller,\n",
    "    max_time=10.,\n",
    ")"
   ]
  },
  {
   "cell_type": "markdown",
   "id": "0c767349",
   "metadata": {},
   "source": [
    "Implement controller *and observer* (finite difference)."
   ]
  },
  {
   "cell_type": "code",
   "execution_count": 8,
   "id": "9b5e5de7",
   "metadata": {},
   "outputs": [],
   "source": [
    "class Controller:\n",
    "    def __init__(self, K, q1e, v1e, taue):\n",
    "        self.dt = 0.01\n",
    "        self.K = K\n",
    "        self.q1e = q1e\n",
    "        self.v1e = v1e\n",
    "        self.taue = taue\n",
    "        \n",
    "        self.variables_to_log = ['xhat']\n",
    "    \n",
    "    def reset(self):\n",
    "        self.q1_old = 0.\n",
    "        self.xhat = np.array([0., 0.])\n",
    "    \n",
    "    def run(\n",
    "            self,\n",
    "            t,\n",
    "            platform_angle_measurement,\n",
    "        ):\n",
    "        \n",
    "        # Get angle from sensor measurement\n",
    "        q1 = platform_angle_measurement\n",
    "        \n",
    "        # Get angular velocity from finite difference\n",
    "        v1 = (q1 - self.q1_old) / self.dt\n",
    "        self.q1_old = q1\n",
    "        \n",
    "        # Get state estimate\n",
    "        self.xhat = np.array([q1 - self.q1e, v1 - self.v1e])\n",
    "        \n",
    "        # Get input\n",
    "        u = - self.K @ self.xhat\n",
    "        \n",
    "        # Get torque\n",
    "        tau = u[0] + self.taue\n",
    "        \n",
    "        # Get actuator command\n",
    "        wheel_torque = -tau\n",
    "        return wheel_torque"
   ]
  },
  {
   "cell_type": "markdown",
   "id": "a8c95401",
   "metadata": {},
   "source": [
    "Test controller in simulation."
   ]
  },
  {
   "cell_type": "code",
   "execution_count": 11,
   "id": "1003c008",
   "metadata": {},
   "outputs": [],
   "source": [
    "# Create controller\n",
    "controller = Controller(K, q1e, v1e, taue)\n",
    "\n",
    "# Choose initial conditions\n",
    "(q1i, v1i) = (0., 0.)\n",
    "\n",
    "# Reset simulator\n",
    "simulator.reset(\n",
    "    platform_angle=q1i,\n",
    "    platform_velocity=v1i,\n",
    "    wheel_angle=0.,\n",
    "    wheel_velocity=0.,\n",
    "    sensor_noise=0.1,\n",
    ")\n",
    "\n",
    "# Reset controller\n",
    "controller.reset()\n",
    "\n",
    "# Run simulator\n",
    "data = simulator.run(\n",
    "    controller,\n",
    "    max_time=10.,\n",
    ")"
   ]
  },
  {
   "cell_type": "markdown",
   "id": "d2d3efd2",
   "metadata": {},
   "source": [
    "Show results."
   ]
  },
  {
   "cell_type": "code",
   "execution_count": 12,
   "id": "1bfb7ef3",
   "metadata": {},
   "outputs": [
    {
     "data": {
      "image/png": "[encoded data removed]",
      "text/plain": [
       "<Figure size 720x576 with 3 Axes>"
      ]
     },
     "metadata": {
      "needs_background": "light"
     },
     "output_type": "display_data"
    }
   ],
   "source": [
    "t = data['t']\n",
    "q1 = data['platform_angle']\n",
    "v1 = data['platform_velocity']\n",
    "tau = - data['wheel_torque']\n",
    "q1_meas = data['platform_angle_measurement']\n",
    "y1 = q1_meas - q1e\n",
    "x1 = q1 - q1e\n",
    "x2 = v1 - v1e\n",
    "xhat = data['xhat']\n",
    "\n",
    "fig, (ax_x1, ax_x2, ax_tau) = plt.subplots(3, 1, figsize=(10, 8), sharex=True)\n",
    "\n",
    "ax_x1.plot(t, x1, label='$x_1$', linewidth=4)\n",
    "ax_x1.plot(t, xhat[:, 0], '--', label=r'$x_1$ (estimated)', linewidth=4)\n",
    "ax_x1.plot(t, y1, '.', markersize=2, label='$y_1$')\n",
    "\n",
    "ax_x2.plot(t, x2, label='$x_2$', linewidth=4)\n",
    "ax_x2.plot(t, xhat[:, 1], '--', label=r'$x_2$ (estimated)', linewidth=4)\n",
    "\n",
    "ax_tau.plot(t, tau, label=r'$\\tau$', linewidth=4)\n",
    "ax_tau.plot(t, simulator.tau_max * np.ones_like(t), '--', linewidth=4, color='C1')\n",
    "ax_tau.plot(t, - simulator.tau_max * np.ones_like(t), '--', linewidth=4, color='C1')\n",
    "\n",
    "ax_x1.grid()\n",
    "ax_x1.legend(fontsize=16, loc='upper right')\n",
    "ax_x1.tick_params(labelsize=14)\n",
    "ax_x1.set_ylim(-1, 1)\n",
    "\n",
    "ax_x2.grid()\n",
    "ax_x2.legend(fontsize=16, loc='upper right')\n",
    "ax_x2.tick_params(labelsize=14)\n",
    "ax_x2.set_ylim(-1, 1)\n",
    "\n",
    "ax_tau.grid()\n",
    "ax_tau.legend(fontsize=16, loc='upper right')\n",
    "ax_tau.tick_params(labelsize=14)\n",
    "ax_tau.set_ylim(-1.2 * simulator.tau_max, 1.2 * simulator.tau_max)\n",
    "\n",
    "ax_tau.set_xlabel('time (s)', fontsize=20)\n",
    "ax_tau.set_xlim([data['t'][0], data['t'][-1]])\n",
    "\n",
    "fig.tight_layout()\n",
    "plt.show()"
   ]
  },
  {
   "cell_type": "markdown",
   "id": "0d38ae6e",
   "metadata": {},
   "source": [
    "Design observer."
   ]
  },
  {
   "cell_type": "code",
   "execution_count": null,
   "id": "d882f945",
   "metadata": {},
   "outputs": [],
   "source": [
    "L = np.array([[10.], [1.]])"
   ]
  },
  {
   "cell_type": "markdown",
   "id": "3d6c2a1e",
   "metadata": {},
   "source": [
    "Implement controller and observer."
   ]
  },
  {
   "cell_type": "code",
   "execution_count": null,
   "id": "6ababdee",
   "metadata": {},
   "outputs": [],
   "source": [
    "class Controller:\n",
    "    def __init__(self, A, B, C, K, L, q1e, v1e, taue):\n",
    "        self.dt = 0.01\n",
    "        self.A = A\n",
    "        self.B = B\n",
    "        self.C = C\n",
    "        self.K = K\n",
    "        self.L = L\n",
    "        self.q1e = q1e\n",
    "        self.v1e = v1e\n",
    "        self.taue = taue\n",
    "        \n",
    "        self.variables_to_log = ['xhat']\n",
    "    \n",
    "    def reset(self):\n",
    "        self.xhat = np.array([0., 0.])\n",
    "    \n",
    "    def run(\n",
    "            self,\n",
    "            t,\n",
    "            platform_angle_measurement,\n",
    "        ):\n",
    "        \n",
    "        # Find input\n",
    "        u = - self.K @ self.xhat\n",
    "        \n",
    "        # Find measurement\n",
    "        y = np.array([platform_angle_measurement - q1e])\n",
    "        \n",
    "        # Find state estimate\n",
    "        self.xhat += self.dt * (self.A @ self.xhat + self.B @ u - self.L @ (self.C @ self.xhat - y))\n",
    "        \n",
    "        # Find actuator command\n",
    "        tau = u[0] + self.taue\n",
    "        \n",
    "        wheel_torque = -tau\n",
    "        return wheel_torque"
   ]
  },
  {
   "cell_type": "markdown",
   "id": "904dd439",
   "metadata": {},
   "source": [
    "Test controller *and observer* in simulation."
   ]
  },
  {
   "cell_type": "code",
   "execution_count": null,
   "id": "b99848fd",
   "metadata": {},
   "outputs": [],
   "source": [
    "# Create controller\n",
    "controller = Controller(A, B, C, K, L, q1e, v1e, taue)\n",
    "\n",
    "# Choose initial conditions\n",
    "(q1i, v1i) = (0., 0.)\n",
    "\n",
    "# Reset simulator\n",
    "simulator.reset(\n",
    "    platform_angle=q1i,\n",
    "    platform_velocity=v1i,\n",
    "    wheel_angle=0.,\n",
    "    wheel_velocity=0.,\n",
    "    sensor_noise=0.1,\n",
    ")\n",
    "\n",
    "# Reset controller\n",
    "controller.reset()\n",
    "\n",
    "# Run simulator\n",
    "data = simulator.run(\n",
    "    controller,\n",
    "    max_time=10.,\n",
    ")"
   ]
  },
  {
   "cell_type": "markdown",
   "id": "68737c31",
   "metadata": {},
   "source": [
    "Show results."
   ]
  },
  {
   "cell_type": "code",
   "execution_count": null,
   "id": "d33e29ab",
   "metadata": {},
   "outputs": [],
   "source": [
    "t = data['t']\n",
    "q1 = data['platform_angle']\n",
    "v1 = data['platform_velocity']\n",
    "tau = - data['wheel_torque']\n",
    "q1_meas = data['platform_angle_measurement']\n",
    "y1 = q1_meas - q1e\n",
    "x1 = q1 - q1e\n",
    "x2 = v1 - v1e\n",
    "xhat = data['xhat']\n",
    "\n",
    "fig, (ax_x1, ax_x2, ax_tau) = plt.subplots(3, 1, figsize=(10, 8), sharex=True)\n",
    "\n",
    "ax_x1.plot(t, x1, label='$x_1$', linewidth=4)\n",
    "ax_x1.plot(t, xhat[:, 0], '--', label=r'$x_1$ (estimated)', linewidth=4)\n",
    "ax_x1.plot(t, y1, '.', markersize=2, label='$y_1$')\n",
    "\n",
    "ax_x2.plot(t, x2, label='$x_2$', linewidth=4)\n",
    "ax_x2.plot(t, xhat[:, 1], '--', label=r'$x_2$ (estimated)', linewidth=4)\n",
    "\n",
    "ax_tau.plot(t, tau, label=r'$\\tau$', linewidth=4)\n",
    "ax_tau.plot(t, simulator.tau_max * np.ones_like(t), '--', linewidth=4, color='C1')\n",
    "ax_tau.plot(t, - simulator.tau_max * np.ones_like(t), '--', linewidth=4, color='C1')\n",
    "\n",
    "ax_x1.grid()\n",
    "ax_x1.legend(fontsize=16, loc='upper right')\n",
    "ax_x1.tick_params(labelsize=14)\n",
    "ax_x1.set_ylim(-1, 1)\n",
    "\n",
    "ax_x2.grid()\n",
    "ax_x2.legend(fontsize=16, loc='upper right')\n",
    "ax_x2.tick_params(labelsize=14)\n",
    "ax_x2.set_ylim(-1, 1)\n",
    "\n",
    "ax_tau.grid()\n",
    "ax_tau.legend(fontsize=16, loc='upper right')\n",
    "ax_tau.tick_params(labelsize=14)\n",
    "ax_tau.set_ylim(-1.2 * simulator.tau_max, 1.2 * simulator.tau_max)\n",
    "\n",
    "ax_tau.set_xlabel('time (s)', fontsize=20)\n",
    "ax_tau.set_xlim([data['t'][0], data['t'][-1]])\n",
    "\n",
    "fig.tight_layout()\n",
    "plt.show()"
   ]
  }
 ],
 "metadata": {
  "kernelspec": {
   "display_name": "Python 3 (ipykernel)",
   "language": "python",
   "name": "python3"
  },
  "language_info": {
   "codemirror_mode": {
    "name": "ipython",
    "version": 3
   },
   "file_extension": ".py",
   "mimetype": "text/x-python",
   "name": "python",
   "nbconvert_exporter": "python",
   "pygments_lexer": "ipython3",
   "version": "3.10.2"
  }
 },
 "nbformat": 4,
 "nbformat_minor": 5
}

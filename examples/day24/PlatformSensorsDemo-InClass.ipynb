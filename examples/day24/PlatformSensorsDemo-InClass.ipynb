{
 "cells": [
  {
   "cell_type": "markdown",
   "id": "71d4925f",
   "metadata": {},
   "source": [
    "# Control platform and wheel in gravity with partial state feedback"
   ]
  },
  {
   "cell_type": "markdown",
   "id": "268ff02f",
   "metadata": {},
   "source": [
    "Do all imports:"
   ]
  },
  {
   "cell_type": "code",
   "execution_count": 1,
   "id": "33961340",
   "metadata": {},
   "outputs": [
    {
     "name": "stderr",
     "output_type": "stream",
     "text": [
      "pybullet build time: Jan 28 2022 20:18:15\n"
     ]
    }
   ],
   "source": [
    "# These are standard modules\n",
    "import time\n",
    "import numpy as np\n",
    "from scipy import linalg\n",
    "from scipy import signal\n",
    "import sympy as sym\n",
    "import matplotlib.pyplot as plt\n",
    "from IPython.display import display, Latex, Markdown\n",
    "\n",
    "# This is a custom interface to the pybullet simulator\n",
    "import ae353_platform_nonlinearsensors\n",
    "\n",
    "# Suppress the use of scientific notation when printing small numbers\n",
    "np.set_printoptions(suppress=True)"
   ]
  },
  {
   "cell_type": "markdown",
   "id": "a504bb3c",
   "metadata": {},
   "source": [
    "Create an instance of the simulator (do `Kernel -> Restart` before evaluating this cell)."
   ]
  },
  {
   "cell_type": "code",
   "execution_count": 2,
   "id": "96aaaa93",
   "metadata": {},
   "outputs": [],
   "source": [
    "simulator = ae353_platform_nonlinearsensors.Simulator(\n",
    "    display=True,\n",
    "    roll=np.pi / 2,\n",
    "    sensor_noise=0.1,\n",
    ")"
   ]
  },
  {
   "cell_type": "markdown",
   "id": "73b3d8cb",
   "metadata": {},
   "source": [
    "Given a choice of ground roll angle $\\phi$, the equations of motion are\n",
    "\n",
    "$$\n",
    "\\begin{aligned}\n",
    "J_1 \\ddot{q}_1 &= \\tau - m_wgl\\sin(q_1)\\sin(\\phi) \\\\\n",
    "J_2 \\dot{v}_2 &= - \\left( \\dfrac{J_1 + J_2}{J_1} \\right) \\tau + \\left( \\dfrac{J_2}{J_1} \\right) m_wgl\\sin(q_1)\\sin(\\phi)\n",
    "\\end{aligned}\n",
    "$$\n",
    "\n",
    "where\n",
    "\n",
    "* $q_1$ is the platform angle\n",
    "* $\\dot{q}_1$ is the platform velocity\n",
    "* $v_2$ is the wheel velocity\n",
    "* $\\tau$ is the torque applied *to* the platform *by* the wheel\n",
    "\n",
    "and\n",
    "\n",
    "$$\n",
    "J_1 = J_p + m_wl^2\n",
    "\\qquad\n",
    "\\qquad\n",
    "J_2 = J_w\n",
    "$$\n",
    "\n",
    "and parameter values are defined as follows:"
   ]
  },
  {
   "cell_type": "code",
   "execution_count": 3,
   "id": "ecac734d",
   "metadata": {},
   "outputs": [],
   "source": [
    "# distance from platform axis to wheel axis\n",
    "l = 1.\n",
    "\n",
    "# radius of wheel\n",
    "rw = 0.5\n",
    "\n",
    "# mass of wheel\n",
    "mw = 0.25\n",
    "\n",
    "# moi of wheel\n",
    "Jw = 0.5 * mw * rw**2\n",
    "\n",
    "# mass of platform\n",
    "mp = 12. * (1. - mw * l**2) / (3.**2 + 2.**2)\n",
    "\n",
    "# moment of inertia of platform\n",
    "Jp = (1. / 12.) * mp * (3.**2 + 2.**2)\n",
    "\n",
    "# gravity\n",
    "g = 9.81\n",
    "\n",
    "# composite parameters\n",
    "J1 = Jp + mw * l**2\n",
    "J2 = Jw"
   ]
  },
  {
   "cell_type": "markdown",
   "id": "6efc62f7",
   "metadata": {},
   "source": [
    "The equations of motion in this particular case ($\\phi=\\pi/2$) are:\n",
    "\n",
    "$$\n",
    "\\begin{aligned}\n",
    "J_1 \\ddot{q}_1 &= \\tau - m_wgl\\sin(q_1) \\\\\n",
    "J_2 \\dot{v}_2 &= - \\left( \\dfrac{J_1 + J_2}{J_1} \\right) \\tau + \\left( \\dfrac{J_2}{J_1} \\right) m_wgl\\sin(q_1)\n",
    "\\end{aligned}\n",
    "$$\n",
    "\n",
    "Write equations of motion as\n",
    "\n",
    "$$\n",
    "\\begin{bmatrix} \\dot{q}_1 \\\\ \\dot{v}_1 \\\\ \\dot{v}_2 \\end{bmatrix}\n",
    "=\n",
    "f \\left( \\begin{bmatrix} q_1 \\\\ v_1 \\\\ v_2 \\end{bmatrix}, \\begin{bmatrix} \\tau \\end{bmatrix} \\right)\n",
    "$$\n",
    "\n",
    "and linearize them about a particular choice of equilibrium point."
   ]
  },
  {
   "cell_type": "code",
   "execution_count": 4,
   "id": "ef5306a4",
   "metadata": {},
   "outputs": [
    {
     "name": "stdout",
     "output_type": "stream",
     "text": [
      "A =\n",
      "[[ 0.      1.      0.    ]\n",
      " [ 2.4525  0.      0.    ]\n",
      " [-2.4525  0.      0.    ]]\n",
      "\n",
      "B =\n",
      "[[  0.]\n",
      " [  1.]\n",
      " [-33.]]\n"
     ]
    }
   ],
   "source": [
    "# Choose equilibrium point\n",
    "(q1e, v1e, v2e, taue) = (np.pi, 0., 0., 0.)\n",
    "\n",
    "# Define variables\n",
    "q1, v1, v2, tau = sym.symbols('q1, v1, v2, tau')\n",
    "\n",
    "# Define right-hand side of ODEs\n",
    "f = sym.Matrix([\n",
    "    v1,\n",
    "    (1 / J1) * (tau - mw * g * l * sym.sin(q1)),\n",
    "    (1 / J2) * (- ((J1 + J2) / J1) * tau + (J2 / J1) * mw * g * l * sym.sin(q1))\n",
    "])\n",
    "\n",
    "# Convert floating-point to rational numbers\n",
    "f = sym.nsimplify(f, rational=True)\n",
    "\n",
    "# Verify equilibrium point\n",
    "f_num = sym.lambdify([q1, v1, v2, tau], f)\n",
    "if not np.allclose(f_num(q1e, v1e, v2e, taue), 0.):\n",
    "    raise Exception('equilibrium point is invalid')\n",
    "\n",
    "# Find A and B in symbolic form\n",
    "A_sym = f.jacobian([q1, v1, v2])\n",
    "B_sym = f.jacobian([tau])\n",
    "\n",
    "# Create lambda functions to allow numerical evaluation of A and B\n",
    "A_num = sym.lambdify([q1, v1, v2, tau], A_sym)\n",
    "B_num = sym.lambdify([q1, v1, v2, tau], B_sym)\n",
    "\n",
    "# Find A and B in numeric form (making sure the result is floating-point)\n",
    "A = A_num(q1e, v1e, v2e, taue).astype(float)\n",
    "B = B_num(q1e, v1e, v2e, taue).astype(float)\n",
    "\n",
    "# Show A and B\n",
    "print(f'A =\\n{A}\\n\\nB =\\n{B}')"
   ]
  },
  {
   "cell_type": "markdown",
   "id": "966b9857",
   "metadata": {},
   "source": [
    "Suppose we can measure both $\\sin q_1$ and $v_2$. Write the sensor model as\n",
    "\n",
    "$$\\begin{bmatrix} \\sin q_1 \\\\ v_2 \\end{bmatrix} = g\\left( \\begin{bmatrix} q_1 \\\\ v_1 \\\\ v_2 \\end{bmatrix}, \\begin{bmatrix} \\tau \\end{bmatrix} \\right)$$\n",
    "\n",
    "and linearize it about the equilibrium point.\n",
    "\n",
    "**DANGER!** We are choosing to redefine `g` here — formerly, it was being used as the acceleration of gravity. We aren't going to use it for that purpose any more, so there is no problem in this case, but we should be careful — this is a common source of bugs."
   ]
  },
  {
   "cell_type": "code",
   "execution_count": 5,
   "id": "702a1f63",
   "metadata": {},
   "outputs": [
    {
     "name": "stdout",
     "output_type": "stream",
     "text": [
      "C =\n",
      "[[-1.  0.  0.]\n",
      " [ 0.  0.  1.]]\n",
      "\n",
      "D =\n",
      "[[0.]\n",
      " [0.]]\n"
     ]
    }
   ],
   "source": [
    "# Define right-hand side of sensor model\n",
    "g = sym.Matrix([\n",
    "    sym.sin(q1),\n",
    "    v2,\n",
    "])\n",
    "\n",
    "# Convert floating-point to rational numbers\n",
    "g = sym.nsimplify(g, rational=True)\n",
    "\n",
    "# Find C and D in symbolic form\n",
    "C_sym = g.jacobian([q1, v1, v2])\n",
    "D_sym = g.jacobian([tau])\n",
    "\n",
    "# Create lambda functions to allow numerical evaluation of C and D\n",
    "C_num = sym.lambdify([q1, v1, v2, tau], C_sym)\n",
    "D_num = sym.lambdify([q1, v1, v2, tau], D_sym)\n",
    "\n",
    "# Find C and D in numeric form (making sure the result is floating-point)\n",
    "C = C_num(q1e, v1e, v2e, taue).astype(float)\n",
    "D = D_num(q1e, v1e, v2e, taue).astype(float)\n",
    "\n",
    "# Show C and D\n",
    "print(f'C =\\n{C}\\n\\nD =\\n{D}')"
   ]
  },
  {
   "cell_type": "markdown",
   "id": "3084c890",
   "metadata": {},
   "source": [
    "Check that the system is both controllable and observable."
   ]
  },
  {
   "cell_type": "code",
   "execution_count": 6,
   "id": "f8662e4b",
   "metadata": {},
   "outputs": [
    {
     "name": "stdout",
     "output_type": "stream",
     "text": [
      "rank of Wc = 3\n",
      "rank of Wo = 3\n"
     ]
    }
   ],
   "source": [
    "print(f'rank of Wc = {np.linalg.matrix_rank(np.block([B, A @ B, A @ A @ B]))}')\n",
    "print(f'rank of Wo = {np.linalg.matrix_rank(np.block([[C], [C @ A], [C @ A @ A]]))}')"
   ]
  },
  {
   "cell_type": "markdown",
   "id": "7bdcbf04",
   "metadata": {},
   "source": [
    "Design controller."
   ]
  },
  {
   "cell_type": "code",
   "execution_count": 7,
   "id": "a1b74ee2",
   "metadata": {},
   "outputs": [
    {
     "name": "stdout",
     "output_type": "stream",
     "text": [
      "K =\n",
      "[[13.4525      8.52293578  0.0764526 ]]\n",
      "\n"
     ]
    }
   ],
   "source": [
    "# Eigenvalue placement\n",
    "K = signal.place_poles(A, B, [-1., -2., -3.]).gain_matrix\n",
    "print(f'K =\\n{K}\\n')"
   ]
  },
  {
   "cell_type": "markdown",
   "id": "2a023ab2",
   "metadata": {},
   "source": [
    "Design observer."
   ]
  },
  {
   "cell_type": "code",
   "execution_count": 8,
   "id": "84828ece",
   "metadata": {},
   "outputs": [
    {
     "name": "stdout",
     "output_type": "stream",
     "text": [
      "L =\n",
      "[[-10.00000027   0.00497354]\n",
      " [-26.45250232   0.0263024 ]\n",
      " [  2.45230871   4.99999973]]\n",
      "\n"
     ]
    }
   ],
   "source": [
    "# Eigenvalue placement\n",
    "L = signal.place_poles(A.T, C.T, [-4., -5., -6.]).gain_matrix.T\n",
    "print(f'L =\\n{L}\\n')"
   ]
  },
  {
   "cell_type": "markdown",
   "id": "34d4cb10",
   "metadata": {},
   "source": [
    "Confirm that closed-loop eigenvalues are where we wanted them to be (remember that we can do this by looking separately at the controller and the observer):"
   ]
  },
  {
   "cell_type": "code",
   "execution_count": 9,
   "id": "b49938d4",
   "metadata": {},
   "outputs": [
    {
     "name": "stdout",
     "output_type": "stream",
     "text": [
      "eig(A - B K) = [-3.+0.j -2.+0.j -1.+0.j]\n",
      "eig(A - L C) = [-6.+0.j -4.+0.j -5.+0.j]\n"
     ]
    }
   ],
   "source": [
    "print(f'eig(A - B K) = {linalg.eigvals(A - B @ K)}')\n",
    "print(f'eig(A - L C) = {linalg.eigvals(A - L @ C)}')"
   ]
  },
  {
   "cell_type": "markdown",
   "id": "11e261ba",
   "metadata": {},
   "source": [
    "Implement controller and observer."
   ]
  },
  {
   "cell_type": "code",
   "execution_count": 19,
   "id": "08af29b4",
   "metadata": {},
   "outputs": [],
   "source": [
    "class Controller:\n",
    "    def __init__(self, A, B, C, K, L, q1e, v1e, v2e, taue):\n",
    "        self.dt = 0.01\n",
    "        self.A = A\n",
    "        self.B = B\n",
    "        self.C = C\n",
    "        self.K = K\n",
    "        self.L = L\n",
    "        self.q1e = q1e\n",
    "        self.v1e = v1e\n",
    "        self.v2e = v2e\n",
    "        self.taue = taue\n",
    "        \n",
    "        self.variables_to_log = ['xhat']\n",
    "        \n",
    "        print('INIT')\n",
    "    \n",
    "    def reset(self):\n",
    "        self.xhat = np.array([0., 0., 0.])\n",
    "        \n",
    "        print('RESET')\n",
    "    \n",
    "    def run(\n",
    "            self,\n",
    "            t,\n",
    "            platform_angle_measurement,\n",
    "            wheel_velocity_measurement,\n",
    "        ):\n",
    "        \"\"\"\n",
    "        INPUTS:\n",
    "            platform_angle_measurement is a noisy measurement of sin(platform_angle),\n",
    "                where platform_angle is the angle of the platform in radians\n",
    "            wheel_velocity_measurement is a noisy measurement of wheel_velocity,\n",
    "                where wheel_velocity is the angular velocity of the wheel in radians / second\n",
    "\n",
    "        OUTPUTS:\n",
    "            wheel_torque is the torque applied TO THE WHEEL by a motor on the platform in N-m\n",
    "        \"\"\"\n",
    "        \n",
    "#         print('RUN')\n",
    "        \n",
    "        # Find input\n",
    "        u = - self.K @ self.xhat\n",
    "        \n",
    "        # Find output\n",
    "        y = np.array([\n",
    "            platform_angle_measurement - np.sin(q1e),\n",
    "            wheel_velocity_measurement - v2e,\n",
    "        ])\n",
    "        \n",
    "        # Find state estimate\n",
    "        self.xhat += self.dt * (self.A @ self.xhat + self.B @ u - self.L @ (self.C @ self.xhat - y))\n",
    "        \n",
    "        # Find torque applied TO THE PLATFORM\n",
    "        tau = u[0] + self.taue\n",
    "        \n",
    "        # Find actuator command, i.e, the equal-and-opposite torque applied TO THE WHEEL\n",
    "        wheel_torque = -tau\n",
    "        return wheel_torque"
   ]
  },
  {
   "cell_type": "code",
   "execution_count": 18,
   "id": "77d5f55e",
   "metadata": {},
   "outputs": [
    {
     "name": "stdout",
     "output_type": "stream",
     "text": [
      "INIT\n",
      "RESET\n"
     ]
    }
   ],
   "source": [
    "# Create controller\n",
    "controller = Controller(A, B, C, K, L, q1e, v1e, v2e, taue)\n",
    "\n",
    "controller.reset()"
   ]
  },
  {
   "cell_type": "code",
   "execution_count": 16,
   "id": "9244cf10",
   "metadata": {},
   "outputs": [
    {
     "data": {
      "text/plain": [
       "array([0., 0., 0.])"
      ]
     },
     "execution_count": 16,
     "metadata": {},
     "output_type": "execute_result"
    }
   ],
   "source": [
    "controller.xhat"
   ]
  },
  {
   "cell_type": "markdown",
   "id": "51bec984",
   "metadata": {},
   "source": [
    "Test controller *and observer* in simulation."
   ]
  },
  {
   "cell_type": "code",
   "execution_count": 20,
   "id": "44f09884",
   "metadata": {},
   "outputs": [
    {
     "name": "stdout",
     "output_type": "stream",
     "text": [
      "INIT\n",
      "RESET\n"
     ]
    }
   ],
   "source": [
    "# Create controller\n",
    "controller = Controller(A, B, C, K, L, q1e, v1e, v2e, taue)\n",
    "\n",
    "# Choose initial conditions\n",
    "(q1i, v1i, v2i) = (np.pi + 0.1, -0.5, 1.)\n",
    "\n",
    "# Reset simulator\n",
    "simulator.reset(\n",
    "    platform_angle=q1i,\n",
    "    platform_velocity=v1i,\n",
    "    wheel_angle=0.,\n",
    "    wheel_velocity=v2i,\n",
    "    sensor_noise=0.1,\n",
    ")\n",
    "\n",
    "# Reset controller\n",
    "controller.reset()\n",
    "\n",
    "# Run simulator\n",
    "data = simulator.run(\n",
    "    controller,\n",
    "    max_time=10.,\n",
    ")"
   ]
  },
  {
   "cell_type": "markdown",
   "id": "dea27349",
   "metadata": {},
   "source": [
    "Show results."
   ]
  },
  {
   "cell_type": "code",
   "execution_count": 21,
   "id": "2823b86b",
   "metadata": {},
   "outputs": [
    {
     "data": {
      "image/png": "[encoded data removed]",
      "text/plain": [
       "<Figure size 720x576 with 4 Axes>"
      ]
     },
     "metadata": {
      "needs_background": "light"
     },
     "output_type": "display_data"
    }
   ],
   "source": [
    "t = data['t']\n",
    "q1 = data['platform_angle']\n",
    "v1 = data['platform_velocity']\n",
    "v2 = data['wheel_velocity']\n",
    "tau = - data['wheel_torque']\n",
    "q1_meas = data['platform_angle_measurement']\n",
    "v2_meas = data['wheel_velocity_measurement']\n",
    "x1 = q1 - q1e\n",
    "x2 = v1 - v1e\n",
    "x3 = v2 - v2e\n",
    "xhat = data['xhat']\n",
    "\n",
    "fig, (ax_x1, ax_x2, ax_x3, ax_tau) = plt.subplots(4, 1, figsize=(10, 8), sharex=True)\n",
    "\n",
    "ax_x1.plot(t, x1, label='$x_1$', linewidth=4)\n",
    "ax_x1.plot(t, xhat[:, 0], '--', label=r'$x_1$ (estimated)', linewidth=4)\n",
    "\n",
    "ax_x2.plot(t, x2, label='$x_2$', linewidth=4)\n",
    "ax_x2.plot(t, xhat[:, 1], '--', label=r'$x_2$ (estimated)', linewidth=4)\n",
    "\n",
    "ax_x3.plot(t, x3, label='$x_3$', linewidth=4)\n",
    "ax_x3.plot(t, xhat[:, 2], '--', label=r'$x_3$ (estimated)', linewidth=4)\n",
    "\n",
    "ax_tau.plot(t, tau, label=r'$\\tau$', linewidth=4)\n",
    "ax_tau.plot(t, simulator.tau_max * np.ones_like(t), '--', linewidth=4, color='C1')\n",
    "ax_tau.plot(t, - simulator.tau_max * np.ones_like(t), '--', linewidth=4, color='C1')\n",
    "\n",
    "ax_x1.grid()\n",
    "ax_x1.legend(fontsize=16, loc='upper right')\n",
    "ax_x1.tick_params(labelsize=14)\n",
    "ax_x1.set_ylim(-0.5, 0.5)\n",
    "\n",
    "ax_x2.grid()\n",
    "ax_x2.legend(fontsize=16, loc='upper right')\n",
    "ax_x2.tick_params(labelsize=14)\n",
    "ax_x2.set_ylim(-1, 1)\n",
    "\n",
    "ax_x3.grid()\n",
    "ax_x3.legend(fontsize=16, loc='upper right')\n",
    "ax_x3.tick_params(labelsize=14)\n",
    "ax_x3.set_ylim(-20, 20)\n",
    "\n",
    "ax_tau.grid()\n",
    "ax_tau.legend(fontsize=16, loc='upper right')\n",
    "ax_tau.tick_params(labelsize=14)\n",
    "ax_tau.set_ylim(-1.2 * simulator.tau_max, 1.2 * simulator.tau_max)\n",
    "\n",
    "ax_tau.set_xlabel('time (s)', fontsize=20)\n",
    "ax_tau.set_xlim([data['t'][0], data['t'][-1]])\n",
    "\n",
    "fig.tight_layout()\n",
    "plt.show()"
   ]
  },
  {
   "cell_type": "code",
   "execution_count": null,
   "id": "e5c76e82",
   "metadata": {},
   "outputs": [],
   "source": []
  }
 ],
 "metadata": {
  "kernelspec": {
   "display_name": "Python 3 (ipykernel)",
   "language": "python",
   "name": "python3"
  },
  "language_info": {
   "codemirror_mode": {
    "name": "ipython",
    "version": 3
   },
   "file_extension": ".py",
   "mimetype": "text/x-python",
   "name": "python",
   "nbconvert_exporter": "python",
   "pygments_lexer": "ipython3",
   "version": "3.10.2"
  }
 },
 "nbformat": 4,
 "nbformat_minor": 5
}

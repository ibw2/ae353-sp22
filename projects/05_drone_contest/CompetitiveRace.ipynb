{
 "cells": [
  {
   "cell_type": "markdown",
   "id": "middle-acoustic",
   "metadata": {},
   "source": [
    "# Competitive race"
   ]
  },
  {
   "cell_type": "markdown",
   "id": "aggregate-exception",
   "metadata": {},
   "source": [
    "Before you start working with this notebook, remember to:\n",
    "\n",
    "* Remove directory `Competitive Designs` if it exists\n",
    "* Remove all directories `comp_semifinal_*` if any exist\n",
    "* Remove directory `comp_final` if it exists\n",
    "* Remove directory `free_for_all` if it exists\n",
    "* Create directory `Competitive Designs` and copy all racers into it\n",
    "* Copy `students.json` into base directory (an array of dictionaries with keys `netid`, `first_name`, `last_name`, and `dp4_partner`)"
   ]
  },
  {
   "cell_type": "markdown",
   "id": "faced-least",
   "metadata": {},
   "source": [
    "Import modules and configure the notebook."
   ]
  },
  {
   "cell_type": "code",
   "execution_count": null,
   "id": "informed-qatar",
   "metadata": {},
   "outputs": [],
   "source": [
    "import os\n",
    "import time\n",
    "import numpy as np\n",
    "import matplotlib.pyplot as plt\n",
    "import secrets\n",
    "import json\n",
    "import shutil\n",
    "import subprocess\n",
    "import ae353_drone\n",
    "import importlib\n",
    "importlib.reload(ae353_drone)"
   ]
  },
  {
   "cell_type": "markdown",
   "id": "final-distinction",
   "metadata": {},
   "source": [
    "Create and print seed so it is possible to reproduce the results."
   ]
  },
  {
   "cell_type": "code",
   "execution_count": null,
   "id": "ceramic-evanescence",
   "metadata": {},
   "outputs": [],
   "source": [
    "seed = secrets.randbits(32)\n",
    "print(seed)"
   ]
  },
  {
   "cell_type": "markdown",
   "id": "environmental-refrigerator",
   "metadata": {},
   "source": [
    "Create simulator."
   ]
  },
  {
   "cell_type": "code",
   "execution_count": null,
   "id": "convertible-cross",
   "metadata": {},
   "outputs": [],
   "source": [
    "simulator = ae353_drone.Simulator(display=True, seed=seed)"
   ]
  },
  {
   "cell_type": "markdown",
   "id": "impressive-moment",
   "metadata": {},
   "source": [
    "Load student roster."
   ]
  },
  {
   "cell_type": "code",
   "execution_count": null,
   "id": "electrical-penetration",
   "metadata": {},
   "outputs": [],
   "source": [
    "with open('students.json', 'r') as infile:\n",
    "    students = json.load(infile)\n",
    "\n",
    "def get_student(students, netid):\n",
    "    for student in students:\n",
    "        if student['netid'] == netid:\n",
    "            return student\n",
    "    return None"
   ]
  },
  {
   "cell_type": "markdown",
   "id": "vocational-caribbean",
   "metadata": {},
   "source": [
    "Define source directory with all designs."
   ]
  },
  {
   "cell_type": "code",
   "execution_count": null,
   "id": "vital-tissue",
   "metadata": {},
   "outputs": [],
   "source": [
    "srcdir_designs = 'Competitive Designs'"
   ]
  },
  {
   "cell_type": "markdown",
   "id": "progressive-commercial",
   "metadata": {},
   "source": [
    "Make sure all files in source directory have lower-case names."
   ]
  },
  {
   "cell_type": "code",
   "execution_count": null,
   "id": "fancy-alabama",
   "metadata": {},
   "outputs": [],
   "source": [
    "srcdir = srcdir_designs\n",
    "for file in os.listdir(srcdir):\n",
    "    os.rename(os.path.join(srcdir, file), os.path.join(srcdir, file.lower()))"
   ]
  },
  {
   "cell_type": "markdown",
   "id": "metric-voltage",
   "metadata": {},
   "source": [
    "Make sure all PNG files in source directory really are PNG files."
   ]
  },
  {
   "cell_type": "code",
   "execution_count": null,
   "id": "bizarre-typing",
   "metadata": {},
   "outputs": [],
   "source": [
    "srcdir = srcdir_designs\n",
    "template_image = 'question_mark.png'\n",
    "for file in os.listdir(srcdir):\n",
    "    if file.endswith('.png'):\n",
    "        completed_process = subprocess.run([\n",
    "                    'convert',\n",
    "                    os.path.join(srcdir, file),\n",
    "                    os.path.join(srcdir, file),\n",
    "                ], capture_output=True)\n",
    "        if completed_process.returncode != 0:\n",
    "            print(f'   ** FAILED on {file} (returncode: {completed_process.returncode}), replacing with template')\n",
    "            shutil.copyfile(template_image, os.path.join(srcdir, file))"
   ]
  },
  {
   "cell_type": "markdown",
   "id": "angry-output",
   "metadata": {},
   "source": [
    "Load drones from source directory, overriding the maximum allowable number."
   ]
  },
  {
   "cell_type": "code",
   "execution_count": null,
   "id": "tired-variable",
   "metadata": {},
   "outputs": [],
   "source": [
    "simulator.clear_drones()\n",
    "failures = simulator.load_drones(srcdir_designs, no_max_num_drones=True)"
   ]
  },
  {
   "cell_type": "markdown",
   "id": "contrary-ghost",
   "metadata": {},
   "source": [
    "List disqualified drones."
   ]
  },
  {
   "cell_type": "code",
   "execution_count": null,
   "id": "civil-bishop",
   "metadata": {},
   "outputs": [],
   "source": [
    "print(f'DISQUALIFIED ({len(failures)}):\\n')\n",
    "for failure in failures:\n",
    "    student = get_student(students, failure)\n",
    "    if student is None:\n",
    "        name = ''\n",
    "    else:\n",
    "        if student['dp4_partner'] is not None:\n",
    "            partner = get_student(students, student['dp4_partner'])\n",
    "            name = f'{student[\"first_name\"]} {student[\"last_name\"]} and {partner[\"first_name\"]} {partner[\"last_name\"]}'\n",
    "        else:\n",
    "            name = f'{student[\"first_name\"]} {student[\"last_name\"]}'\n",
    "    print(f' {failure:10s} : {name}')"
   ]
  },
  {
   "cell_type": "markdown",
   "id": "promising-cylinder",
   "metadata": {},
   "source": [
    "List qualified drones."
   ]
  },
  {
   "cell_type": "code",
   "execution_count": null,
   "id": "hidden-withdrawal",
   "metadata": {},
   "outputs": [],
   "source": [
    "print(f'QUALIFIED ({len(simulator.drones)}):\\n')\n",
    "for drone in simulator.drones:\n",
    "    student = get_student(students, drone['name'])\n",
    "    if student is None:\n",
    "        raise Exception(f'could not find student for this drone name: {drone[\"name\"]}')\n",
    "    if student['dp4_partner'] is not None:\n",
    "        partner = get_student(students, student['dp4_partner'])\n",
    "        name = f'{student[\"first_name\"]} {student[\"last_name\"]} and {partner[\"first_name\"]} {partner[\"last_name\"]}'\n",
    "    else:\n",
    "        name = f'{student[\"first_name\"]} {student[\"last_name\"]}'\n",
    "    print(f' {drone[\"name\"]:10s} : {name}')"
   ]
  },
  {
   "cell_type": "markdown",
   "id": "abroad-immune",
   "metadata": {},
   "source": [
    "Choose number of drones to race in each semifinal."
   ]
  },
  {
   "cell_type": "code",
   "execution_count": null,
   "id": "scientific-python",
   "metadata": {},
   "outputs": [],
   "source": [
    "num_drones_per_semifinal = int(np.ceil(np.sqrt(len(simulator.drones))))\n",
    "num_semifinals = int(np.ceil(len(simulator.drones) / num_drones_per_semifinal))\n",
    "print(f'There will be at most {num_drones_per_semifinal} drones in each of {num_semifinals} semifinals.')"
   ]
  },
  {
   "cell_type": "markdown",
   "id": "forbidden-edgar",
   "metadata": {},
   "source": [
    "Create semifinal races."
   ]
  },
  {
   "cell_type": "code",
   "execution_count": null,
   "id": "fixed-redhead",
   "metadata": {},
   "outputs": [],
   "source": [
    "# Get list of qualified racers\n",
    "qualified = [drone['name'] for drone in simulator.drones]\n",
    "\n",
    "# Copy list of qualified racers for later use\n",
    "list_of_qualified_racers = qualified.copy()\n",
    "\n",
    "# Shuffle order of this list\n",
    "simulator.rng.shuffle(qualified)\n",
    "\n",
    "# Create each race\n",
    "num_races = 0\n",
    "while True:\n",
    "    racers = qualified[-num_drones_per_semifinal:]\n",
    "    qualified = qualified[:-num_drones_per_semifinal]\n",
    "    \n",
    "    srcdir = srcdir_designs\n",
    "    dstdir = f'comp_semifinal_{num_races}'\n",
    "    os.mkdir(dstdir)\n",
    "    for racer in racers:\n",
    "        shutil.copyfile(os.path.join(srcdir, f'{racer}.py'), os.path.join(dstdir, f'{racer}.py'))\n",
    "        shutil.copyfile(os.path.join(srcdir, f'{racer}.png'), os.path.join(dstdir, f'{racer}.png'))\n",
    "    \n",
    "    num_races += 1\n",
    "    if len(qualified) == 0:\n",
    "        break\n",
    "\n",
    "print(f'Created {num_races} semifinal races')\n",
    "\n",
    "os.mkdir('comp_final')"
   ]
  },
  {
   "cell_type": "markdown",
   "id": "58458026",
   "metadata": {},
   "source": [
    "Initialize the race index."
   ]
  },
  {
   "cell_type": "code",
   "execution_count": null,
   "id": "adult-recording",
   "metadata": {},
   "outputs": [],
   "source": [
    "index_of_race = 0"
   ]
  },
  {
   "cell_type": "markdown",
   "id": "affecting-enhancement",
   "metadata": {},
   "source": [
    "## Semifinal races"
   ]
  },
  {
   "cell_type": "markdown",
   "id": "b4b74958",
   "metadata": {},
   "source": [
    "This section of the notebook should be evaluated once for each semifinal race."
   ]
  },
  {
   "cell_type": "markdown",
   "id": "ranging-wallpaper",
   "metadata": {},
   "source": [
    "Print index of current race."
   ]
  },
  {
   "cell_type": "code",
   "execution_count": null,
   "id": "regulation-southwest",
   "metadata": {},
   "outputs": [],
   "source": [
    "print(f'Running semifinal race {index_of_race + 1} / {num_races}')"
   ]
  },
  {
   "cell_type": "markdown",
   "id": "deluxe-asian",
   "metadata": {},
   "source": [
    "Ready..."
   ]
  },
  {
   "cell_type": "code",
   "execution_count": null,
   "id": "independent-navigator",
   "metadata": {},
   "outputs": [],
   "source": [
    "# Name of directory with racers\n",
    "srcdir = f'comp_semifinal_{index_of_race}'\n",
    "\n",
    "# Clear drones\n",
    "simulator.clear_drones()\n",
    "\n",
    "# Move rings\n",
    "simulator.move_rings()\n",
    "\n",
    "# Load drones\n",
    "simulator.load_drones(srcdir)\n",
    "\n",
    "# Reset\n",
    "simulator.reset()"
   ]
  },
  {
   "cell_type": "markdown",
   "id": "average-dependence",
   "metadata": {},
   "source": [
    "Steady..."
   ]
  },
  {
   "cell_type": "code",
   "execution_count": null,
   "id": "subject-ancient",
   "metadata": {
    "scrolled": false
   },
   "outputs": [],
   "source": [
    "simulator.camera_contestview()\n",
    "\n",
    "num_drones = len(simulator.drones)\n",
    "num_columns = 3\n",
    "num_rows = np.ceil(num_drones / num_columns).astype(int)\n",
    "fig, axs = plt.subplots(num_rows, num_columns, figsize=(12, 4 * num_rows))\n",
    "[ax.set_axis_off() for ax in axs.flatten()]\n",
    "for ax, drone in zip(axs.flatten(), simulator.drones):\n",
    "    student = get_student(students, drone['name'])\n",
    "    if student is None:\n",
    "        raise Exception(f'could not find student for this drone name: {drone[\"name\"]}')\n",
    "    if student['dp4_partner'] is not None:\n",
    "        partner = get_student(students, student['dp4_partner'])\n",
    "        name = f'{student[\"first_name\"]} {student[\"last_name\"]}\\n {partner[\"first_name\"]} {partner[\"last_name\"]}'\n",
    "    else:\n",
    "        name = f'{student[\"first_name\"]} {student[\"last_name\"]}'\n",
    "    im = plt.imread(os.path.join(srcdir, f'{drone[\"name\"]}.png'))\n",
    "    ax.imshow(im, aspect='equal')\n",
    "    ax.set_title(f'{drone[\"name\"]}\\n{name}', fontsize=14)\n",
    "    ax.axis('equal')\n",
    "\n",
    "fig.tight_layout(h_pad=5)"
   ]
  },
  {
   "cell_type": "markdown",
   "id": "collected-detail",
   "metadata": {},
   "source": [
    "Go!"
   ]
  },
  {
   "cell_type": "code",
   "execution_count": null,
   "id": "outstanding-mailman",
   "metadata": {},
   "outputs": [],
   "source": [
    "start_time = time.time()\n",
    "simulator.run(max_time=45.0, contestview=True)\n",
    "print(f'real time elapsed: {time.time() - start_time}')"
   ]
  },
  {
   "cell_type": "markdown",
   "id": "separate-circuit",
   "metadata": {},
   "source": [
    "Find winner."
   ]
  },
  {
   "cell_type": "code",
   "execution_count": null,
   "id": "constitutional-invalid",
   "metadata": {},
   "outputs": [],
   "source": [
    "winning_name = None\n",
    "winning_time = np.inf\n",
    "for drone in simulator.drones:\n",
    "    if drone['finish_time'] is None:\n",
    "        continue\n",
    "    if drone['finish_time'] < winning_time:\n",
    "        winning_name = drone['name']\n",
    "        winning_time = drone['finish_time']\n",
    "\n",
    "if winning_name is None:\n",
    "    print(f'There was no winner (nobody finished).')\n",
    "else:\n",
    "    print(f'The winner was {winning_name} with time {winning_time:.2f} seconds')\n",
    "    srcdir = f'comp_semifinal_{index_of_race}'\n",
    "    dstdir = 'comp_final'\n",
    "    shutil.copyfile(os.path.join(srcdir, f'{winning_name}.py'), os.path.join(dstdir, f'{winning_name}.py'))\n",
    "    shutil.copyfile(os.path.join(srcdir, f'{winning_name}.png'), os.path.join(dstdir, f'{winning_name}.png'))\n",
    "    student = get_student(students, winning_name)\n",
    "    if student is None:\n",
    "        raise Exception(f'could not find student for this drone name: {winning_name}')\n",
    "    if student['dp4_partner'] is not None:\n",
    "        partner = get_student(students, student['dp4_partner'])\n",
    "        name = f'{student[\"first_name\"]} {student[\"last_name\"]} and {partner[\"first_name\"]} {partner[\"last_name\"]}'\n",
    "    else:\n",
    "        name = f'{student[\"first_name\"]} {student[\"last_name\"]}'\n",
    "    fig, ax = plt.subplots(1, 1, figsize=(5, 5))\n",
    "    ax.set_axis_off()\n",
    "    im = plt.imread(os.path.join(srcdir, f'{winning_name}.png'))\n",
    "    ax.imshow(im, aspect='equal')\n",
    "    ax.set_title(f'WINNER ({winning_time} seconds)\\n\\n{winning_name}\\n{name}', fontsize=24)\n",
    "    ax.axis('equal')"
   ]
  },
  {
   "cell_type": "markdown",
   "id": "conditional-singles",
   "metadata": {},
   "source": [
    "Increment index of race."
   ]
  },
  {
   "cell_type": "code",
   "execution_count": null,
   "id": "covered-teacher",
   "metadata": {},
   "outputs": [],
   "source": [
    "index_of_race += 1\n",
    "if index_of_race == num_races:\n",
    "    print('STOP! YOU ARE DONE WITH THE SEMIFINALS')"
   ]
  },
  {
   "cell_type": "markdown",
   "id": "authorized-proceeding",
   "metadata": {},
   "source": [
    "## Final race"
   ]
  },
  {
   "cell_type": "markdown",
   "id": "cross-romantic",
   "metadata": {},
   "source": [
    "Ready..."
   ]
  },
  {
   "cell_type": "code",
   "execution_count": null,
   "id": "quiet-plasma",
   "metadata": {},
   "outputs": [],
   "source": [
    "# Name of directory with racers\n",
    "srcdir = f'comp_final'\n",
    "\n",
    "# Clear drones\n",
    "simulator.clear_drones()\n",
    "\n",
    "# Move rings\n",
    "simulator.move_rings()\n",
    "\n",
    "# Load drones\n",
    "simulator.load_drones(srcdir)\n",
    "\n",
    "# Reset\n",
    "simulator.reset()"
   ]
  },
  {
   "cell_type": "markdown",
   "id": "nonprofit-lafayette",
   "metadata": {},
   "source": [
    "Steady..."
   ]
  },
  {
   "cell_type": "code",
   "execution_count": null,
   "id": "conceptual-hostel",
   "metadata": {},
   "outputs": [],
   "source": [
    "simulator.camera_contestview()\n",
    "\n",
    "num_drones = len(simulator.drones)\n",
    "num_columns = 3\n",
    "num_rows = np.ceil(num_drones / num_columns).astype(int)\n",
    "fig, axs = plt.subplots(num_rows, num_columns, figsize=(12, 4 * num_rows))\n",
    "[ax.set_axis_off() for ax in axs.flatten()]\n",
    "for ax, drone in zip(axs.flatten(), simulator.drones):\n",
    "    student = get_student(students, drone['name'])\n",
    "    if student is None:\n",
    "        raise Exception(f'could not find student for this drone name: {drone[\"name\"]}')\n",
    "    if student['dp4_partner'] is not None:\n",
    "        partner = get_student(students, student['dp4_partner'])\n",
    "        name = f'{student[\"first_name\"]} {student[\"last_name\"]}\\n {partner[\"first_name\"]} {partner[\"last_name\"]}'\n",
    "    else:\n",
    "        name = f'{student[\"first_name\"]} {student[\"last_name\"]}'\n",
    "    im = plt.imread(os.path.join(srcdir, f'{drone[\"name\"]}.png'))\n",
    "    ax.imshow(im, aspect='equal')\n",
    "    ax.set_title(f'{drone[\"name\"]}\\n{name}', fontsize=14)\n",
    "    ax.axis('equal')\n",
    "\n",
    "fig.tight_layout(h_pad=5)"
   ]
  },
  {
   "cell_type": "markdown",
   "id": "realistic-joyce",
   "metadata": {},
   "source": [
    "Go!"
   ]
  },
  {
   "cell_type": "code",
   "execution_count": null,
   "id": "final-application",
   "metadata": {},
   "outputs": [],
   "source": [
    "start_time = time.time()\n",
    "simulator.run(max_time=45.0, contestview=True)\n",
    "print(f'real time elapsed: {time.time() - start_time}')"
   ]
  },
  {
   "cell_type": "markdown",
   "id": "superb-geology",
   "metadata": {},
   "source": [
    "Find winner."
   ]
  },
  {
   "cell_type": "code",
   "execution_count": null,
   "id": "parallel-board",
   "metadata": {},
   "outputs": [],
   "source": [
    "winning_name = None\n",
    "winning_time = np.inf\n",
    "for drone in simulator.drones:\n",
    "    if drone['finish_time'] is None:\n",
    "        continue\n",
    "    if drone['finish_time'] < winning_time:\n",
    "        winning_name = drone['name']\n",
    "        winning_time = drone['finish_time']\n",
    "\n",
    "if winning_name is None:\n",
    "    print(f'There was no winner (nobody finished).')\n",
    "else:\n",
    "    print(f'The winner was {winning_name} with time {winning_time:.2f} seconds')\n",
    "    student = get_student(students, winning_name)\n",
    "    if student is None:\n",
    "        raise Exception(f'could not find student for this drone name: {winning_name}')\n",
    "    if student['dp4_partner'] is not None:\n",
    "        partner = get_student(students, student['dp4_partner'])\n",
    "        name = f'{student[\"first_name\"]} {student[\"last_name\"]} and {partner[\"first_name\"]} {partner[\"last_name\"]}'\n",
    "    else:\n",
    "        name = f'{student[\"first_name\"]} {student[\"last_name\"]}'\n",
    "    fig, ax = plt.subplots(1, 1, figsize=(5, 5))\n",
    "    ax.set_axis_off()\n",
    "    im = plt.imread(os.path.join(srcdir, f'{winning_name}.png'))\n",
    "    ax.imshow(im, aspect='equal')\n",
    "    ax.set_title(f'WINNER ({winning_time} seconds)\\n\\n{winning_name}\\n{name}', fontsize=24)\n",
    "    ax.axis('equal')"
   ]
  },
  {
   "cell_type": "markdown",
   "id": "addressed-necessity",
   "metadata": {},
   "source": [
    "## Free-for-all (just for fun)"
   ]
  },
  {
   "cell_type": "markdown",
   "id": "128faa4f",
   "metadata": {},
   "source": [
    "Create free-for-all race."
   ]
  },
  {
   "cell_type": "code",
   "execution_count": null,
   "id": "a99f49a7",
   "metadata": {},
   "outputs": [],
   "source": [
    "racers = list_of_qualified_racers\n",
    "srcdir = srcdir_designs\n",
    "dstdir = f'free_for_all'\n",
    "os.mkdir(dstdir)\n",
    "for racer in racers:\n",
    "    shutil.copyfile(os.path.join(srcdir, f'{racer}.py'), os.path.join(dstdir, f'{racer}.py'))\n",
    "    shutil.copyfile(os.path.join(srcdir, f'{racer}.png'), os.path.join(dstdir, f'{racer}.png'))"
   ]
  },
  {
   "cell_type": "markdown",
   "id": "f07834b3",
   "metadata": {},
   "source": [
    "Ready..."
   ]
  },
  {
   "cell_type": "code",
   "execution_count": null,
   "id": "5daef93a",
   "metadata": {},
   "outputs": [],
   "source": [
    "# Name of directory with racers\n",
    "srcdir = f'free_for_all'\n",
    "\n",
    "# Clear drones\n",
    "simulator.clear_drones()\n",
    "\n",
    "# Move rings\n",
    "simulator.move_rings()\n",
    "\n",
    "# Load drones\n",
    "simulator.load_drones(srcdir)\n",
    "\n",
    "# Reset\n",
    "simulator.reset()"
   ]
  },
  {
   "cell_type": "markdown",
   "id": "6854395a",
   "metadata": {},
   "source": [
    "Steady..."
   ]
  },
  {
   "cell_type": "code",
   "execution_count": null,
   "id": "f73dd157",
   "metadata": {},
   "outputs": [],
   "source": [
    "simulator.camera_contestview()\n",
    "\n",
    "num_drones = len(simulator.drones)\n",
    "num_columns = 3\n",
    "num_rows = np.ceil(num_drones / num_columns).astype(int)\n",
    "fig, axs = plt.subplots(num_rows, num_columns, figsize=(12, 4 * num_rows))\n",
    "[ax.set_axis_off() for ax in axs.flatten()]\n",
    "for ax, drone in zip(axs.flatten(), simulator.drones):\n",
    "    student = get_student(students, drone['name'])\n",
    "    if student is None:\n",
    "        raise Exception(f'could not find student for this drone name: {drone[\"name\"]}')\n",
    "    if student['dp4_partner'] is not None:\n",
    "        partner = get_student(students, student['dp4_partner'])\n",
    "        name = f'{student[\"first_name\"]} {student[\"last_name\"]}\\n {partner[\"first_name\"]} {partner[\"last_name\"]}'\n",
    "    else:\n",
    "        name = f'{student[\"first_name\"]} {student[\"last_name\"]}'\n",
    "    im = plt.imread(os.path.join(srcdir, f'{drone[\"name\"]}.png'))\n",
    "    ax.imshow(im, aspect='equal')\n",
    "    ax.set_title(f'{drone[\"name\"]}\\n{name}', fontsize=14)\n",
    "    ax.axis('equal')\n",
    "\n",
    "fig.tight_layout(h_pad=5)"
   ]
  },
  {
   "cell_type": "markdown",
   "id": "fd741a3a",
   "metadata": {},
   "source": [
    "Go!"
   ]
  },
  {
   "cell_type": "code",
   "execution_count": null,
   "id": "5ae3f674",
   "metadata": {},
   "outputs": [],
   "source": [
    "start_time = time.time()\n",
    "simulator.run(max_time=45.0, contestview=True)\n",
    "print(f'real time elapsed: {time.time() - start_time}')"
   ]
  },
  {
   "cell_type": "markdown",
   "id": "ac46f8e7",
   "metadata": {},
   "source": [
    "Find winner."
   ]
  },
  {
   "cell_type": "code",
   "execution_count": null,
   "id": "06c624d6",
   "metadata": {},
   "outputs": [],
   "source": [
    "winning_name = None\n",
    "winning_time = np.inf\n",
    "for drone in simulator.drones:\n",
    "    if drone['finish_time'] is None:\n",
    "        continue\n",
    "    if drone['finish_time'] < winning_time:\n",
    "        winning_name = drone['name']\n",
    "        winning_time = drone['finish_time']\n",
    "\n",
    "if winning_name is None:\n",
    "    print(f'There was no winner (nobody finished).')\n",
    "else:\n",
    "    print(f'The winner was {winning_name} with time {winning_time:.2f} seconds')\n",
    "    student = get_student(students, winning_name)\n",
    "    if student is None:\n",
    "        raise Exception(f'could not find student for this drone name: {winning_name}')\n",
    "    if student['dp4_partner'] is not None:\n",
    "        partner = get_student(students, student['dp4_partner'])\n",
    "        name = f'{student[\"first_name\"]} {student[\"last_name\"]} and {partner[\"first_name\"]} {partner[\"last_name\"]}'\n",
    "    else:\n",
    "        name = f'{student[\"first_name\"]} {student[\"last_name\"]}'\n",
    "    fig, ax = plt.subplots(1, 1, figsize=(5, 5))\n",
    "    ax.set_axis_off()\n",
    "    im = plt.imread(os.path.join(srcdir, f'{winning_name}.png'))\n",
    "    ax.imshow(im, aspect='equal')\n",
    "    ax.set_title(f'FREE-FOR-ALL WINNER ({winning_time} seconds)\\n\\n{winning_name}\\n{name}', fontsize=24)\n",
    "    ax.axis('equal')"
   ]
  },
  {
   "cell_type": "code",
   "execution_count": null,
   "id": "156376e5",
   "metadata": {},
   "outputs": [],
   "source": []
  }
 ],
 "metadata": {
  "kernelspec": {
   "display_name": "Python 3 (ipykernel)",
   "language": "python",
   "name": "python3"
  },
  "language_info": {
   "codemirror_mode": {
    "name": "ipython",
    "version": 3
   },
   "file_extension": ".py",
   "mimetype": "text/x-python",
   "name": "python",
   "nbconvert_exporter": "python",
   "pygments_lexer": "ipython3",
   "version": "3.10.2"
  }
 },
 "nbformat": 4,
 "nbformat_minor": 5
}

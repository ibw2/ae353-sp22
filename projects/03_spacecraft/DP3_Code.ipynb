{
 "cells": [
  {
   "cell_type": "markdown",
   "id": "05ef2738",
   "metadata": {},
   "source": [
    "# Derive models of spacecraft with star tracker"
   ]
  },
  {
   "cell_type": "markdown",
   "id": "972d4bd5",
   "metadata": {},
   "source": [
    "Do all imports."
   ]
  },
  {
   "cell_type": "code",
   "execution_count": 1,
   "id": "a51d3298",
   "metadata": {},
   "outputs": [
    {
     "name": "stderr",
     "output_type": "stream",
     "text": [
      "pybullet build time: Jan 28 2022 20:18:15\n"
     ]
    }
   ],
   "source": [
    "import sympy as sym\n",
    "import numpy as np\n",
    "from scipy import linalg\n",
    "np.set_printoptions(precision=5, suppress=True)\n",
    "from sympy import *\n",
    "init_printing(use_unicode=True)\n",
    "import random\n",
    "\n",
    "# Standard modules\n",
    "import time\n",
    "import matplotlib.pyplot as plt\n",
    "\n",
    "# My own script (an interface to the simulator)\n",
    "import ae353_spacecraft"
   ]
  },
  {
   "cell_type": "markdown",
   "id": "e42615af",
   "metadata": {},
   "source": [
    "## Dynamic model"
   ]
  },
  {
   "cell_type": "markdown",
   "id": "500ee9a5",
   "metadata": {},
   "source": [
    "Specify the physical parameters:"
   ]
  },
  {
   "cell_type": "code",
   "execution_count": 2,
   "id": "61529fc8",
   "metadata": {},
   "outputs": [],
   "source": [
    "# Mass and MOI of base\n",
    "mb = 6.\n",
    "Jxb = 10.\n",
    "Jyb = 10.\n",
    "Jzb = 16.\n",
    "\n",
    "# Mass and MOI of each wheel\n",
    "mw = 1.\n",
    "Jxw = 0.075\n",
    "Jyw = 0.075\n",
    "Jzw = 0.125\n",
    "lw = 1.1"
   ]
  },
  {
   "cell_type": "markdown",
   "id": "eac276ad",
   "metadata": {},
   "source": [
    "Derive the equations of motion:"
   ]
  },
  {
   "cell_type": "code",
   "execution_count": 3,
   "id": "fa0c13eb",
   "metadata": {},
   "outputs": [],
   "source": [
    "# Define yaw, pitch, roll yaw angles\n",
    "psi, theta, phi = sym.symbols('psi, theta, phi')\n",
    "\n",
    "# Define angular velocities\n",
    "w_x, w_y, w_z = sym.symbols('w_x, w_y, w_z')\n",
    "\n",
    "# Define torques\n",
    "tau_1, tau_2, tau_3, tau_4 = sym.symbols('tau_1, tau_2, tau_3, tau_4')\n",
    "\n",
    "# Compute resultant torques\n",
    "lt = sym.nsimplify(lw) * sym.sqrt(2) / 2\n",
    "T1 = - tau_1 * sym.Matrix([[lt], [0], [lt]])\n",
    "T2 = - tau_2 * sym.Matrix([[-lt], [0], [lt]])\n",
    "T3 = - tau_3 * sym.Matrix([[0], [lt], [lt]])\n",
    "T4 = - tau_4 * sym.Matrix([[0], [-lt], [lt]])\n",
    "T = T1 + T2 + T3 + T4\n",
    "\n",
    "# Define MOI of spacecraft and wheels together\n",
    "Jx = sym.nsimplify(Jxb + 4 * mw * lw**2)\n",
    "Jy = sym.nsimplify(Jyb + 4 * mw * lw**2)\n",
    "Jz = sym.nsimplify(Jzb + 4 * mw * lw**2)\n",
    "\n",
    "# Define rotation matrices\n",
    "Rz = sym.Matrix([[sym.cos(psi), -sym.sin(psi), 0], [sym.sin(psi), sym.cos(psi), 0], [0, 0, 1]])\n",
    "Ry = sym.Matrix([[sym.cos(theta), 0, sym.sin(theta)], [0, 1, 0], [-sym.sin(theta), 0, sym.cos(theta)]])\n",
    "Rx = sym.Matrix([[1, 0, 0], [0, sym.cos(phi), -sym.sin(phi)], [0, sym.sin(phi), sym.cos(phi)]])\n",
    "\n",
    "# Define the transformation from angular velocity to angular rates\n",
    "ex = sym.Matrix([[1], [0], [0]])\n",
    "ey = sym.Matrix([[0], [1], [0]])\n",
    "ez = sym.Matrix([[0], [0], [1]])\n",
    "M = sym.simplify(sym.Matrix.hstack((Ry @ Rx).T @ ez, Rx.T @ ey, ex).inv(), full=True)\n",
    "\n",
    "# Define euler's equations\n",
    "euler = sym.Matrix([[(1 / Jx) * (T[0] + (Jy - Jz) * w_y * w_z)],\n",
    "                   [(1 / Jy) * (T[1] + (Jz - Jx) * w_z * w_x)],\n",
    "                   [(1 / Jz) * (T[2] + (Jx - Jy) * w_x * w_y)]])\n",
    "\n",
    "# Define equations of motion\n",
    "f = sym.simplify(sym.Matrix.vstack(M * sym.Matrix([[w_x], [w_y], [w_z]]), euler), full=True)"
   ]
  },
  {
   "cell_type": "markdown",
   "id": "1b658e31",
   "metadata": {},
   "source": [
    "The equations of motion have this form:\n",
    "\n",
    "$$\\begin{bmatrix} \\dot{\\psi} \\\\ \\dot{\\theta} \\\\ \\dot{\\phi} \\\\ \\dot{w_x} \\\\ \\dot{w_y} \\\\ \\dot{w_z} \\end{bmatrix} = f\\left(\\psi, \\theta, \\phi, w_x, w_y, w_z, \\tau_1, \\tau_2, \\tau_3, \\tau_4\\right)$$\n",
    "\n",
    "Here is the function $f$:"
   ]
  },
  {
   "cell_type": "code",
   "execution_count": 4,
   "id": "8da752c6",
   "metadata": {},
   "outputs": [
    {
     "data": {
      "image/png": "[encoded data removed]",
      "text/latex": [
       "$\\displaystyle \\left[\\begin{matrix}\\frac{w_{y} \\sin{\\left(\\phi \\right)} + w_{z} \\cos{\\left(\\phi \\right)}}{\\cos{\\left(\\theta \\right)}}\\\\w_{y} \\cos{\\left(\\phi \\right)} - w_{z} \\sin{\\left(\\phi \\right)}\\\\w_{x} + w_{y} \\sin{\\left(\\phi \\right)} \\tan{\\left(\\theta \\right)} + w_{z} \\cos{\\left(\\phi \\right)} \\tan{\\left(\\theta \\right)}\\\\- \\frac{55 \\sqrt{2} \\tau_{1}}{1484} + \\frac{55 \\sqrt{2} \\tau_{2}}{1484} - \\frac{150 w_{y} w_{z}}{371}\\\\- \\frac{55 \\sqrt{2} \\tau_{3}}{1484} + \\frac{55 \\sqrt{2} \\tau_{4}}{1484} + \\frac{150 w_{x} w_{z}}{371}\\\\- \\frac{55 \\sqrt{2} \\left(\\tau_{1} + \\tau_{2} + \\tau_{3} + \\tau_{4}\\right)}{2084}\\end{matrix}\\right]$"
      ],
      "text/plain": [
       "⎡         w_y⋅sin(φ) + w_z⋅cos(φ)          ⎤\n",
       "⎢         ───────────────────────          ⎥\n",
       "⎢                  cos(θ)                  ⎥\n",
       "⎢                                          ⎥\n",
       "⎢         w_y⋅cos(φ) - w_z⋅sin(φ)          ⎥\n",
       "⎢                                          ⎥\n",
       "⎢wₓ + w_y⋅sin(φ)⋅tan(θ) + w_z⋅cos(φ)⋅tan(θ)⎥\n",
       "⎢                                          ⎥\n",
       "⎢     55⋅√2⋅τ₁   55⋅√2⋅τ₂   150⋅w_y⋅w_z    ⎥\n",
       "⎢   - ──────── + ──────── - ───────────    ⎥\n",
       "⎢       1484       1484         371        ⎥\n",
       "⎢                                          ⎥\n",
       "⎢      55⋅√2⋅τ₃   55⋅√2⋅τ₄   150⋅wₓ⋅w_z    ⎥\n",
       "⎢    - ──────── + ──────── + ──────────    ⎥\n",
       "⎢        1484       1484        371        ⎥\n",
       "⎢                                          ⎥\n",
       "⎢       -55⋅√2⋅(τ₁ + τ₂ + τ₃ + τ₄)         ⎥\n",
       "⎢       ───────────────────────────        ⎥\n",
       "⎣                   2084                   ⎦"
      ]
     },
     "execution_count": 4,
     "metadata": {},
     "output_type": "execute_result"
    }
   ],
   "source": [
    "f"
   ]
  },
  {
   "cell_type": "code",
   "execution_count": 5,
   "id": "5557addc",
   "metadata": {},
   "outputs": [],
   "source": [
    "#equilibrium points\n",
    "psi_eq   = 0.   # yaw\n",
    "theta_eq = 0.   # pitch\n",
    "phi_eq   = 0.   # roll\n",
    "w_x_eq   = 0.\n",
    "w_y_eq   = 0.\n",
    "w_z_eq   = 0.\n",
    "\n",
    "tau_1_eq = 0.   # front wheel torque\n",
    "tau_2_eq = 0.   # back wheel torque\n",
    "tau_3_eq = 0.   # left wheel torque\n",
    "tau_4_eq = 0.   # right wheel torque\n",
    "\n",
    "# verify validity of equilibrium points\n",
    "f_num = sym.lambdify((phi, theta, psi, w_x, w_y, w_z, tau_1, tau_2, tau_3, tau_4), f)\n",
    "if not np.allclose(f_num(phi_eq, theta_eq, psi_eq, w_x_eq, w_y_eq, w_z_eq, tau_1_eq, tau_2_eq, tau_3_eq, tau_4_eq), 0.):\n",
    "    raise Exception('equilibrium point is invalid')"
   ]
  },
  {
   "cell_type": "code",
   "execution_count": 6,
   "id": "5d798e59",
   "metadata": {},
   "outputs": [
    {
     "name": "stdout",
     "output_type": "stream",
     "text": [
      "A (state matrix): \n",
      " [[ 0.  0.  0.  0.  0.  1.]\n",
      " [ 0.  0. -0.  0.  1. -0.]\n",
      " [ 0.  0.  0.  1.  0.  0.]\n",
      " [ 0.  0.  0.  0. -0. -0.]\n",
      " [ 0.  0.  0.  0.  0.  0.]\n",
      " [ 0.  0.  0.  0.  0.  0.]]\n",
      "\n",
      " B (input matrix): \n",
      " [[ 0.       0.       0.       0.     ]\n",
      " [ 0.       0.       0.       0.     ]\n",
      " [ 0.       0.       0.       0.     ]\n",
      " [-0.05241  0.05241  0.       0.     ]\n",
      " [ 0.       0.      -0.05241  0.05241]\n",
      " [-0.03732 -0.03732 -0.03732 -0.03732]]\n"
     ]
    }
   ],
   "source": [
    "A_num = sym.lambdify((psi, theta, phi, w_x, w_y, w_z, tau_1, tau_2, tau_3, tau_4),\n",
    "                     f.jacobian([psi, theta, phi, w_x, w_y, w_z]))\n",
    "A = A_num(psi_eq, theta_eq, phi_eq, w_x_eq, w_y_eq, w_z_eq, tau_1_eq, tau_2_eq, tau_3_eq, tau_4_eq)\n",
    "print('A (state matrix): \\n', A)\n",
    "\n",
    "B_num = sym.lambdify((psi, theta, phi, w_x, w_y, w_z, tau_1, tau_2, tau_3, tau_4),\n",
    "                     f.jacobian([tau_1, tau_2, tau_3, tau_4]))\n",
    "B = B_num(psi_eq, theta_eq, phi_eq, w_x_eq, w_y_eq, w_z_eq, tau_1_eq, tau_2_eq, tau_3_eq, tau_4_eq)\n",
    "print('\\n B (input matrix): \\n', B)"
   ]
  },
  {
   "cell_type": "markdown",
   "id": "62457e2b",
   "metadata": {},
   "source": [
    "### Controllability ###"
   ]
  },
  {
   "cell_type": "code",
   "execution_count": 7,
   "id": "d485aa4c",
   "metadata": {},
   "outputs": [],
   "source": [
    "# defining W = [B, AB, (A^2)B, ... (A^n-1)B]\n",
    "W_c = B\n",
    "for i in range(1, A.shape[0]):\n",
    "    col_c = np.linalg.matrix_power(A, i) @ B\n",
    "    W_c = np.block([W_c, col_c])\n",
    "\n",
    "# compare the rank of W to the size of A;\n",
    "if not np.allclose(np.linalg.matrix_rank(W_c), A.shape[0]):\n",
    "    raise Exception('System is not controllable (not full rank)')"
   ]
  },
  {
   "cell_type": "markdown",
   "id": "1b3ccbfe",
   "metadata": {},
   "source": [
    "### LQR ###"
   ]
  },
  {
   "cell_type": "code",
   "execution_count": 8,
   "id": "ccc53ea8",
   "metadata": {},
   "outputs": [],
   "source": [
    "# define lqr function\n",
    "def lqr(a, b, q, r):\n",
    "    P = linalg.solve_continuous_are(a, b, q, r)\n",
    "    return linalg.inv(r) @ b.T @ P"
   ]
  },
  {
   "cell_type": "code",
   "execution_count": 9,
   "id": "a3fa68bb",
   "metadata": {},
   "outputs": [],
   "source": [
    "# psi, theta, phi, wx, wy, wz\n",
    "Qc = np.diag([100000.,100000.,100000.,10000.,10000.,10000.]) \n",
    "\n",
    "# torques\n",
    "Rc = np.diag([1000.,1000.,1000.,1000.])\n",
    "\n",
    "K = lqr(A,B,Qc,Rc)\n",
    "\n",
    "# verify all eigvals have negative real parts\n",
    "F = A - B @ K\n",
    "s = linalg.eigvals(F)\n",
    "if not (((s.real < 0).all())):\n",
    "    raise Exception('eigval real parts are not all negative ')"
   ]
  },
  {
   "cell_type": "markdown",
   "id": "f6cac498",
   "metadata": {},
   "source": [
    "## Sensor model"
   ]
  },
  {
   "cell_type": "markdown",
   "id": "a440c900",
   "metadata": {},
   "source": [
    "Symbolic variables for right ascension $\\alpha$ and declination $\\delta$ of each star:"
   ]
  },
  {
   "cell_type": "code",
   "execution_count": 10,
   "id": "ac75cc2e",
   "metadata": {},
   "outputs": [],
   "source": [
    "alpha, delta = sym.symbols('alpha, delta')"
   ]
  },
  {
   "cell_type": "markdown",
   "id": "c966584a",
   "metadata": {},
   "source": [
    "Specify the physical parameters:"
   ]
  },
  {
   "cell_type": "code",
   "execution_count": 11,
   "id": "59e4c1e0",
   "metadata": {},
   "outputs": [],
   "source": [
    "# Scope radius\n",
    "r = 0.8 / 2.1"
   ]
  },
  {
   "cell_type": "markdown",
   "id": "20a08768",
   "metadata": {},
   "source": [
    "Derive the sensor model:"
   ]
  },
  {
   "cell_type": "code",
   "execution_count": 12,
   "id": "d93e6fd2",
   "metadata": {},
   "outputs": [],
   "source": [
    "# Position of star in space frame\n",
    "p_star_in_space = sym.Matrix([[sym.cos(alpha) * sym.cos(delta)],\n",
    "                              [sym.sin(alpha) * sym.cos(delta)],\n",
    "                              [sym.sin(delta)]])\n",
    "\n",
    "# Orientation of body frame in space frame\n",
    "R_body_in_space = Rz * Ry * Rx\n",
    "\n",
    "# Position of star in body frame (assuming origin of body and space frames are the same)\n",
    "p_star_in_body = R_body_in_space.T * p_star_in_space\n",
    "\n",
    "# Position of star in image frame\n",
    "p_star_in_image = (1 / sym.nsimplify(r)) * sym.Matrix([[p_star_in_body[1] / p_star_in_body[0]],\n",
    "                                                       [p_star_in_body[2] / p_star_in_body[0]]])\n",
    "\n",
    "# Sensor model for each star\n",
    "g = sym.simplify(p_star_in_image, full=True)"
   ]
  },
  {
   "cell_type": "markdown",
   "id": "995339f7",
   "metadata": {},
   "source": [
    "The sensor model has this form for each star:\n",
    "\n",
    "$$\\zeta = g(\\psi, \\theta, \\phi, \\alpha, \\delta)$$\n",
    "\n",
    "Here is the function $g$:"
   ]
  },
  {
   "cell_type": "code",
   "execution_count": 13,
   "id": "ce06c836",
   "metadata": {},
   "outputs": [
    {
     "data": {
      "image/png": "[encoded data removed]",
      "text/latex": [
       "$\\displaystyle \\left[\\begin{matrix}\\frac{21 \\left(\\sin{\\left(\\delta \\right)} \\sin{\\left(\\phi \\right)} \\cos{\\left(\\theta \\right)} + \\sin{\\left(\\phi \\right)} \\sin{\\left(\\theta \\right)} \\cos{\\left(\\delta \\right)} \\cos{\\left(\\alpha - \\psi \\right)} + \\sin{\\left(\\alpha - \\psi \\right)} \\cos{\\left(\\delta \\right)} \\cos{\\left(\\phi \\right)}\\right)}{8 \\left(- \\sin{\\left(\\delta \\right)} \\sin{\\left(\\theta \\right)} + \\cos{\\left(\\delta \\right)} \\cos{\\left(\\theta \\right)} \\cos{\\left(\\alpha - \\psi \\right)}\\right)}\\\\\\frac{21 \\left(\\sin{\\left(\\delta \\right)} \\cos{\\left(\\phi \\right)} \\cos{\\left(\\theta \\right)} - \\sin{\\left(\\phi \\right)} \\sin{\\left(\\alpha - \\psi \\right)} \\cos{\\left(\\delta \\right)} + \\sin{\\left(\\theta \\right)} \\cos{\\left(\\delta \\right)} \\cos{\\left(\\phi \\right)} \\cos{\\left(\\alpha - \\psi \\right)}\\right)}{8 \\left(- \\sin{\\left(\\delta \\right)} \\sin{\\left(\\theta \\right)} + \\cos{\\left(\\delta \\right)} \\cos{\\left(\\theta \\right)} \\cos{\\left(\\alpha - \\psi \\right)}\\right)}\\end{matrix}\\right]$"
      ],
      "text/plain": [
       "⎡21⋅(sin(δ)⋅sin(φ)⋅cos(θ) + sin(φ)⋅sin(θ)⋅cos(δ)⋅cos(α - ψ) + sin(α - ψ)⋅cos(δ\n",
       "⎢─────────────────────────────────────────────────────────────────────────────\n",
       "⎢                    8⋅(-sin(δ)⋅sin(θ) + cos(δ)⋅cos(θ)⋅cos(α - ψ))            \n",
       "⎢                                                                             \n",
       "⎢21⋅(sin(δ)⋅cos(φ)⋅cos(θ) - sin(φ)⋅sin(α - ψ)⋅cos(δ) + sin(θ)⋅cos(δ)⋅cos(φ)⋅co\n",
       "⎢─────────────────────────────────────────────────────────────────────────────\n",
       "⎣                    8⋅(-sin(δ)⋅sin(θ) + cos(δ)⋅cos(θ)⋅cos(α - ψ))            \n",
       "\n",
       ")⋅cos(φ))⎤\n",
       "─────────⎥\n",
       "         ⎥\n",
       "         ⎥\n",
       "s(α - ψ))⎥\n",
       "─────────⎥\n",
       "         ⎦"
      ]
     },
     "execution_count": 13,
     "metadata": {},
     "output_type": "execute_result"
    }
   ],
   "source": [
    "g"
   ]
  },
  {
   "cell_type": "markdown",
   "id": "598a618d",
   "metadata": {},
   "source": [
    "### Observer ###"
   ]
  },
  {
   "cell_type": "code",
   "execution_count": 14,
   "id": "403ef782",
   "metadata": {},
   "outputs": [],
   "source": [
    "# star ascension and declination from simulator\n",
    "\n",
    "alpha1 = -.1\n",
    "delta1 = -.15\n",
    "\n",
    "alpha2 = 0.\n",
    "delta2 = -.15\n",
    "\n",
    "alpha3 = .1\n",
    "delta3 = -.15\n",
    "\n",
    "alpha4 = 0.\n",
    "delta4 =0.\n",
    "\n",
    "alpha5 = -.1\n",
    "delta5 = .15\n",
    "\n",
    "alpha6 = 0.\n",
    "delta6 = .15\n",
    "\n",
    "alpha7 = .1\n",
    "delta7 = .15"
   ]
  },
  {
   "cell_type": "code",
   "execution_count": 15,
   "id": "cd9109cd",
   "metadata": {},
   "outputs": [
    {
     "name": "stdout",
     "output_type": "stream",
     "text": [
      "Ge: \n",
      " [[-0.26338]\n",
      " [-0.39872]\n",
      " [ 0.     ]\n",
      " [-0.39673]\n",
      " [ 0.26338]\n",
      " [-0.39872]\n",
      " [ 0.     ]\n",
      " [ 0.     ]\n",
      " [-0.26338]\n",
      " [ 0.39872]\n",
      " [ 0.     ]\n",
      " [ 0.39673]\n",
      " [ 0.26338]\n",
      " [ 0.39872]]\n"
     ]
    }
   ],
   "source": [
    "\n",
    "G = sym.Matrix([[g.subs([(alpha, alpha1), (delta, delta1)])],\n",
    "                [g.subs([(alpha, alpha2), (delta, delta2)])],\n",
    "                [g.subs([(alpha, alpha3), (delta, delta3)])],\n",
    "                [g.subs([(alpha, alpha4), (delta, delta4)])],\n",
    "                [g.subs([(alpha, alpha5), (delta, delta5)])],\n",
    "                [g.subs([(alpha, alpha6), (delta, delta6)])],\n",
    "                [g.subs([(alpha, alpha7), (delta, delta7)])]])\n",
    "\n",
    "G_num = sym.lambdify((phi, theta, psi), G)\n",
    "Ge = G_num(phi_eq, theta_eq, psi_eq)\n",
    "\n",
    "# sensor equilibrium should not be zero\n",
    "print('Ge: \\n', Ge)"
   ]
  },
  {
   "cell_type": "code",
   "execution_count": 16,
   "id": "e2237228",
   "metadata": {},
   "outputs": [
    {
     "name": "stdout",
     "output_type": "stream",
     "text": [
      "C: \n",
      " [[-0.39872  0.04001 -2.65143  0.       0.       0.     ]\n",
      " [ 0.26338  2.68556 -0.04001  0.       0.       0.     ]\n",
      " [-0.39673  0.      -2.625    0.       0.       0.     ]\n",
      " [ 0.       2.68496  0.       0.       0.       0.     ]\n",
      " [-0.39872 -0.04001 -2.65143  0.       0.       0.     ]\n",
      " [-0.26338  2.68556  0.04001  0.       0.       0.     ]\n",
      " [ 0.       0.      -2.625    0.       0.       0.     ]\n",
      " [ 0.       2.625    0.       0.       0.       0.     ]\n",
      " [ 0.39872 -0.04001 -2.65143  0.       0.       0.     ]\n",
      " [ 0.26338  2.68556  0.04001  0.       0.       0.     ]\n",
      " [ 0.39673  0.      -2.625    0.       0.       0.     ]\n",
      " [ 0.       2.68496  0.       0.       0.       0.     ]\n",
      " [ 0.39872  0.04001 -2.65143  0.       0.       0.     ]\n",
      " [-0.26338  2.68556 -0.04001  0.       0.       0.     ]]\n"
     ]
    }
   ],
   "source": [
    "C_num = sym.lambdify((phi, theta, psi), G.jacobian([phi, theta, psi, w_x, w_y, w_z]))\n",
    "C = C_num(phi_eq, theta_eq, psi_eq)\n",
    "print('C: \\n', C)"
   ]
  },
  {
   "cell_type": "code",
   "execution_count": 17,
   "id": "fbf12234",
   "metadata": {},
   "outputs": [],
   "source": [
    "W_o = C.transpose()\n",
    "for i in range(1, A.shape[0]):\n",
    "    col_o = np.linalg.matrix_power(A.transpose(), i) @ C.transpose()\n",
    "    W_o = np.block([W_o, col_o])\n",
    "\n",
    "# compare the rank of W to the size of A;\n",
    "if not np.allclose(np.linalg.matrix_rank(W_o), A.shape[0]):\n",
    "    raise Exception('System is not observable (not full rank)')"
   ]
  },
  {
   "cell_type": "code",
   "execution_count": 18,
   "id": "dc641dd4",
   "metadata": {},
   "outputs": [
    {
     "name": "stdout",
     "output_type": "stream",
     "text": [
      "L: \n",
      " [[-0.60253  0.39801 -0.59952  0.      -0.60253 -0.39801  0.       0.\n",
      "   0.60253  0.39801  0.59952  0.       0.60253 -0.39801]\n",
      " [ 0.0064   0.42939  0.       0.42929 -0.0064   0.42939  0.       0.4197\n",
      "  -0.0064   0.42939  0.       0.42929  0.0064   0.42939]\n",
      " [-0.43047 -0.0065  -0.42618 -0.      -0.43047  0.0065  -0.42618 -0.\n",
      "  -0.43047  0.0065  -0.42618 -0.      -0.43047 -0.0065 ]\n",
      " [-0.37956 -0.00573 -0.37577 -0.      -0.37956  0.00573 -0.37577 -0.\n",
      "  -0.37956  0.00573 -0.37577 -0.      -0.37956 -0.00573]\n",
      " [ 0.00565  0.37917  0.       0.37909 -0.00565  0.37917 -0.       0.37062\n",
      "  -0.00565  0.37917 -0.       0.37909  0.00565  0.37917]\n",
      " [-0.35978  0.23766 -0.35798  0.      -0.35978 -0.23766 -0.       0.\n",
      "   0.35978  0.23766  0.35798  0.       0.35978 -0.23766]]\n"
     ]
    }
   ],
   "source": [
    "Qo = np.diag([1., 1., 1., 1., 1., 1., 1., 1., 1., 1., 1., 1., 1., 1.])\n",
    "Ro = np.eye(6)\n",
    "\n",
    "Roi = linalg.inv(Ro)\n",
    "Qoi = linalg.inv(Qo)\n",
    "\n",
    "Lt = lqr(A.T, C.T, Roi, Qoi)\n",
    "L = Lt.T\n",
    "print('L: \\n', L)"
   ]
  },
  {
   "cell_type": "markdown",
   "id": "b43180bf",
   "metadata": {},
   "source": [
    "# Simulator #"
   ]
  },
  {
   "cell_type": "code",
   "execution_count": 19,
   "id": "83ee6d1b",
   "metadata": {},
   "outputs": [],
   "source": [
    "# # constructor, only run once\n",
    "simulator = ae353_spacecraft.Simulator(\n",
    "    display=False,\n",
    "    seed=5,\n",
    ")"
   ]
  },
  {
   "cell_type": "markdown",
   "id": "dc811d84",
   "metadata": {},
   "source": [
    "$$\\hat{\\dot{x}} = A\\hat{x} + Bu - L(C\\hat{x} - y)$$"
   ]
  },
  {
   "cell_type": "code",
   "execution_count": 20,
   "id": "0fc3d8ea",
   "metadata": {},
   "outputs": [],
   "source": [
    "class Controller:\n",
    "    def __init__(self):\n",
    "        pass\n",
    "    \n",
    "    def reset(self):\n",
    "        pass\n",
    "    \n",
    "    def run(self, t, star_meas):\n",
    "        \"\"\"\n",
    "        star_meas is a 1d array of length 14 - the image coordinates\n",
    "        y_i and z_i of the i'th star (for i = 0, ..., 6) are at index\n",
    "        2*i and 2*i+1 of this array, respectively\n",
    "        \"\"\"\n",
    "        \n",
    "        # FIXME: replace the following lines\n",
    "        xhat = np.zeros((6,1))\n",
    "        dt = 0.01\n",
    "        \n",
    "    \n",
    "        u = -K @ xhat\n",
    "        xhat_old = xhat\n",
    "        for i in range(xhat.shape[0]):\n",
    "            if np.isnan(xhat[i,0]):\n",
    "                xhat[i,0] = xhat_old[i,0]\n",
    "        out = np.array([star_meas])\n",
    "\n",
    "        xhat += dt * (A @ xhat + B @ u - L @ (C @ xhat - (out.T - Ge)))\n",
    "\n",
    "        u = -K @ xhat\n",
    "        \n",
    "        front_torque = u[0,0]\n",
    "        back_torque = u[1,0]\n",
    "        left_torque = u[2,0]\n",
    "        right_torque = u[3,0]\n",
    "        \n",
    "        \n",
    "        return front_torque, back_torque, left_torque, right_torque"
   ]
  },
  {
   "cell_type": "code",
   "execution_count": 21,
   "id": "fa644a06",
   "metadata": {},
   "outputs": [],
   "source": [
    "controller = Controller()"
   ]
  },
  {
   "cell_type": "code",
   "execution_count": 22,
   "id": "4167c9ec",
   "metadata": {},
   "outputs": [],
   "source": [
    "simulator.reset(\n",
    "    orientation={\n",
    "        'yaw': 0.,\n",
    "        'pitch': 0.,\n",
    "        'roll': 0.,\n",
    "    },\n",
    "    angular_velocity={\n",
    "        'x': 0.,\n",
    "        'y': 0.,\n",
    "        'z': 0.,\n",
    "    },\n",
    "    scope_noise=0.1,\n",
    ")"
   ]
  },
  {
   "cell_type": "code",
   "execution_count": 23,
   "id": "6fee1fbe",
   "metadata": {},
   "outputs": [],
   "source": [
    "controller.reset()"
   ]
  },
  {
   "cell_type": "code",
   "execution_count": 24,
   "id": "acb81d8b",
   "metadata": {},
   "outputs": [],
   "source": [
    "data = simulator.run(\n",
    "    controller,           # <-- required (an instance of your Controller class)\n",
    "    max_time=10.0,         # <-- optional (how long you want to run the simulation in seconds)\n",
    "    data_filename=None,   # <-- optional (name of file to which you want data saved, e.g., 'my_data.json')\n",
    "    video_filename=None,  # <-- optional (name of file to which you want video saved, e.g., 'my_video.mov')\n",
    "    print_debug=False,    # <-- optional (whether to print debug text - this is recommended when saving video)\n",
    ")"
   ]
  },
  {
   "cell_type": "code",
   "execution_count": 25,
   "id": "d571a3f6",
   "metadata": {},
   "outputs": [
    {
     "data": {
      "image/png": "[encoded data removed]",
      "text/plain": [
       "<Figure size 576x576 with 1 Axes>"
      ]
     },
     "metadata": {
      "needs_background": "light"
     },
     "output_type": "display_data"
    }
   ],
   "source": [
    "# Get snapshot as height x width x 4 numpy array of RGBA values\n",
    "rgba = simulator.snapshot()\n",
    "\n",
    "# Display snapshot\n",
    "plt.figure(figsize=(8, 8))\n",
    "plt.imshow(rgba)\n",
    "\n",
    "# Save snapshot\n",
    "plt.imsave('my_snapshot.png', rgba)"
   ]
  },
  {
   "cell_type": "code",
   "execution_count": 26,
   "id": "5d02e614",
   "metadata": {},
   "outputs": [
    {
     "data": {
      "image/png": "[encoded data removed]",
      "text/plain": [
       "<Figure size 720x720 with 4 Axes>"
      ]
     },
     "metadata": {
      "needs_background": "light"
     },
     "output_type": "display_data"
    }
   ],
   "source": [
    "# Create a figure with three subplots, all of which share the same x-axis\n",
    "fig, (ax_ori, ax_vel, ax_rwvel, ax_rwtau) = plt.subplots(4, 1, figsize=(10, 10), sharex=True)\n",
    "\n",
    "# Plot yaw, pitch, roll angles\n",
    "ax_ori.plot(data['t'], data['yaw'], label='yaw (rad)', linewidth=4)\n",
    "ax_ori.plot(data['t'], data['pitch'], label='pitch (rad)', linewidth=4)\n",
    "ax_ori.plot(data['t'], data['roll'], label='roll (rad)', linewidth=4)\n",
    "ax_ori.grid()\n",
    "ax_ori.legend(fontsize=16, ncol=3, loc='upper right')\n",
    "ax_ori.tick_params(labelsize=14)\n",
    "\n",
    "# Plot x, y, z components of angular velocity\n",
    "ax_vel.plot(data['t'], data['w_x'], label=r'$w_x$ (rad/s)', linewidth=4)\n",
    "ax_vel.plot(data['t'], data['w_y'], label=r'$w_y$ (rad/s)', linewidth=4)\n",
    "ax_vel.plot(data['t'], data['w_z'], label=r'$w_z$ (rad/s)', linewidth=4)\n",
    "ax_vel.grid()\n",
    "ax_vel.legend(fontsize=16, ncol=3, loc='upper right')\n",
    "ax_vel.tick_params(labelsize=14)\n",
    "\n",
    "# Plot angular velocity of each reaction wheel\n",
    "ax_rwvel.plot(data['t'], data['front_velocity'], label=r'$v_1$ (rad/s)', linewidth=4)\n",
    "ax_rwvel.plot(data['t'], data['back_velocity'], label=r'$v_2$ (rad/s)', linewidth=4)\n",
    "ax_rwvel.plot(data['t'], data['left_velocity'], label=r'$v_3$ (rad/s)', linewidth=4)\n",
    "ax_rwvel.plot(data['t'], data['right_velocity'], label=r'$v_4$ (rad/s)', linewidth=4)\n",
    "ax_rwvel.plot(\n",
    "    data['t'], np.ones_like(data['t']) * simulator.v_max,\n",
    "    ':', linewidth=4, color='C4', zorder=0,\n",
    ")\n",
    "ax_rwvel.plot(\n",
    "    data['t'], -np.ones_like(data['t']) * simulator.v_max,\n",
    "    ':', linewidth=4, color='C4', zorder=0,\n",
    ")\n",
    "ax_rwvel.grid()\n",
    "ax_rwvel.legend(fontsize=16, ncol=4, loc='upper right')\n",
    "ax_rwvel.tick_params(labelsize=14)\n",
    "ax_rwvel.set_ylim(-1.2 * simulator.v_max, 1.2 * simulator.v_max)\n",
    "\n",
    "# Plot torque applied to each reaction wheel\n",
    "ax_rwtau.plot(data['t'], data['front_torque'], label=r'$\\tau_1$ (N-m)', linewidth=4)\n",
    "ax_rwtau.plot(data['t'], data['back_torque'], label=r'$\\tau_2$ (N-m)', linewidth=4)\n",
    "ax_rwtau.plot(data['t'], data['left_torque'], label=r'$\\tau_3$ (N-m)', linewidth=4)\n",
    "ax_rwtau.plot(data['t'], data['right_torque'], label=r'$\\tau_4$ (N-m)', linewidth=4)\n",
    "ax_rwtau.plot(\n",
    "    data['t'], np.ones_like(data['t']) * simulator.tau_max,\n",
    "    ':', linewidth=4, color='C4', zorder=0,\n",
    ")\n",
    "ax_rwtau.plot(\n",
    "    data['t'], -np.ones_like(data['t']) * simulator.tau_max,\n",
    "    ':', linewidth=4, color='C4', zorder=0,\n",
    ")\n",
    "ax_rwtau.grid()\n",
    "ax_rwtau.legend(fontsize=16, ncol=4, loc='upper right')\n",
    "ax_rwtau.tick_params(labelsize=14)\n",
    "\n",
    "\n",
    "# Set x-axis properties (only need to do this on the last\n",
    "# subplot since all subplots share the same x-axis)\n",
    "ax_rwtau.set_xlabel('time (s)', fontsize=20)\n",
    "ax_rwtau.set_xlim([data['t'][0], 10]) #data['t'][-1]]\n",
    "ax_rwtau.set_ylim(-1.2 * simulator.tau_max, 1.2 * simulator.tau_max)\n",
    "\n",
    "# Make the arrangement of subplots look nice\n",
    "fig.tight_layout()"
   ]
  },
  {
   "cell_type": "code",
   "execution_count": 27,
   "id": "e6462144",
   "metadata": {},
   "outputs": [],
   "source": [
    "n = 200                          # number of sims\n",
    "times = np.zeros(n)\n",
    "steps = np.zeros(n)\n",
    "yaws = np.empty(n)\n",
    "rolls = np.empty(n)\n",
    "pitchs = np.empty(n)\n",
    "\n",
    "for i in range (n):\n",
    "#     controller = Controller()\n",
    "    simulator.reset(\n",
    "        orientation={\n",
    "            'yaw': 0.,\n",
    "            'pitch': 0.,\n",
    "            'roll': 0.,\n",
    "        },\n",
    "        angular_velocity={\n",
    "            'x': 0.,\n",
    "            'y': 0.,\n",
    "            'z': 0.,\n",
    "        },\n",
    "        scope_noise=0.1,\n",
    "    )\n",
    "    controller.reset()\n",
    "    \n",
    "    data = simulator.run(\n",
    "        controller,           \n",
    "        max_time=50.0,         \n",
    "        data_filename=None,   \n",
    "        video_filename=None,  \n",
    "        print_debug=False,   \n",
    "    )\n",
    "    \n",
    "    # save time data\n",
    "    times[i] =  data['t'][-1]\n",
    "    steps[i] = data['t'].size\n",
    "    \n",
    "    # calculate root mean square error of instance\n",
    "    yaws[i] = np.sum(data['yaw']**2) / data['t'].size\n",
    "    rolls[i] = np.sum(data['roll']**2) / data['t'].size\n",
    "    pitchs[i] = np.sum(data['pitch']**2) / data['t'].size"
   ]
  },
  {
   "cell_type": "code",
   "execution_count": 28,
   "id": "d39816a4",
   "metadata": {},
   "outputs": [
    {
     "data": {
      "image/png": "[encoded data removed]",
      "text/latex": [
       "$\\displaystyle 7.3644$"
      ],
      "text/plain": [
       "7.364400000000001"
      ]
     },
     "execution_count": 28,
     "metadata": {},
     "output_type": "execute_result"
    }
   ],
   "source": [
    "np.average(times)"
   ]
  },
  {
   "cell_type": "code",
   "execution_count": 29,
   "id": "8849427f",
   "metadata": {},
   "outputs": [
    {
     "data": {
      "image/png": "[encoded data removed]",
      "text/plain": [
       "<Figure size 432x288 with 1 Axes>"
      ]
     },
     "metadata": {
      "needs_background": "light"
     },
     "output_type": "display_data"
    },
    {
     "data": {
      "image/png": "[encoded data removed]",
      "text/plain": [
       "<Figure size 432x288 with 1 Axes>"
      ]
     },
     "metadata": {
      "needs_background": "light"
     },
     "output_type": "display_data"
    },
    {
     "data": {
      "image/png": "[encoded data removed]",
      "text/plain": [
       "<Figure size 432x288 with 1 Axes>"
      ]
     },
     "metadata": {
      "needs_background": "light"
     },
     "output_type": "display_data"
    }
   ],
   "source": [
    "# plot RMSE values\n",
    "\n",
    "plt.hist(yaws)\n",
    "plt.xlabel('RMSE in yaw axis')\n",
    "plt.ylabel('# of simulations')\n",
    "plt.show()\n",
    "\n",
    "plt.hist(rolls)\n",
    "plt.xlabel('RMSE in roll axis')\n",
    "plt.ylabel('# of simulations')\n",
    "plt.show()\n",
    "\n",
    "plt.hist(pitchs)\n",
    "plt.xlabel('RMSE in pitch axis')\n",
    "plt.ylabel('# of simulations')\n",
    "plt.show()"
   ]
  },
  {
   "cell_type": "markdown",
   "id": "60855c3e",
   "metadata": {},
   "source": [
    "Now, we perturb the initial angular velocities."
   ]
  },
  {
   "cell_type": "code",
   "execution_count": 30,
   "id": "4e7afe74",
   "metadata": {},
   "outputs": [
    {
     "data": {
      "image/png": "[encoded data removed]",
      "text/plain": [
       "<Figure size 432x288 with 1 Axes>"
      ]
     },
     "metadata": {
      "needs_background": "light"
     },
     "output_type": "display_data"
    }
   ],
   "source": [
    "n = 200                          # number of sims\n",
    "times = np.zeros(n)\n",
    "\n",
    "for i in range (n):\n",
    "#     controller = Controller()\n",
    "    simulator.reset(\n",
    "        orientation={\n",
    "            'yaw': 0.,\n",
    "            'pitch': 0.,\n",
    "            'roll': 0.,\n",
    "        },\n",
    "        angular_velocity={\n",
    "            'x': .01,\n",
    "            'y': .01,\n",
    "            'z': .01,\n",
    "        },\n",
    "        scope_noise=0.1,\n",
    "    )\n",
    "    controller.reset()\n",
    "    \n",
    "    data = simulator.run(\n",
    "        controller,           # <-- required (an instance of your Controller class)\n",
    "        max_time=50.0,         # <-- optional (how long you want to run the simulation in seconds)\n",
    "        data_filename=None,   # <-- optional (name of file to which you want data saved, e.g., 'my_data.json')\n",
    "        video_filename=None,  # <-- optional (name of file to which you want video saved, e.g., 'my_video.mov')\n",
    "        print_debug=False,    # <-- optional (whether to print debug text - this is recommended when saving video)\n",
    "    )\n",
    "\n",
    "    times[i] =  data['t'][-1]\n",
    "    \n",
    "plt.hist(times)\n",
    "plt.xlabel('simulation runtime (s)')\n",
    "plt.ylabel('# of simulations')\n",
    "plt.show()"
   ]
  }
 ],
 "metadata": {
  "kernelspec": {
   "display_name": "Python 3 (ipykernel)",
   "language": "python",
   "name": "python3"
  },
  "language_info": {
   "codemirror_mode": {
    "name": "ipython",
    "version": 3
   },
   "file_extension": ".py",
   "mimetype": "text/x-python",
   "name": "python",
   "nbconvert_exporter": "python",
   "pygments_lexer": "ipython3",
   "version": "3.10.2"
  }
 },
 "nbformat": 4,
 "nbformat_minor": 5
}
